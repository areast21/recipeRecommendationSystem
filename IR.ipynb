{
 "cells": [
  {
   "cell_type": "code",
   "execution_count": 1,
   "id": "2816dc9e",
   "metadata": {},
   "outputs": [],
   "source": [
    "import pandas as pd\n",
    "import numpy as np\n",
    "import re\n",
    "import spacy"
   ]
  },
  {
   "cell_type": "code",
   "execution_count": 2,
   "id": "c8aa7950",
   "metadata": {},
   "outputs": [],
   "source": [
    "allrecipes_raw = pd.read_json('recipes_raw_nosource_ar.json')\n",
    "epicurious_raw = pd.read_json('recipes_raw_nosource_epi.json')\n",
    "foodnetwork_raw = pd.read_json('recipes_raw_nosource_fn.json')"
   ]
  },
  {
   "cell_type": "code",
   "execution_count": 3,
   "id": "c7d1f526",
   "metadata": {},
   "outputs": [
    {
     "data": {
      "text/html": [
       "<div>\n",
       "<style scoped>\n",
       "    .dataframe tbody tr th:only-of-type {\n",
       "        vertical-align: middle;\n",
       "    }\n",
       "\n",
       "    .dataframe tbody tr th {\n",
       "        vertical-align: top;\n",
       "    }\n",
       "\n",
       "    .dataframe thead th {\n",
       "        text-align: right;\n",
       "    }\n",
       "</style>\n",
       "<table border=\"1\" class=\"dataframe\">\n",
       "  <thead>\n",
       "    <tr style=\"text-align: right;\">\n",
       "      <th></th>\n",
       "      <th>title</th>\n",
       "      <th>ingredients</th>\n",
       "      <th>instructions</th>\n",
       "      <th>picture_link</th>\n",
       "    </tr>\n",
       "  </thead>\n",
       "  <tbody>\n",
       "    <tr>\n",
       "      <th>0</th>\n",
       "      <td>Slow Cooker Chicken and Dumplings</td>\n",
       "      <td>[4 skinless, boneless chicken breast halves AD...</td>\n",
       "      <td>Place the chicken, butter, soup, and onion in ...</td>\n",
       "      <td>55lznCYBbs2mT8BTx6BTkLhynGHzM.S</td>\n",
       "    </tr>\n",
       "    <tr>\n",
       "      <th>1</th>\n",
       "      <td>Awesome Slow Cooker Pot Roast</td>\n",
       "      <td>[2 (10.75 ounce) cans condensed cream of mushr...</td>\n",
       "      <td>In a slow cooker, mix cream of mushroom soup, ...</td>\n",
       "      <td>QyrvGdGNMBA2lDdciY0FjKu.77MM0Oe</td>\n",
       "    </tr>\n",
       "    <tr>\n",
       "      <th>2</th>\n",
       "      <td>Brown Sugar Meatloaf</td>\n",
       "      <td>[1/2 cup packed brown sugar ADVERTISEMENT, 1/2...</td>\n",
       "      <td>Preheat oven to 350 degrees F (175 degrees C)....</td>\n",
       "      <td>LVW1DI0vtlCrpAhNSEQysE9i/7rJG56</td>\n",
       "    </tr>\n",
       "    <tr>\n",
       "      <th>3</th>\n",
       "      <td>Best Chocolate Chip Cookies</td>\n",
       "      <td>[1 cup butter, softened ADVERTISEMENT, 1 cup w...</td>\n",
       "      <td>Preheat oven to 350 degrees F (175 degrees C)....</td>\n",
       "      <td>0SO5kdWOV94j6EfAVwMMYRM3yNN8eRi</td>\n",
       "    </tr>\n",
       "    <tr>\n",
       "      <th>4</th>\n",
       "      <td>Homemade Mac and Cheese Casserole</td>\n",
       "      <td>[8 ounces whole wheat rotini pasta ADVERTISEME...</td>\n",
       "      <td>Preheat oven to 350 degrees F. Line a 2-quart ...</td>\n",
       "      <td>YCnbhplMgiraW4rUXcybgSEZinSgljm</td>\n",
       "    </tr>\n",
       "    <tr>\n",
       "      <th>...</th>\n",
       "      <td>...</td>\n",
       "      <td>...</td>\n",
       "      <td>...</td>\n",
       "      <td>...</td>\n",
       "    </tr>\n",
       "    <tr>\n",
       "      <th>39797</th>\n",
       "      <td>Thai-Indian Veggie Soup</td>\n",
       "      <td>[2 teaspoons olive oil ADVERTISEMENT, 1/4 cup ...</td>\n",
       "      <td>Heat oil in a large pot over medium heat. Add ...</td>\n",
       "      <td>qE58a7Z1Au0GXvPO188iHZZVqna9hLa</td>\n",
       "    </tr>\n",
       "    <tr>\n",
       "      <th>39798</th>\n",
       "      <td>Coconut Milk-Free Panang Curry Chicken</td>\n",
       "      <td>[2 cups light cream ADVERTISEMENT, 1/4 teaspoo...</td>\n",
       "      <td>Heat cream and coconut extract in a skillet or...</td>\n",
       "      <td>qE58a7Z1Au0GXvPO188iHZZVqna9hLa</td>\n",
       "    </tr>\n",
       "    <tr>\n",
       "      <th>39799</th>\n",
       "      <td>Cooked Cold Salad</td>\n",
       "      <td>[3 tablespoons bacon grease ADVERTISEMENT, 2 c...</td>\n",
       "      <td>Heat bacon grease in a skillet over medium-hig...</td>\n",
       "      <td>qE58a7Z1Au0GXvPO188iHZZVqna9hLa</td>\n",
       "    </tr>\n",
       "    <tr>\n",
       "      <th>39800</th>\n",
       "      <td>Easy Eggnog Creme Brulee</td>\n",
       "      <td>[4 egg yolks ADVERTISEMENT, 1 tablespoon white...</td>\n",
       "      <td>Preheat oven to 350 degrees F (175 degrees C)....</td>\n",
       "      <td>qE58a7Z1Au0GXvPO188iHZZVqna9hLa</td>\n",
       "    </tr>\n",
       "    <tr>\n",
       "      <th>39801</th>\n",
       "      <td>Super Power Stovetop Granola</td>\n",
       "      <td>[1/4 cup canola oil ADVERTISEMENT, 3 cups quic...</td>\n",
       "      <td>Heat 1/4 cup canola oil in large skillet over ...</td>\n",
       "      <td>qE58a7Z1Au0GXvPO188iHZZVqna9hLa</td>\n",
       "    </tr>\n",
       "  </tbody>\n",
       "</table>\n",
       "<p>39802 rows × 4 columns</p>\n",
       "</div>"
      ],
      "text/plain": [
       "                                        title  \\\n",
       "0           Slow Cooker Chicken and Dumplings   \n",
       "1               Awesome Slow Cooker Pot Roast   \n",
       "2                        Brown Sugar Meatloaf   \n",
       "3                 Best Chocolate Chip Cookies   \n",
       "4           Homemade Mac and Cheese Casserole   \n",
       "...                                       ...   \n",
       "39797                 Thai-Indian Veggie Soup   \n",
       "39798  Coconut Milk-Free Panang Curry Chicken   \n",
       "39799                       Cooked Cold Salad   \n",
       "39800                Easy Eggnog Creme Brulee   \n",
       "39801            Super Power Stovetop Granola   \n",
       "\n",
       "                                             ingredients  \\\n",
       "0      [4 skinless, boneless chicken breast halves AD...   \n",
       "1      [2 (10.75 ounce) cans condensed cream of mushr...   \n",
       "2      [1/2 cup packed brown sugar ADVERTISEMENT, 1/2...   \n",
       "3      [1 cup butter, softened ADVERTISEMENT, 1 cup w...   \n",
       "4      [8 ounces whole wheat rotini pasta ADVERTISEME...   \n",
       "...                                                  ...   \n",
       "39797  [2 teaspoons olive oil ADVERTISEMENT, 1/4 cup ...   \n",
       "39798  [2 cups light cream ADVERTISEMENT, 1/4 teaspoo...   \n",
       "39799  [3 tablespoons bacon grease ADVERTISEMENT, 2 c...   \n",
       "39800  [4 egg yolks ADVERTISEMENT, 1 tablespoon white...   \n",
       "39801  [1/4 cup canola oil ADVERTISEMENT, 3 cups quic...   \n",
       "\n",
       "                                            instructions  \\\n",
       "0      Place the chicken, butter, soup, and onion in ...   \n",
       "1      In a slow cooker, mix cream of mushroom soup, ...   \n",
       "2      Preheat oven to 350 degrees F (175 degrees C)....   \n",
       "3      Preheat oven to 350 degrees F (175 degrees C)....   \n",
       "4      Preheat oven to 350 degrees F. Line a 2-quart ...   \n",
       "...                                                  ...   \n",
       "39797  Heat oil in a large pot over medium heat. Add ...   \n",
       "39798  Heat cream and coconut extract in a skillet or...   \n",
       "39799  Heat bacon grease in a skillet over medium-hig...   \n",
       "39800  Preheat oven to 350 degrees F (175 degrees C)....   \n",
       "39801  Heat 1/4 cup canola oil in large skillet over ...   \n",
       "\n",
       "                          picture_link  \n",
       "0      55lznCYBbs2mT8BTx6BTkLhynGHzM.S  \n",
       "1      QyrvGdGNMBA2lDdciY0FjKu.77MM0Oe  \n",
       "2      LVW1DI0vtlCrpAhNSEQysE9i/7rJG56  \n",
       "3      0SO5kdWOV94j6EfAVwMMYRM3yNN8eRi  \n",
       "4      YCnbhplMgiraW4rUXcybgSEZinSgljm  \n",
       "...                                ...  \n",
       "39797  qE58a7Z1Au0GXvPO188iHZZVqna9hLa  \n",
       "39798  qE58a7Z1Au0GXvPO188iHZZVqna9hLa  \n",
       "39799  qE58a7Z1Au0GXvPO188iHZZVqna9hLa  \n",
       "39800  qE58a7Z1Au0GXvPO188iHZZVqna9hLa  \n",
       "39801  qE58a7Z1Au0GXvPO188iHZZVqna9hLa  \n",
       "\n",
       "[39802 rows x 4 columns]"
      ]
     },
     "execution_count": 3,
     "metadata": {},
     "output_type": "execute_result"
    }
   ],
   "source": [
    "allrecipes = allrecipes_raw.copy().T.reset_index().drop(columns = ['index'])\n",
    "allrecipes"
   ]
  },
  {
   "cell_type": "code",
   "execution_count": 4,
   "id": "df28a9ad",
   "metadata": {},
   "outputs": [
    {
     "data": {
      "text/html": [
       "<div>\n",
       "<style scoped>\n",
       "    .dataframe tbody tr th:only-of-type {\n",
       "        vertical-align: middle;\n",
       "    }\n",
       "\n",
       "    .dataframe tbody tr th {\n",
       "        vertical-align: top;\n",
       "    }\n",
       "\n",
       "    .dataframe thead th {\n",
       "        text-align: right;\n",
       "    }\n",
       "</style>\n",
       "<table border=\"1\" class=\"dataframe\">\n",
       "  <thead>\n",
       "    <tr style=\"text-align: right;\">\n",
       "      <th></th>\n",
       "      <th>ingredients</th>\n",
       "      <th>picture_link</th>\n",
       "      <th>instructions</th>\n",
       "      <th>title</th>\n",
       "    </tr>\n",
       "  </thead>\n",
       "  <tbody>\n",
       "    <tr>\n",
       "      <th>0</th>\n",
       "      <td>[12 egg whites, 12 egg yolks, 1 1/2 cups sugar...</td>\n",
       "      <td>None</td>\n",
       "      <td>Beat the egg whites until stiff, gradually add...</td>\n",
       "      <td>Christmas Eggnog</td>\n",
       "    </tr>\n",
       "    <tr>\n",
       "      <th>1</th>\n",
       "      <td>[18 fresh chestnuts, 2 1/2 pounds veal stew me...</td>\n",
       "      <td>None</td>\n",
       "      <td>Preheat oven to 400°F. Using small sharp knife...</td>\n",
       "      <td>Veal, Carrot and Chestnut Ragoût</td>\n",
       "    </tr>\n",
       "    <tr>\n",
       "      <th>2</th>\n",
       "      <td>[2 tablespoons unsalted butter, softened, 4 or...</td>\n",
       "      <td>3xjktRst3I5lDZ2Z5kTOtqQyzZFFN9u</td>\n",
       "      <td>Preheat the oven to 350°F. Spread the softened...</td>\n",
       "      <td>Caramelized Bread Pudding with Chocolate and C...</td>\n",
       "    </tr>\n",
       "    <tr>\n",
       "      <th>3</th>\n",
       "      <td>[3/4 pound Stilton, crumbled (about 3 cups) an...</td>\n",
       "      <td>None</td>\n",
       "      <td>In a food processor blend the Stilton, the cre...</td>\n",
       "      <td>Sherried Stilton and Green Peppercorn Spread</td>\n",
       "    </tr>\n",
       "    <tr>\n",
       "      <th>4</th>\n",
       "      <td>[2 cups (about 9 1/2 ounces) whole almonds, to...</td>\n",
       "      <td>None</td>\n",
       "      <td>Position rack in center of oven and preheat to...</td>\n",
       "      <td>Almond-Chocolate Macaroons</td>\n",
       "    </tr>\n",
       "    <tr>\n",
       "      <th>...</th>\n",
       "      <td>...</td>\n",
       "      <td>...</td>\n",
       "      <td>...</td>\n",
       "      <td>...</td>\n",
       "    </tr>\n",
       "    <tr>\n",
       "      <th>25318</th>\n",
       "      <td>[5 cups (about) canned beef broth, 1 cup lenti...</td>\n",
       "      <td>None</td>\n",
       "      <td>Bring 4 cups broth and lentils to boil in larg...</td>\n",
       "      <td>Spinach and Lentil Soup</td>\n",
       "    </tr>\n",
       "    <tr>\n",
       "      <th>25319</th>\n",
       "      <td>[1/2 teaspoon turmeric, 2 cups water, 3/4 poun...</td>\n",
       "      <td>16DvpBiksnvbWPCSdZUcPY3oFvgo0py</td>\n",
       "      <td>Stir together turmeric, 1 1/2 cups water, and ...</td>\n",
       "      <td>Fresh Cheese with Spinach</td>\n",
       "    </tr>\n",
       "    <tr>\n",
       "      <th>25320</th>\n",
       "      <td>[1 medium jalapeño, thinly sliced, 2 garlic cl...</td>\n",
       "      <td>m6IALrfAOr5KDVpqKcvUNpa7VermSIq</td>\n",
       "      <td>Marinate and cook the steak: Combine jalapeño,...</td>\n",
       "      <td>Jalapeño and Lime–Marinated Skirt Steak Tacos</td>\n",
       "    </tr>\n",
       "    <tr>\n",
       "      <th>25321</th>\n",
       "      <td>[1 1/2 cups almond flour or almond meal, 1/2 c...</td>\n",
       "      <td>wq1Cqtl16W8QpuFaXrDdB2kGsUn9Ku6</td>\n",
       "      <td>Make the cakes: Preheat oven to 350°F. Line th...</td>\n",
       "      <td>Semolina–Lemon Syrup Cakes</td>\n",
       "    </tr>\n",
       "    <tr>\n",
       "      <th>25322</th>\n",
       "      <td>[1 1/2 pounds plum tomatoes, coarsely chopped ...</td>\n",
       "      <td>DIZQ16bhYvwR7yKtaNOQf3XkgD0vbCK</td>\n",
       "      <td>Preheat oven to 400°F. Combine plum tomatoes, ...</td>\n",
       "      <td>Chicken Cacciatore</td>\n",
       "    </tr>\n",
       "  </tbody>\n",
       "</table>\n",
       "<p>25323 rows × 4 columns</p>\n",
       "</div>"
      ],
      "text/plain": [
       "                                             ingredients  \\\n",
       "0      [12 egg whites, 12 egg yolks, 1 1/2 cups sugar...   \n",
       "1      [18 fresh chestnuts, 2 1/2 pounds veal stew me...   \n",
       "2      [2 tablespoons unsalted butter, softened, 4 or...   \n",
       "3      [3/4 pound Stilton, crumbled (about 3 cups) an...   \n",
       "4      [2 cups (about 9 1/2 ounces) whole almonds, to...   \n",
       "...                                                  ...   \n",
       "25318  [5 cups (about) canned beef broth, 1 cup lenti...   \n",
       "25319  [1/2 teaspoon turmeric, 2 cups water, 3/4 poun...   \n",
       "25320  [1 medium jalapeño, thinly sliced, 2 garlic cl...   \n",
       "25321  [1 1/2 cups almond flour or almond meal, 1/2 c...   \n",
       "25322  [1 1/2 pounds plum tomatoes, coarsely chopped ...   \n",
       "\n",
       "                          picture_link  \\\n",
       "0                                 None   \n",
       "1                                 None   \n",
       "2      3xjktRst3I5lDZ2Z5kTOtqQyzZFFN9u   \n",
       "3                                 None   \n",
       "4                                 None   \n",
       "...                                ...   \n",
       "25318                             None   \n",
       "25319  16DvpBiksnvbWPCSdZUcPY3oFvgo0py   \n",
       "25320  m6IALrfAOr5KDVpqKcvUNpa7VermSIq   \n",
       "25321  wq1Cqtl16W8QpuFaXrDdB2kGsUn9Ku6   \n",
       "25322  DIZQ16bhYvwR7yKtaNOQf3XkgD0vbCK   \n",
       "\n",
       "                                            instructions  \\\n",
       "0      Beat the egg whites until stiff, gradually add...   \n",
       "1      Preheat oven to 400°F. Using small sharp knife...   \n",
       "2      Preheat the oven to 350°F. Spread the softened...   \n",
       "3      In a food processor blend the Stilton, the cre...   \n",
       "4      Position rack in center of oven and preheat to...   \n",
       "...                                                  ...   \n",
       "25318  Bring 4 cups broth and lentils to boil in larg...   \n",
       "25319  Stir together turmeric, 1 1/2 cups water, and ...   \n",
       "25320  Marinate and cook the steak: Combine jalapeño,...   \n",
       "25321  Make the cakes: Preheat oven to 350°F. Line th...   \n",
       "25322  Preheat oven to 400°F. Combine plum tomatoes, ...   \n",
       "\n",
       "                                                   title  \n",
       "0                                      Christmas Eggnog   \n",
       "1                      Veal, Carrot and Chestnut Ragoût   \n",
       "2      Caramelized Bread Pudding with Chocolate and C...  \n",
       "3          Sherried Stilton and Green Peppercorn Spread   \n",
       "4                            Almond-Chocolate Macaroons   \n",
       "...                                                  ...  \n",
       "25318                           Spinach and Lentil Soup   \n",
       "25319                         Fresh Cheese with Spinach   \n",
       "25320     Jalapeño and Lime–Marinated Skirt Steak Tacos   \n",
       "25321                        Semolina–Lemon Syrup Cakes   \n",
       "25322                                Chicken Cacciatore   \n",
       "\n",
       "[25323 rows x 4 columns]"
      ]
     },
     "execution_count": 4,
     "metadata": {},
     "output_type": "execute_result"
    }
   ],
   "source": [
    "epicurious = epicurious_raw.copy().T.reset_index().drop(columns = ['index'])\n",
    "epicurious"
   ]
  },
  {
   "cell_type": "code",
   "execution_count": 5,
   "id": "4e311e6d",
   "metadata": {},
   "outputs": [
    {
     "data": {
      "text/html": [
       "<div>\n",
       "<style scoped>\n",
       "    .dataframe tbody tr th:only-of-type {\n",
       "        vertical-align: middle;\n",
       "    }\n",
       "\n",
       "    .dataframe tbody tr th {\n",
       "        vertical-align: top;\n",
       "    }\n",
       "\n",
       "    .dataframe thead th {\n",
       "        text-align: right;\n",
       "    }\n",
       "</style>\n",
       "<table border=\"1\" class=\"dataframe\">\n",
       "  <thead>\n",
       "    <tr style=\"text-align: right;\">\n",
       "      <th></th>\n",
       "      <th>instructions</th>\n",
       "      <th>ingredients</th>\n",
       "      <th>title</th>\n",
       "      <th>picture_link</th>\n",
       "    </tr>\n",
       "  </thead>\n",
       "  <tbody>\n",
       "    <tr>\n",
       "      <th>0</th>\n",
       "      <td>Toss ingredients lightly and spoon into a butt...</td>\n",
       "      <td>[1/2 cup celery, finely chopped, 1 small green...</td>\n",
       "      <td>Grammie Hamblet's Deviled Crab</td>\n",
       "      <td>None</td>\n",
       "    </tr>\n",
       "    <tr>\n",
       "      <th>1</th>\n",
       "      <td>Watch how to make this recipe.\\nSprinkle the s...</td>\n",
       "      <td>[2 pounds skirt steak, cut into 1/2-inch dice,...</td>\n",
       "      <td>Infineon Raceway Baked Beans</td>\n",
       "      <td>Ja5uaD8Q7m7vvtWwk2.48dr1eCre/qi</td>\n",
       "    </tr>\n",
       "    <tr>\n",
       "      <th>2</th>\n",
       "      <td>In a large saucepan, let the beans soak in eno...</td>\n",
       "      <td>[1 1/2 cups dried black beans, picked over and...</td>\n",
       "      <td>Southwestern Black Bean Dip</td>\n",
       "      <td>None</td>\n",
       "    </tr>\n",
       "    <tr>\n",
       "      <th>3</th>\n",
       "      <td>Watch how to make this recipe.\\nPreheat the ov...</td>\n",
       "      <td>[1 1/4 pounds ground chuck, One 15-ounce can t...</td>\n",
       "      <td>Sour Cream Noodle Bake</td>\n",
       "      <td>nm/WxalB.VjEZSa0iX9RuZ8xI51Y7bS</td>\n",
       "    </tr>\n",
       "    <tr>\n",
       "      <th>4</th>\n",
       "      <td>Special equipment: sushi mat\\nCook the brown r...</td>\n",
       "      <td>[1 cup rice, brown, medium-grain, cooked, 1/2-...</td>\n",
       "      <td>Sushi Renovation</td>\n",
       "      <td>None</td>\n",
       "    </tr>\n",
       "    <tr>\n",
       "      <th>...</th>\n",
       "      <td>...</td>\n",
       "      <td>...</td>\n",
       "      <td>...</td>\n",
       "      <td>...</td>\n",
       "    </tr>\n",
       "    <tr>\n",
       "      <th>60034</th>\n",
       "      <td>Watch how to make this recipe.\\nPreheat a gril...</td>\n",
       "      <td>[4 ears fresh corn, 2 heads Belgian endive, 2 ...</td>\n",
       "      <td>Summer Corn Salad</td>\n",
       "      <td>G9XPV1I0nULIbwS76f..0AIq2DsfI3u</td>\n",
       "    </tr>\n",
       "    <tr>\n",
       "      <th>60035</th>\n",
       "      <td>Preheat the broiler. Cut the tomatoes in 1/2 c...</td>\n",
       "      <td>[4 large plum tomatoes, Salt and sugar, 1 1/2 ...</td>\n",
       "      <td>Zucchini Stuffed Tomatoes</td>\n",
       "      <td>nA7V5iQqaFcIEQQ0/MKqVdUioieXjPu</td>\n",
       "    </tr>\n",
       "    <tr>\n",
       "      <th>60036</th>\n",
       "      <td>Heat the oil and butter in a large skillet ove...</td>\n",
       "      <td>[3 tablespoons olive oil, 2 tablespoons unsalt...</td>\n",
       "      <td>Pepper Pasta Quick Cook</td>\n",
       "      <td>None</td>\n",
       "    </tr>\n",
       "    <tr>\n",
       "      <th>60037</th>\n",
       "      <td>Preheat oven to 350 degrees. On the top half o...</td>\n",
       "      <td>[8 ounces butter, 8 ounces bittersweet chocola...</td>\n",
       "      <td>Chocolate Cake with Armagnac Ice Cream</td>\n",
       "      <td>None</td>\n",
       "    </tr>\n",
       "    <tr>\n",
       "      <th>60038</th>\n",
       "      <td>Watch how to make this recipe.\\nIn a medium sa...</td>\n",
       "      <td>[3 (10.5-ounce) cans restaurant-style condense...</td>\n",
       "      <td>Crabby Bisque</td>\n",
       "      <td>CTfEq6AD/JpKf4ys4awoYB4hpdzgXqm</td>\n",
       "    </tr>\n",
       "  </tbody>\n",
       "</table>\n",
       "<p>60039 rows × 4 columns</p>\n",
       "</div>"
      ],
      "text/plain": [
       "                                            instructions  \\\n",
       "0      Toss ingredients lightly and spoon into a butt...   \n",
       "1      Watch how to make this recipe.\\nSprinkle the s...   \n",
       "2      In a large saucepan, let the beans soak in eno...   \n",
       "3      Watch how to make this recipe.\\nPreheat the ov...   \n",
       "4      Special equipment: sushi mat\\nCook the brown r...   \n",
       "...                                                  ...   \n",
       "60034  Watch how to make this recipe.\\nPreheat a gril...   \n",
       "60035  Preheat the broiler. Cut the tomatoes in 1/2 c...   \n",
       "60036  Heat the oil and butter in a large skillet ove...   \n",
       "60037  Preheat oven to 350 degrees. On the top half o...   \n",
       "60038  Watch how to make this recipe.\\nIn a medium sa...   \n",
       "\n",
       "                                             ingredients  \\\n",
       "0      [1/2 cup celery, finely chopped, 1 small green...   \n",
       "1      [2 pounds skirt steak, cut into 1/2-inch dice,...   \n",
       "2      [1 1/2 cups dried black beans, picked over and...   \n",
       "3      [1 1/4 pounds ground chuck, One 15-ounce can t...   \n",
       "4      [1 cup rice, brown, medium-grain, cooked, 1/2-...   \n",
       "...                                                  ...   \n",
       "60034  [4 ears fresh corn, 2 heads Belgian endive, 2 ...   \n",
       "60035  [4 large plum tomatoes, Salt and sugar, 1 1/2 ...   \n",
       "60036  [3 tablespoons olive oil, 2 tablespoons unsalt...   \n",
       "60037  [8 ounces butter, 8 ounces bittersweet chocola...   \n",
       "60038  [3 (10.5-ounce) cans restaurant-style condense...   \n",
       "\n",
       "                                        title                     picture_link  \n",
       "0              Grammie Hamblet's Deviled Crab                             None  \n",
       "1                Infineon Raceway Baked Beans  Ja5uaD8Q7m7vvtWwk2.48dr1eCre/qi  \n",
       "2                 Southwestern Black Bean Dip                             None  \n",
       "3                      Sour Cream Noodle Bake  nm/WxalB.VjEZSa0iX9RuZ8xI51Y7bS  \n",
       "4                            Sushi Renovation                             None  \n",
       "...                                       ...                              ...  \n",
       "60034                       Summer Corn Salad  G9XPV1I0nULIbwS76f..0AIq2DsfI3u  \n",
       "60035               Zucchini Stuffed Tomatoes  nA7V5iQqaFcIEQQ0/MKqVdUioieXjPu  \n",
       "60036                 Pepper Pasta Quick Cook                             None  \n",
       "60037  Chocolate Cake with Armagnac Ice Cream                             None  \n",
       "60038                           Crabby Bisque  CTfEq6AD/JpKf4ys4awoYB4hpdzgXqm  \n",
       "\n",
       "[60039 rows x 4 columns]"
      ]
     },
     "execution_count": 5,
     "metadata": {},
     "output_type": "execute_result"
    }
   ],
   "source": [
    "foodnetwork = foodnetwork_raw.copy().T.reset_index().drop(columns = ['index'])\n",
    "foodnetwork"
   ]
  },
  {
   "cell_type": "code",
   "execution_count": 6,
   "id": "22e77a81",
   "metadata": {},
   "outputs": [
    {
     "data": {
      "text/html": [
       "<div>\n",
       "<style scoped>\n",
       "    .dataframe tbody tr th:only-of-type {\n",
       "        vertical-align: middle;\n",
       "    }\n",
       "\n",
       "    .dataframe tbody tr th {\n",
       "        vertical-align: top;\n",
       "    }\n",
       "\n",
       "    .dataframe thead th {\n",
       "        text-align: right;\n",
       "    }\n",
       "</style>\n",
       "<table border=\"1\" class=\"dataframe\">\n",
       "  <thead>\n",
       "    <tr style=\"text-align: right;\">\n",
       "      <th></th>\n",
       "      <th>title</th>\n",
       "      <th>ingredients</th>\n",
       "      <th>instructions</th>\n",
       "      <th>picture_link</th>\n",
       "    </tr>\n",
       "  </thead>\n",
       "  <tbody>\n",
       "    <tr>\n",
       "      <th>0</th>\n",
       "      <td>Slow Cooker Chicken and Dumplings</td>\n",
       "      <td>[4 skinless, boneless chicken breast halves AD...</td>\n",
       "      <td>Place the chicken, butter, soup, and onion in ...</td>\n",
       "      <td>55lznCYBbs2mT8BTx6BTkLhynGHzM.S</td>\n",
       "    </tr>\n",
       "    <tr>\n",
       "      <th>1</th>\n",
       "      <td>Awesome Slow Cooker Pot Roast</td>\n",
       "      <td>[2 (10.75 ounce) cans condensed cream of mushr...</td>\n",
       "      <td>In a slow cooker, mix cream of mushroom soup, ...</td>\n",
       "      <td>QyrvGdGNMBA2lDdciY0FjKu.77MM0Oe</td>\n",
       "    </tr>\n",
       "    <tr>\n",
       "      <th>2</th>\n",
       "      <td>Brown Sugar Meatloaf</td>\n",
       "      <td>[1/2 cup packed brown sugar ADVERTISEMENT, 1/2...</td>\n",
       "      <td>Preheat oven to 350 degrees F (175 degrees C)....</td>\n",
       "      <td>LVW1DI0vtlCrpAhNSEQysE9i/7rJG56</td>\n",
       "    </tr>\n",
       "    <tr>\n",
       "      <th>3</th>\n",
       "      <td>Best Chocolate Chip Cookies</td>\n",
       "      <td>[1 cup butter, softened ADVERTISEMENT, 1 cup w...</td>\n",
       "      <td>Preheat oven to 350 degrees F (175 degrees C)....</td>\n",
       "      <td>0SO5kdWOV94j6EfAVwMMYRM3yNN8eRi</td>\n",
       "    </tr>\n",
       "    <tr>\n",
       "      <th>4</th>\n",
       "      <td>Homemade Mac and Cheese Casserole</td>\n",
       "      <td>[8 ounces whole wheat rotini pasta ADVERTISEME...</td>\n",
       "      <td>Preheat oven to 350 degrees F. Line a 2-quart ...</td>\n",
       "      <td>YCnbhplMgiraW4rUXcybgSEZinSgljm</td>\n",
       "    </tr>\n",
       "    <tr>\n",
       "      <th>...</th>\n",
       "      <td>...</td>\n",
       "      <td>...</td>\n",
       "      <td>...</td>\n",
       "      <td>...</td>\n",
       "    </tr>\n",
       "    <tr>\n",
       "      <th>125159</th>\n",
       "      <td>Summer Corn Salad</td>\n",
       "      <td>[4 ears fresh corn, 2 heads Belgian endive, 2 ...</td>\n",
       "      <td>Watch how to make this recipe.\\nPreheat a gril...</td>\n",
       "      <td>G9XPV1I0nULIbwS76f..0AIq2DsfI3u</td>\n",
       "    </tr>\n",
       "    <tr>\n",
       "      <th>125160</th>\n",
       "      <td>Zucchini Stuffed Tomatoes</td>\n",
       "      <td>[4 large plum tomatoes, Salt and sugar, 1 1/2 ...</td>\n",
       "      <td>Preheat the broiler. Cut the tomatoes in 1/2 c...</td>\n",
       "      <td>nA7V5iQqaFcIEQQ0/MKqVdUioieXjPu</td>\n",
       "    </tr>\n",
       "    <tr>\n",
       "      <th>125161</th>\n",
       "      <td>Pepper Pasta Quick Cook</td>\n",
       "      <td>[3 tablespoons olive oil, 2 tablespoons unsalt...</td>\n",
       "      <td>Heat the oil and butter in a large skillet ove...</td>\n",
       "      <td>None</td>\n",
       "    </tr>\n",
       "    <tr>\n",
       "      <th>125162</th>\n",
       "      <td>Chocolate Cake with Armagnac Ice Cream</td>\n",
       "      <td>[8 ounces butter, 8 ounces bittersweet chocola...</td>\n",
       "      <td>Preheat oven to 350 degrees. On the top half o...</td>\n",
       "      <td>None</td>\n",
       "    </tr>\n",
       "    <tr>\n",
       "      <th>125163</th>\n",
       "      <td>Crabby Bisque</td>\n",
       "      <td>[3 (10.5-ounce) cans restaurant-style condense...</td>\n",
       "      <td>Watch how to make this recipe.\\nIn a medium sa...</td>\n",
       "      <td>CTfEq6AD/JpKf4ys4awoYB4hpdzgXqm</td>\n",
       "    </tr>\n",
       "  </tbody>\n",
       "</table>\n",
       "<p>125164 rows × 4 columns</p>\n",
       "</div>"
      ],
      "text/plain": [
       "                                         title  \\\n",
       "0            Slow Cooker Chicken and Dumplings   \n",
       "1                Awesome Slow Cooker Pot Roast   \n",
       "2                         Brown Sugar Meatloaf   \n",
       "3                  Best Chocolate Chip Cookies   \n",
       "4            Homemade Mac and Cheese Casserole   \n",
       "...                                        ...   \n",
       "125159                       Summer Corn Salad   \n",
       "125160               Zucchini Stuffed Tomatoes   \n",
       "125161                 Pepper Pasta Quick Cook   \n",
       "125162  Chocolate Cake with Armagnac Ice Cream   \n",
       "125163                           Crabby Bisque   \n",
       "\n",
       "                                              ingredients  \\\n",
       "0       [4 skinless, boneless chicken breast halves AD...   \n",
       "1       [2 (10.75 ounce) cans condensed cream of mushr...   \n",
       "2       [1/2 cup packed brown sugar ADVERTISEMENT, 1/2...   \n",
       "3       [1 cup butter, softened ADVERTISEMENT, 1 cup w...   \n",
       "4       [8 ounces whole wheat rotini pasta ADVERTISEME...   \n",
       "...                                                   ...   \n",
       "125159  [4 ears fresh corn, 2 heads Belgian endive, 2 ...   \n",
       "125160  [4 large plum tomatoes, Salt and sugar, 1 1/2 ...   \n",
       "125161  [3 tablespoons olive oil, 2 tablespoons unsalt...   \n",
       "125162  [8 ounces butter, 8 ounces bittersweet chocola...   \n",
       "125163  [3 (10.5-ounce) cans restaurant-style condense...   \n",
       "\n",
       "                                             instructions  \\\n",
       "0       Place the chicken, butter, soup, and onion in ...   \n",
       "1       In a slow cooker, mix cream of mushroom soup, ...   \n",
       "2       Preheat oven to 350 degrees F (175 degrees C)....   \n",
       "3       Preheat oven to 350 degrees F (175 degrees C)....   \n",
       "4       Preheat oven to 350 degrees F. Line a 2-quart ...   \n",
       "...                                                   ...   \n",
       "125159  Watch how to make this recipe.\\nPreheat a gril...   \n",
       "125160  Preheat the broiler. Cut the tomatoes in 1/2 c...   \n",
       "125161  Heat the oil and butter in a large skillet ove...   \n",
       "125162  Preheat oven to 350 degrees. On the top half o...   \n",
       "125163  Watch how to make this recipe.\\nIn a medium sa...   \n",
       "\n",
       "                           picture_link  \n",
       "0       55lznCYBbs2mT8BTx6BTkLhynGHzM.S  \n",
       "1       QyrvGdGNMBA2lDdciY0FjKu.77MM0Oe  \n",
       "2       LVW1DI0vtlCrpAhNSEQysE9i/7rJG56  \n",
       "3       0SO5kdWOV94j6EfAVwMMYRM3yNN8eRi  \n",
       "4       YCnbhplMgiraW4rUXcybgSEZinSgljm  \n",
       "...                                 ...  \n",
       "125159  G9XPV1I0nULIbwS76f..0AIq2DsfI3u  \n",
       "125160  nA7V5iQqaFcIEQQ0/MKqVdUioieXjPu  \n",
       "125161                             None  \n",
       "125162                             None  \n",
       "125163  CTfEq6AD/JpKf4ys4awoYB4hpdzgXqm  \n",
       "\n",
       "[125164 rows x 4 columns]"
      ]
     },
     "execution_count": 6,
     "metadata": {},
     "output_type": "execute_result"
    }
   ],
   "source": [
    "recipes = pd.concat([allrecipes, epicurious, foodnetwork]).reset_index(drop=True) # Concat does not reset indices\n",
    "recipes"
   ]
  },
  {
   "cell_type": "code",
   "execution_count": 7,
   "id": "ba74e423",
   "metadata": {},
   "outputs": [
    {
     "data": {
      "text/plain": [
       "title             569\n",
       "ingredients       517\n",
       "instructions      691\n",
       "picture_link    42571\n",
       "dtype: int64"
      ]
     },
     "execution_count": 7,
     "metadata": {},
     "output_type": "execute_result"
    }
   ],
   "source": [
    "recipes.isna().sum()"
   ]
  },
  {
   "cell_type": "code",
   "execution_count": 8,
   "id": "74a57919",
   "metadata": {},
   "outputs": [
    {
     "data": {
      "text/plain": [
       "691"
      ]
     },
     "execution_count": 8,
     "metadata": {},
     "output_type": "execute_result"
    }
   ],
   "source": [
    "null_recs = recipes.copy().drop(columns = 'picture_link').T.isna().any()\n",
    "null_recs.sum()"
   ]
  },
  {
   "cell_type": "code",
   "execution_count": 9,
   "id": "25b0bbe5",
   "metadata": {},
   "outputs": [
    {
     "data": {
      "text/html": [
       "<div>\n",
       "<style scoped>\n",
       "    .dataframe tbody tr th:only-of-type {\n",
       "        vertical-align: middle;\n",
       "    }\n",
       "\n",
       "    .dataframe tbody tr th {\n",
       "        vertical-align: top;\n",
       "    }\n",
       "\n",
       "    .dataframe thead th {\n",
       "        text-align: right;\n",
       "    }\n",
       "</style>\n",
       "<table border=\"1\" class=\"dataframe\">\n",
       "  <thead>\n",
       "    <tr style=\"text-align: right;\">\n",
       "      <th></th>\n",
       "      <th>title</th>\n",
       "      <th>ingredients</th>\n",
       "      <th>instructions</th>\n",
       "      <th>picture_link</th>\n",
       "    </tr>\n",
       "  </thead>\n",
       "  <tbody>\n",
       "    <tr>\n",
       "      <th>5874</th>\n",
       "      <td>NaN</td>\n",
       "      <td>NaN</td>\n",
       "      <td>NaN</td>\n",
       "      <td>NaN</td>\n",
       "    </tr>\n",
       "    <tr>\n",
       "      <th>15020</th>\n",
       "      <td>NaN</td>\n",
       "      <td>NaN</td>\n",
       "      <td>NaN</td>\n",
       "      <td>NaN</td>\n",
       "    </tr>\n",
       "    <tr>\n",
       "      <th>15023</th>\n",
       "      <td>NaN</td>\n",
       "      <td>NaN</td>\n",
       "      <td>NaN</td>\n",
       "      <td>NaN</td>\n",
       "    </tr>\n",
       "    <tr>\n",
       "      <th>15025</th>\n",
       "      <td>NaN</td>\n",
       "      <td>NaN</td>\n",
       "      <td>NaN</td>\n",
       "      <td>NaN</td>\n",
       "    </tr>\n",
       "    <tr>\n",
       "      <th>15637</th>\n",
       "      <td>NaN</td>\n",
       "      <td>NaN</td>\n",
       "      <td>NaN</td>\n",
       "      <td>NaN</td>\n",
       "    </tr>\n",
       "  </tbody>\n",
       "</table>\n",
       "</div>"
      ],
      "text/plain": [
       "      title ingredients instructions picture_link\n",
       "5874    NaN         NaN          NaN          NaN\n",
       "15020   NaN         NaN          NaN          NaN\n",
       "15023   NaN         NaN          NaN          NaN\n",
       "15025   NaN         NaN          NaN          NaN\n",
       "15637   NaN         NaN          NaN          NaN"
      ]
     },
     "execution_count": 9,
     "metadata": {},
     "output_type": "execute_result"
    }
   ],
   "source": [
    "recipes[null_recs].head()"
   ]
  },
  {
   "cell_type": "code",
   "execution_count": 10,
   "id": "cb7bae8f",
   "metadata": {},
   "outputs": [
    {
     "data": {
      "text/plain": [
       "(124473, 4)"
      ]
     },
     "execution_count": 10,
     "metadata": {},
     "output_type": "execute_result"
    }
   ],
   "source": [
    "rows_to_drop = recipes[null_recs].index\n",
    "recipes = recipes.drop(index = rows_to_drop).reset_index(drop = True)\n",
    "recipes.shape"
   ]
  },
  {
   "cell_type": "code",
   "execution_count": 11,
   "id": "592da281",
   "metadata": {},
   "outputs": [],
   "source": [
    "import string\n",
    "nc_ingred_index = [index for i, index in zip(recipes['ingredients'], recipes.index) if all(j.isdigit() or j in string.punctuation for j in i)]\n",
    "nc_title_index = [index for i, index in zip(recipes['title'], recipes.index) if all(j.isdigit() or j in string.punctuation for j in i)]\n",
    "nc_instr_index = [index for i, index in zip(recipes['instructions'], recipes.index) if all(j.isdigit() or j in string.punctuation for j in i)]"
   ]
  },
  {
   "cell_type": "code",
   "execution_count": 12,
   "id": "f69c38ba",
   "metadata": {},
   "outputs": [
    {
     "data": {
      "text/plain": [
       "[1520, 0, 39]"
      ]
     },
     "execution_count": 12,
     "metadata": {},
     "output_type": "execute_result"
    }
   ],
   "source": [
    "index_list = [nc_ingred_index, nc_title_index, nc_instr_index]\n",
    "[len(x) for x in index_list]"
   ]
  },
  {
   "cell_type": "code",
   "execution_count": 13,
   "id": "19ef3908",
   "metadata": {},
   "outputs": [
    {
     "name": "stdout",
     "output_type": "stream",
     "text": [
      "1551\n"
     ]
    },
    {
     "data": {
      "text/plain": [
       "(122922, 4)"
      ]
     },
     "execution_count": 13,
     "metadata": {},
     "output_type": "execute_result"
    }
   ],
   "source": [
    "from functools import reduce\n",
    "from operator import add\n",
    "inds_to_drop = set(reduce(add, index_list))\n",
    "print(len(inds_to_drop))\n",
    "recipes = recipes.drop(index=inds_to_drop).reset_index(drop=True)\n",
    "recipes.shape"
   ]
  },
  {
   "cell_type": "code",
   "execution_count": 14,
   "id": "4d47abbe",
   "metadata": {},
   "outputs": [],
   "source": [
    "# Recipe instructions with less than 20 characters are not good recipes\n",
    "empty_instr_ind = [index for i, index in zip(recipes['instructions'], recipes.index) if len(i) < 20]\n",
    "recipes = recipes.drop(index = empty_instr_ind).reset_index(drop=True)"
   ]
  },
  {
   "cell_type": "code",
   "execution_count": 15,
   "id": "aa5a4950",
   "metadata": {},
   "outputs": [
    {
     "data": {
      "text/plain": [
       "title               0\n",
       "ingredients         0\n",
       "instructions        0\n",
       "picture_link    41687\n",
       "dtype: int64"
      ]
     },
     "execution_count": 15,
     "metadata": {},
     "output_type": "execute_result"
    }
   ],
   "source": [
    "recipes.isna().sum()"
   ]
  },
  {
   "cell_type": "code",
   "execution_count": 16,
   "id": "daaf1962",
   "metadata": {},
   "outputs": [],
   "source": [
    "# Removing ADVERTISEMENT text from ingredients list\n",
    "ingredients = []\n",
    "for ing_list in recipes['ingredients']:\n",
    "    clean_ings = [ing.replace('ADVERTISEMENT','').strip() for ing in ing_list]\n",
    "    if '' in clean_ings:\n",
    "        clean_ings.remove('')\n",
    "    ingredients.append(clean_ings)\n",
    "recipes['ingredients'] = ingredients"
   ]
  },
  {
   "cell_type": "code",
   "execution_count": 17,
   "id": "d5c3d073",
   "metadata": {},
   "outputs": [
    {
     "data": {
      "text/plain": [
       "['4 skinless, boneless chicken breast halves',\n",
       " '2 tablespoons butter',\n",
       " '2 (10.75 ounce) cans condensed cream of chicken soup',\n",
       " '1 onion, finely diced',\n",
       " '2 (10 ounce) packages refrigerated biscuit dough, torn into pieces']"
      ]
     },
     "execution_count": 17,
     "metadata": {},
     "output_type": "execute_result"
    }
   ],
   "source": [
    "recipes.loc[0,'ingredients']"
   ]
  },
  {
   "cell_type": "code",
   "execution_count": 18,
   "id": "fa57eaa2",
   "metadata": {},
   "outputs": [
    {
     "data": {
      "text/plain": [
       "0    4 skinless, boneless chicken breast halves; 2 ...\n",
       "1    2 (10.75 ounce) cans condensed cream of mushro...\n",
       "2    1/2 cup packed brown sugar; 1/2 cup ketchup; 1...\n",
       "3    1 cup butter, softened; 1 cup white sugar; 1 c...\n",
       "4    8 ounces whole wheat rotini pasta; 3 cups fres...\n",
       "Name: ingredient_text, dtype: object"
      ]
     },
     "execution_count": 18,
     "metadata": {},
     "output_type": "execute_result"
    }
   ],
   "source": [
    "# Extracting ingredients from their lists and formatting as single strings\n",
    "recipes['ingredient_text'] = ['; '.join(ingredients) for ingredients in recipes['ingredients']]\n",
    "recipes['ingredient_text'].head()"
   ]
  },
  {
   "cell_type": "code",
   "execution_count": 19,
   "id": "5b5fee93",
   "metadata": {},
   "outputs": [],
   "source": [
    "# Counting the number of ingredients used in each recipe\n",
    "recipes['ingredient_count'] = [len(ingredients) for ingredients in recipes['ingredients']]"
   ]
  },
  {
   "cell_type": "code",
   "execution_count": 20,
   "id": "d7a827a8",
   "metadata": {},
   "outputs": [
    {
     "data": {
      "text/plain": [
       "'Slow Cooker Chicken and Dumplings 4 skinless, boneless chicken breast halves; 2 tablespoons butter; 2 (10.75 ounce) cans condensed cream of chicken soup; 1 onion, finely diced; 2 (10 ounce) packages refrigerated biscuit dough, torn into pieces Place the chicken, butter, soup, and onion in a slow cooker, and fill with enough water to cover.\\nCover, and cook for 5 to 6 hours on High. About 30 minutes before serving, place the torn biscuit dough in the slow cooker. Cook until the dough is no longer raw in the center.\\n'"
      ]
     },
     "execution_count": 20,
     "metadata": {},
     "output_type": "execute_result"
    }
   ],
   "source": [
    "all_text = recipes['title'] + ' ' + recipes['ingredient_text'] + ' ' + recipes['instructions']\n",
    "all_text[0]"
   ]
  },
  {
   "cell_type": "code",
   "execution_count": 21,
   "id": "dd34aed4",
   "metadata": {},
   "outputs": [],
   "source": [
    "# Clean_text Function\n",
    "import string\n",
    "import re\n",
    "\n",
    "def clean_text(documents):\n",
    "    cleaned_text = []\n",
    "    for doc in documents:\n",
    "        doc = doc.translate(str.maketrans('', '', string.punctuation)) # Remove Punctuation\n",
    "        doc = re.sub(r'\\d+', '', doc) # Remove Digits\n",
    "        doc = doc.replace('\\n',' ') # Remove New Lines\n",
    "        doc = doc.strip() # Remove Leading White Space\n",
    "        doc = re.sub(' +', ' ', doc) # Remove multiple white spaces\n",
    "        cleaned_text.append(doc)\n",
    "    return cleaned_text\n",
    "\n",
    "# Cleaning Text\n",
    "cleaned_text = clean_text(all_text)"
   ]
  },
  {
   "cell_type": "code",
   "execution_count": 22,
   "id": "ab82f670",
   "metadata": {},
   "outputs": [
    {
     "data": {
      "text/plain": [
       "'Brown Sugar Meatloaf cup packed brown sugar cup ketchup pounds lean ground beef cup milk eggs teaspoons salt teaspoon ground black pepper small onion chopped teaspoon ground ginger cup finely crushed saltine cracker crumbs Preheat oven to degrees F degrees C Lightly grease a x inch loaf pan Press the brown sugar in the bottom of the prepared loaf pan and spread the ketchup over the sugar In a mixing bowl mix thoroughly all remaining ingredients and shape into a loaf Place on top of the ketchup Bake in preheated oven for hour or until juices are clear'"
      ]
     },
     "execution_count": 22,
     "metadata": {},
     "output_type": "execute_result"
    }
   ],
   "source": [
    "cleaned_text[2]"
   ]
  },
  {
   "cell_type": "code",
   "execution_count": 23,
   "id": "5465c8ab",
   "metadata": {},
   "outputs": [
    {
     "name": "stderr",
     "output_type": "stream",
     "text": [
      "c:\\Users\\areas\\AppData\\Local\\Programs\\Python\\Python311\\Lib\\site-packages\\spacy\\util.py:895: UserWarning: [W094] Model 'en_core_web_sm' (3.0.0) specifies an under-constrained spaCy version requirement: >=2.2.0. This can lead to compatibility problems with older versions, or as new spaCy versions are released, because the model may say it's compatible when it's not. Consider changing the \"spacy_version\" in your meta.json to a version range, with a lower and upper pin. For example: >=3.5.2,<3.6.0\n",
      "  warnings.warn(warn_msg)\n"
     ]
    },
    {
     "data": {
      "text/plain": [
       "'Brown Sugar Meatloaf cup pack brown sugar cup ketchup pound lean ground beef cup milk egg teaspoon salt teaspoon grind black pepper small onion chop teaspoon ground ginger cup finely crush saltine cracker crumb preheat oven degree F degree C Lightly grease x inch loaf pan Press brown sugar prepared loaf pan spread ketchup sugar mixing bowl mix thoroughly remain ingredient shape loaf Place ketchup Bake preheated oven hour juice clear'"
      ]
     },
     "execution_count": 23,
     "metadata": {},
     "output_type": "execute_result"
    }
   ],
   "source": [
    "# Testing Strategies and Code\n",
    "nlp = spacy.load('en_core_web_sm')\n",
    "' '.join([token.lemma_ for token in nlp(cleaned_text[2]) if not token.is_stop])"
   ]
  },
  {
   "cell_type": "code",
   "execution_count": 24,
   "id": "f25ef073",
   "metadata": {},
   "outputs": [],
   "source": [
    "# Tokenizing Function that lemmatizes words and removes Stop Words\n",
    "def text_tokenizer(documents):\n",
    "    tokenized_documents = []\n",
    "    for doc in documents:\n",
    "        tok_doc = ' '.join([token.lemma_ for token in nlp(doc) if not token.is_stop])\n",
    "        tokenized_documents.append(tok_doc)\n",
    "    return tokenized_documents"
   ]
  },
  {
   "cell_type": "code",
   "execution_count": 25,
   "id": "72ea90ee",
   "metadata": {},
   "outputs": [],
   "source": [
    "# Tokenizing Function to run in parallel\n",
    "def text_tokenizer_mp(doc):\n",
    "    tok_doc = ' '.join([token.lemma_ for token in nlp(doc) if not token.is_stop])\n",
    "    return tok_doc"
   ]
  },
  {
   "cell_type": "code",
   "execution_count": 26,
   "id": "2b58c10b",
   "metadata": {},
   "outputs": [
    {
     "name": "stdout",
     "output_type": "stream",
     "text": [
      "Number of processors:  8\n"
     ]
    }
   ],
   "source": [
    "import multiprocessing as mp\n",
    "print(\"Number of processors: \", mp.cpu_count())"
   ]
  },
  {
   "cell_type": "code",
   "execution_count": 27,
   "id": "a3ef6344",
   "metadata": {},
   "outputs": [
    {
     "name": "stderr",
     "output_type": "stream",
     "text": [
      "[nltk_data] Downloading package punkt to\n",
      "[nltk_data]     C:\\Users\\areas\\AppData\\Roaming\\nltk_data...\n",
      "[nltk_data]   Package punkt is already up-to-date!\n"
     ]
    }
   ],
   "source": [
    "import nltk\n",
    "nltk.download('punkt')\n",
    "\n",
    "# define the tokenizer function using word_tokenize\n",
    "def text_tokenizer(doc):\n",
    "    tokens = nltk.word_tokenize(doc)\n",
    "    return tokens\n",
    "\n",
    "# tokenize the cleaned_text using the text_tokenizer function\n",
    "tokenized_text = [text_tokenizer(doc) for doc in cleaned_text]\n"
   ]
  },
  {
   "cell_type": "code",
   "execution_count": 28,
   "id": "d55cf24d",
   "metadata": {},
   "outputs": [],
   "source": [
    "# Save the tokenized_text variable as a csv in order to return to it;\n",
    "# Do not attempt to run the parser above, it will simply take too long\n",
    "# Reload the csv from file insted\n",
    "pd.Series(tokenized_text).to_csv('tokenized_text.csv')"
   ]
  },
  {
   "cell_type": "code",
   "execution_count": 29,
   "id": "a1e3fcd8",
   "metadata": {},
   "outputs": [
    {
     "data": {
      "text/plain": [
       "['Slow',\n",
       " 'Cooker',\n",
       " 'Chicken',\n",
       " 'and',\n",
       " 'Dumplings',\n",
       " 'skinless',\n",
       " 'boneless',\n",
       " 'chicken',\n",
       " 'breast',\n",
       " 'halves',\n",
       " 'tablespoons',\n",
       " 'butter',\n",
       " 'ounce',\n",
       " 'cans',\n",
       " 'condensed',\n",
       " 'cream',\n",
       " 'of',\n",
       " 'chicken',\n",
       " 'soup',\n",
       " 'onion',\n",
       " 'finely',\n",
       " 'diced',\n",
       " 'ounce',\n",
       " 'packages',\n",
       " 'refrigerated',\n",
       " 'biscuit',\n",
       " 'dough',\n",
       " 'torn',\n",
       " 'into',\n",
       " 'pieces',\n",
       " 'Place',\n",
       " 'the',\n",
       " 'chicken',\n",
       " 'butter',\n",
       " 'soup',\n",
       " 'and',\n",
       " 'onion',\n",
       " 'in',\n",
       " 'a',\n",
       " 'slow',\n",
       " 'cooker',\n",
       " 'and',\n",
       " 'fill',\n",
       " 'with',\n",
       " 'enough',\n",
       " 'water',\n",
       " 'to',\n",
       " 'cover',\n",
       " 'Cover',\n",
       " 'and',\n",
       " 'cook',\n",
       " 'for',\n",
       " 'to',\n",
       " 'hours',\n",
       " 'on',\n",
       " 'High',\n",
       " 'About',\n",
       " 'minutes',\n",
       " 'before',\n",
       " 'serving',\n",
       " 'place',\n",
       " 'the',\n",
       " 'torn',\n",
       " 'biscuit',\n",
       " 'dough',\n",
       " 'in',\n",
       " 'the',\n",
       " 'slow',\n",
       " 'cooker',\n",
       " 'Cook',\n",
       " 'until',\n",
       " 'the',\n",
       " 'dough',\n",
       " 'is',\n",
       " 'no',\n",
       " 'longer',\n",
       " 'raw',\n",
       " 'in',\n",
       " 'the',\n",
       " 'center']"
      ]
     },
     "execution_count": 29,
     "metadata": {},
     "output_type": "execute_result"
    }
   ],
   "source": [
    "tokenized_text[0]"
   ]
  },
  {
   "cell_type": "markdown",
   "id": "8a07c47e",
   "metadata": {},
   "source": [
    "## WORD EMBEDDING"
   ]
  },
  {
   "cell_type": "code",
   "execution_count": 30,
   "id": "e1293e28",
   "metadata": {},
   "outputs": [
    {
     "name": "stdout",
     "output_type": "stream",
     "text": [
      "TF-IDF matrix shape: (122911, 52304)\n",
      "First 10 feature names: ['aa' 'aaah' 'aaahh' 'aacorn' 'aaku' 'aalborg' 'aale' 'aaron' 'aarons'\n",
      " 'aarsis']\n"
     ]
    }
   ],
   "source": [
    "from sklearn.feature_extraction.text import TfidfVectorizer\n",
    "\n",
    "# create an instance of TfidfVectorizer\n",
    "tfidf_vectorizer = TfidfVectorizer()\n",
    "\n",
    "# fit and transform the tokenized text using the TfidfVectorizer\n",
    "text_tfidf = tfidf_vectorizer.fit_transform([\" \".join(tokens) for tokens in tokenized_text])\n",
    "\n",
    "# get the feature names from the TfidfVectorizer\n",
    "feature_names = tfidf_vectorizer.get_feature_names_out()\n",
    "\n",
    "# print the shape of the TF-IDF matrix and the first 10 feature names\n",
    "print(\"TF-IDF matrix shape:\", text_tfidf.shape)\n",
    "print(\"First 10 feature names:\", feature_names[:10])\n"
   ]
  },
  {
   "cell_type": "code",
   "execution_count": 31,
   "id": "3ea6911a",
   "metadata": {},
   "outputs": [
    {
     "data": {
      "text/plain": [
       "<122911x52304 sparse matrix of type '<class 'numpy.float64'>'\n",
       "\twith 11938334 stored elements in Compressed Sparse Row format>"
      ]
     },
     "execution_count": 31,
     "metadata": {},
     "output_type": "execute_result"
    }
   ],
   "source": [
    "text_tfidf"
   ]
  },
  {
   "cell_type": "code",
   "execution_count": 32,
   "id": "683a7a01",
   "metadata": {},
   "outputs": [
    {
     "name": "stdout",
     "output_type": "stream",
     "text": [
      "52304\n"
     ]
    }
   ],
   "source": [
    "print(len(feature_names))"
   ]
  },
  {
   "cell_type": "markdown",
   "id": "1f2bf1ad",
   "metadata": {},
   "source": [
    "## Topic Modelling"
   ]
  },
  {
   "cell_type": "code",
   "execution_count": 33,
   "id": "b622cc01",
   "metadata": {},
   "outputs": [
    {
     "name": "stdout",
     "output_type": "stream",
     "text": [
      "Topic 0: figs fig manhattan tartare mission benedictine drumettes diamond hors doeuvres\n",
      "Topic 1: the and to shrimp add oil pepper with heat garlic\n",
      "Topic 2: vitamin luncheon spam truvia elk source zaatar excellent sweetener pumpkins\n",
      "Topic 3: potatoes the and to potato with in salt pepper sweet\n",
      "Topic 4: clams mussels oysters clam open oyster persimmon scrubbed shells shucked\n",
      "Topic 5: and the salad pepper vinegar dressing salt oil cup to\n",
      "Topic 6: waffle iron waffles okra manicotti gum xanthan manufacturers according instructions\n",
      "Topic 7: spaetzle curacao jackfruit olivada chililime sarahs babas zippy unbroken firecracker\n",
      "Topic 8: campari baileys juicer absinthe sweetbreads samosas slush halffilled frico eggless\n",
      "Topic 9: eggnog stevia butterfinger pimentón mimosa vera pct buckle farina tiendacom\n",
      "Topic 10: cheese and the pasta to in cup until pepper ounce\n",
      "Topic 11: chicken the and to in sauce pepper degrees pork chops\n",
      "Topic 12: and the to soup heat rice chicken onion broth pepper\n",
      "Topic 13: the patties sauce and burgers ketchup pepper buns mayonnaise mustard\n",
      "Topic 14: provided chefs therefore tested professional representation results recipe we not\n",
      "Topic 15: fritters rings fry batter frying flour cornmeal blossoms towels beer\n",
      "Topic 16: gras foie breadsticks chocolatehazelnut nutella breadstick midori panettone sopes proscuitto\n",
      "Topic 17: the and to grill pork with steak for in pepper\n",
      "Topic 18: ice glass juice and cocktail the lime vodka garnish orange\n",
      "Topic 19: the and to of it in with you for or\n",
      "Topic 20: the and bread cheese slices with of to oil olive\n",
      "Topic 21: mahi colada daiquiri guava stilton pina coco goblet captain kumquats\n",
      "Topic 22: grams mg calories fiber fat protein cholesterol sodium saturated croissants\n",
      "Topic 23: jars seeds the masala and garam coriander jar turmeric to\n",
      "Topic 24: corn ears cob kernels cobs husks ear bologna husk silk\n",
      "Topic 25: the dough and to flour in sugar with of butter\n",
      "Topic 26: and the beans to cilantro tortillas chili corn salsa pepper\n",
      "Topic 27: melon cantaloupe honeydew rabbit melons nutritional celeriac yeast cajeta seashell\n",
      "Topic 28: peaches oranges orange fruit grapes grapefruit peach segments and juice\n",
      "Topic 29: and to in with the until heat about minutes add\n",
      "Topic 30: cooker pressure slow bagel bagels creamer hocks crock tai mai\n",
      "Topic 31: salmon fish fillets the and with lemon fillet to pepper\n",
      "Topic 32: skate eel brandybased kelloggs shad fructose sauza tia spelt flaxseeds\n",
      "Topic 33: yogurt banana blender smoothie milk blend cup strawberries ice coconut\n",
      "Topic 34: fraîche crème snails alligator filet pistou caviar ouzo mochiko romanesco\n",
      "Topic 35: picante bison consomme pace cordial dickinsons sangrita avocadoes heavenly cabot\n",
      "Topic 36: pie whipped cream ounce graham topping cracker pudding package gelatin\n",
      "Topic 37: hemp tempeh risk madeleine madeleines salmonella raw illness consuming foodborne\n",
      "Topic 38: the and chocolate cream to sugar in of until vanilla\n",
      "Topic 39: orzo nuggets tots tater monosodium glutamate msg artificial tot claret\n",
      "Topic 40: and the sauce soy sesame oil ginger to rice in\n",
      "Topic 41: plantains plantain bratwurst applejack pernod sprite acai chayote chicory dietz\n",
      "Topic 42: cola yuca sake colaflavored beverage carbonated chambord clementine islands julep\n",
      "Topic 43: squash butternut acorn flesh variable delicata seeded fondue vitamix won\n",
      "Topic 44: and sugar tea cinnamon to the couscous cranberries water heat\n",
      "Topic 45: pretzels farro millet pretzel chex malted porridge steelcut town keebler\n",
      "Topic 46: pears pear bosc cactus bartlett anjou poaching prickly toll zinfandel\n",
      "Topic 47: sardines liver pig flans grappa livers sardine cara charmoula thourough\n",
      "Topic 48: brussels sprouts greens chard bacon collard kale quail swiss collards\n",
      "Topic 49: the sugar and flour cup baking in butter vanilla degrees\n"
     ]
    }
   ],
   "source": [
    "from sklearn.decomposition import LatentDirichletAllocation\n",
    "\n",
    "# create an instance of LatentDirichletAllocation with 50 topics\n",
    "lda = LatentDirichletAllocation(n_components=50, random_state=42)\n",
    "\n",
    "# fit the TF-IDF matrix to the LDA model\n",
    "text_lda = lda.fit_transform(text_tfidf)\n",
    "\n",
    "# get the top 10 words for each topic\n",
    "top_words_per_topic = []\n",
    "for topic_idx, topic in enumerate(lda.components_):\n",
    "    top_words = [feature_names[i] for i in topic.argsort()[:-11:-1]]  \n",
    "    top_words_per_topic.append(top_words)\n",
    "\n",
    "# print the top 10 words for each topic\n",
    "for i, topic_words in enumerate(top_words_per_topic):\n",
    "    print(f\"Topic {i}: {' '.join(topic_words)}\")"
   ]
  },
  {
   "cell_type": "code",
   "execution_count": 34,
   "id": "78050d29",
   "metadata": {},
   "outputs": [
    {
     "name": "stderr",
     "output_type": "stream",
     "text": [
      "c:\\Users\\areas\\AppData\\Local\\Programs\\Python\\Python311\\Lib\\site-packages\\sklearn\\decomposition\\_nmf.py:1665: ConvergenceWarning: Maximum number of iterations 200 reached. Increase it to improve convergence.\n",
      "  warnings.warn(\n"
     ]
    },
    {
     "name": "stdout",
     "output_type": "stream",
     "text": [
      "Component 0: and to add stock water pot simmer boil bring bay\n",
      "Component 1: chicken breast breasts skinless boneless broth halves cooked pieces juices\n",
      "Component 2: and pepper salt with oil olive season freshly black taste\n",
      "Component 3: oven degrees baking dish bake preheat preheated to minutes sheet\n",
      "Component 4: to of ahead with and be in at temperature transfer\n",
      "Component 5: egg whites yolks beat mixture peaks fold in yolk whisk\n",
      "Component 6: cookies cookie sheets baking vanilla beat sugar extract on soda\n",
      "Component 7: corn kernels syrup ears cob tortillas ounce kernel cornmeal cobs\n",
      "Component 8: the of and it for to them you on make\n",
      "Component 9: flour baking eggs soda batter cup powder cups allpurpose in\n",
      "Component 10: tomatoes garlic basil olive oil tomato chopped parsley fresh oregano\n",
      "Component 11: soup broth onion ounce celery can condensed carrots chopped simmer\n",
      "Component 12: grill steak steaks side on marinade for grilled minutes to\n",
      "Component 13: pork chops loin roast tenderloin meat cooker slow shoulder hours\n",
      "Component 14: cheese cheddar shredded parmesan ounce mozzarella package grated top cup\n",
      "Component 15: bacon slices crisp paper drippings fat skillet towels and drain\n",
      "Component 16: turkey gravy roasting breast stuffing roast pan sage neck skin\n",
      "Component 17: beans green ounce drained can bean chili rinsed kidney water\n",
      "Component 18: ice glass cocktail shaker vodka strain ounces shake fluid cubes\n",
      "Component 19: lime cilantro juice salsa fresh avocado and chopped mango jalapeno\n",
      "Component 20: bell peppers red pepper green onion diced chopped onions sausage\n",
      "Component 21: shrimp deveined peeled and cooked pink pound garlic skewers seafood\n",
      "Component 22: cinnamon apples apple ground nutmeg pumpkin teaspoon raisins cider cored\n",
      "Component 23: milk coconut vanilla cup extract banana sweetened pudding condensed almond\n",
      "Component 24: salmon dill fillets smoked fillet skin with mustard side chives\n",
      "Component 25: powder teaspoon chili garlic cumin ground cayenne paprika pepper onion\n",
      "Component 26: pie crust filling pumpkin shell pastry inch bake topping degrees\n",
      "Component 27: dough flour yeast roll floured surface and pizza out into\n",
      "Component 28: sauce worcestershire soy hot ketchup cup tomato ribs tablespoons mustard\n",
      "Component 29: lemon juice zest fresh parsley lemons juiced teaspoon tablespoon mayonnaise\n",
      "Component 30: salad dressing vinegar mustard mayonnaise toss bowl lettuce cup whisk\n",
      "Component 31: cream sour ice whipped heavy vanilla whipping and bowl strawberries\n",
      "Component 32: cake pan beat frosting pans mixer speed mix batter and\n",
      "Component 33: potatoes potato sweet tender are mashed drain mash and peeled\n",
      "Component 34: pasta water salted pot drain dente al to parmesan cook\n",
      "Component 35: squash zucchini butternut vegetables cut tender yellow acorn and into\n",
      "Component 36: heat skillet about cook until and minutes stirring over to\n",
      "Component 37: fish fillets with fillet halibut cod of bass snapper on\n",
      "Component 38: butter peanut melted tablespoons melt unsalted and cup pan in\n",
      "Component 39: bread slices crumbs slice of loaf sandwiches sandwich each on\n",
      "Component 40: rice water absorbed cups and is stir cover uncooked cup\n",
      "Component 41: orange juice zest oranges cranberries cranberry peel honey liqueur cup\n",
      "Component 42: pineapple ounce juice crushed fruit rum can chunks drained frozen\n",
      "Component 43: beef meat ground cooker onion tomato ounce slow pound roast\n",
      "Component 44: sesame ginger soy seeds oil noodles cabbage tablespoon scallions peanut\n",
      "Component 45: lamb mint chops yogurt rosemary leg meat fresh leaves garlic\n",
      "Component 46: mushrooms mushroom spinach sliced wine caps fresh shiitake portobello porcini\n",
      "Component 47: sugar cup vanilla syrup white water and confectioners extract brown\n",
      "Component 48: chocolate chips semisweet cocoa melted ounces bittersweet unsweetened smooth boiler\n",
      "Component 49: broccoli cauliflower florets rabe garlic water vegetables head tender cut\n"
     ]
    }
   ],
   "source": [
    "from sklearn.decomposition import NMF\n",
    "\n",
    "# create an instance of NMF with 50 components\n",
    "nmf = NMF(n_components=50, init='random', random_state=42)\n",
    "\n",
    "# fit the TF-IDF matrix to the NMF model\n",
    "text_nmf = nmf.fit_transform(text_tfidf)\n",
    "\n",
    "# get the top 10 words for each component\n",
    "top_words_per_component = []\n",
    "for component_idx, component in enumerate(nmf.components_):\n",
    "    top_words = [feature_names[i] for i in component.argsort()[:-11:-1]]\n",
    "    top_words_per_component.append(top_words)\n",
    "\n",
    "# print the top 10 words for each component\n",
    "for i, component_words in enumerate(top_words_per_component):\n",
    "    print(f\"Component {i}: {' '.join(component_words)}\")\n"
   ]
  },
  {
   "cell_type": "code",
   "execution_count": 35,
   "id": "28e526c5",
   "metadata": {},
   "outputs": [
    {
     "data": {
      "text/plain": [
       "(122911, 50)"
      ]
     },
     "execution_count": 35,
     "metadata": {},
     "output_type": "execute_result"
    }
   ],
   "source": [
    "text_lda.shape"
   ]
  },
  {
   "cell_type": "markdown",
   "id": "799348e2",
   "metadata": {},
   "source": [
    "## Exploring Topics by Document"
   ]
  },
  {
   "cell_type": "code",
   "execution_count": 36,
   "id": "0e4ca0d6",
   "metadata": {},
   "outputs": [],
   "source": [
    "text_series = pd.Series(all_text)\n",
    "\n",
    "def docs_by_tops(top_mat, topic_range = (0,0), doc_range = (0,2)):\n",
    "    for i in range(topic_range[0], topic_range[1]):\n",
    "        topic_scores = pd.Series(top_mat[:,i])\n",
    "        doc_index = topic_scores.sort_values(ascending = False)[doc_range[0]:doc_range[1]].index\n",
    "        for j, index in enumerate(doc_index, doc_range[0]):\n",
    "            print('Topic #{}'.format(i),\n",
    "                  '\\nDocument #{}'.format(j),\n",
    "                  '\\nTopic Score: {}\\n\\n'.format(topic_scores[index]),\n",
    "                  text_series[index], '\\n\\n')"
   ]
  },
  {
   "cell_type": "code",
   "execution_count": 37,
   "id": "e554d1ff",
   "metadata": {},
   "outputs": [
    {
     "name": "stdout",
     "output_type": "stream",
     "text": [
      "Topic #0 \n",
      "Document #0 \n",
      "Topic Score: 0.377389851740317\n",
      "\n",
      " Cavaniola's Cheese Platter Goat's milk cheese, such as Monte Enebro; Sheep's milk cheese, such as Abbaye de Belloc; Cow's milk cheese, such as Brillat-Savarin; Cheddar, such as Neal¿s Yard Dairy Montgomery Cheddar; Nut and fruit crackers; Dried figs; Dried cranberries; Sprigs of rosemary, for decoration; Fig leaves, for decoration Artfully arrange the cheeses, crackers, figs and cranberries on a board and decorate with the rosemary and fig leaves. \n",
      "\n",
      "\n",
      "Topic #0 \n",
      "Document #1 \n",
      "Topic Score: 0.31575174365799924\n",
      "\n",
      " Pearl of Puebla  2 oz. Sombra Mezcal; .75 oz. Yellow Chartreuse; .75 oz. Lime Juice; 4 sprigs Fresh Oregano; 1 barspoon Ricard Pastis; 1 barspoon Agave Nectar Muddle the oregano and agave nectar Add everything else, then shake with ice and fine-strain into a chilled coupe No garnish\n",
      "Muddle the oregano and agave nectar\n",
      "Add everything else, then shake with ice and fine-strain into a chilled coupe\n",
      "No garnish \n",
      "\n",
      "\n",
      "Topic #0 \n",
      "Document #2 \n",
      "Topic Score: 0.2936091834953476\n",
      "\n",
      " Champagne Cocktails  Ice cubes; 2 teaspoons amaretto; Champagne, Prosecco, or Cava Place a few ice cubes in a flute. Top with amaretto, then fill glass with Champage, Prosecco from Italy, or Cava from Spain.\n",
      "Place a few ice cubes in a flute. Top with amaretto, then fill glass with Champage, Prosecco from Italy, or Cava from Spain. \n",
      "\n",
      "\n",
      "Topic #1 \n",
      "Document #0 \n",
      "Topic Score: 0.9264477099209487\n",
      "\n",
      " Curried Pea Soup with Frizzed Ginger 2 tablespoons unsalted butter; 1 small onion, cut into small dice; 1 celery stalk, cut into small dice; 1 leek (white part only) well washed, quartered, and thinly sliced crosswise; Fine sea salt and freshly ground black pepper; 2 teaspoons curry powder; 2 quarts homemade vegetable stock, recipe follows, or low-sodium store-bought vegetable broth, hot; Herb sachet of 1 bay leaf and 2 thyme sprigs, tied in cheesecloth; 3 cups fresh shelled peas (from 2 1/2 pounds peas in the pod); 1 cup creme fraiche or sour cream; Frizzled Ginger, recipe follows; 1/2 cup olive oil; 2 large Spanish onions, quartered; 1/2 head celery, roughly chopped; 1 large leek, split, well washed, and cut into large pieces; 2 large carrots, peeled and roughly chopped; 1 (15.5-ounce) can crushed tomatoes; 1 cup sliced button mushrooms; 2 pounds Idaho or russet potatoes, quartered; 5 flat-leaf parsley sprigs; 2 thyme sprigs; 2 garlic cloves, smashed; 1/2 teaspoon fine sea salt; 1/2 teaspoon black peppercorns; 2 whole cloves; 1 cup vegetable oil; 1 knob ginger (about 4 ounces); Fine sea salt Melt the butter in a large heavy-bottomed pot over medium-high heat. Add the onion, celery, and leek and season with salt and pepper. Saute the vegetables until they are softened but not browned, about 5 minutes. Add the curry powder, stir, and cook for 2 minutes more.\n",
      "Add the stock and herb sachet to the pot. Bring to a boil over high heat, then lower the heat and let simmer until the vegetables have completely softened, 10 to 12 minutes. Add the peas and simmer for an additional 10 minutes.\n",
      "Use tongs to remove and discard the herb sachet.\n",
      "Use an immersion blender to puree the soup in the pot, or puree it in batches in a standing blender, then return the soup to the pot over medium heat. Stir in the creme fraiche, being careful not to let the soup return to a boil. (If you like, reserve a few tablespoons of the creme fraiche to drizzle over each serving.)\n",
      "Divide soup among individual bowls and serve at once, topping each serving with a drizzle of creme fraiche, if desired, and a few pieces of frizzled ginger.\n",
      "Pour the oil into a heavy-bottomed stockpot or lobster pot. Add all the other ingredients and cook, stirring, over medium-low heat until the vegetables have all softened but not colored, about 15 minutes. Pour in 6 quarts water, raise the heat to high, and bring the water to a boil, then lower the heat and let the liquid simmer for 2 hours.\n",
      "Carefully strain the stock through a fine-meshed strainer set over a large bowl or pot, pressing down on the solids with a wooden spoon to extract as much liquid and flavor as possible. Let the stock cool, then refrigerate for up to 1 week or freeze in batches to be thawed and used as needed.\n",
      "Pour oil into a small pot and heat to 265 degrees F. Shave the ginger into a fine julienne using a Japanese mandoline, vegetable slicer, or very sharp thin-bladed knife. Adds the ginger crisps to the oil, frying them until crispy, about 1 minute; use a slotted spoon to remove them to a paper towel-lined plate to drain. Salt as soon as it hits the paper. These crisps can be held at room temperature for up to 2 hours. \n",
      "\n",
      "\n",
      "Topic #1 \n",
      "Document #1 \n",
      "Topic Score: 0.92363701249592\n",
      "\n",
      " The Ultimate Beef Stew 1/4 cup extra-virgin olive oil, for frying, plus more to drizzle; 3 tablespoons butter; 2 cups all-purpose flour; 2 to 3 pounds beef chuck shoulder roast, cut into 2-inch pieces (this cut is also called chuck shoulder pot roast and chuck roast boneless); Sea salt and freshly ground black pepper; 1 bottle good quality dry red wine (recommended: Burgundy); 8 fresh thyme sprigs; 6 garlic cloves, smashed; 1 orange, zest removed in three 1-inch strips; 1/4 teaspoon ground cloves; 2 bay leaves; 2 1/2 cups beef stock; 9 small new potatoes, scrubbed clean and cut in 1/2; 1/2 pound carrots, peeled and sliced; 2 cups frozen pearl onions, a large handful; 1 pound white mushrooms, cut in 1/2; 1/2 pound garden peas frozen or fresh; Fresh flat-leaf parsley, chopped, for garnish; Horseradish Sour Cream, recipe follows, for garnish; Toasted Peasant Bread, recipe follows, for serving; 1 cup sour cream; 1 tablespoon prepared horseradish; Olive oil; Salt and pepper; Chives, finely chopped, as garnish; 1 loaf peasant bread, sliced into 1/2-inch pieces; Extra-virgin olive oil; 4 garlic cloves, halved; Chopped parsley leaves Watch how to make this recipe.\n",
      "Preheat a large heavy-bottomed saucepan or Dutch oven over medium-high heat with the oil and butter.\n",
      "While the pan is heating, arrange the flour on a large dish. Season the cubed beef with some salt and freshly ground black pepper and then toss in the flour to coat. Shake off the excess flour and add the beef chunks in a single layer to the hot pan, being careful not to over crowd the pan, you might have to work in batches. Thoroughly brown all of the cubes on all sides. Once all the meat has been browned remove it to a plate and reserve.\n",
      "Add the wine to the pan and bring up to a simmer while you scrape the bottom of the pan with a wooden spoon being sure to loosen up all those tasty bits. Once the wine has gotten hot add the browned meat, thyme, smashed garlic, orange zest strip, ground cloves, freshly ground black pepper and salt, to taste, bay leaves and beef stock. Bring the mixture up to a boil and then reduce the heat to a simmer and cook uncovered until the liquids start to thicken, about 15 to 20 minutes. Cover and cook on low heat for 2 1/2 hours.\n",
      "After 2 hours add halved potatoes, sliced carrots, pearl onions and mushrooms, along with a pinch of sugar to balance out the acid from the red wine. Turn the heat up slightly and simmer, uncovered, for 30 minutes more, until the vegetables and meat are tender. Add the frozen peas during the last minute of cooking. Season with salt and pepper and remove the thyme sprigs.\n",
      "To serve, place the stew in a soup bowl, garnish with parsley, drizzle with olive oil and add a dollop of Horseradish Sour Cream. Right before serving add a slice of Toasted Peasant Bread, half way submerged in the stew.\n",
      "Combine sour cream, prepared horseradish and a drizzle of olive oil in a small bowl and mix until thoroughly combined. Season with salt and pepper. Add a dollop of the mixture on top of the stew and garnish with chopped chives.\n",
      "Preheat the oven to 500 degrees F.\n",
      "Put a sheet pan in the oven so that it gets good and hot.\n",
      "Place the bread slices on the hot sheet pan. Drizzle the bread with the extra-virgin olive oil bake for 5 minutes, until the bread is nicely toasted. Rub the bread slices with the garlic cloves, and discard garlic. Sprinkle with parsley and serve. \n",
      "\n",
      "\n",
      "Topic #1 \n",
      "Document #2 \n",
      "Topic Score: 0.9227302286826625\n",
      "\n",
      " Mark's Risotto alla Milanese 3 tablespoons unsalted butter; 1 medium red onion, minced; 1 large pinch saffron threads; 1 1/2 cups arborio rice (do not rinse); 1/8 teaspoon salt; 1/8 teaspoon freshly ground pepper; 1 cup dry white wine; 3 to 4 cups Homemade Chicken Stock (recipe follows), vegetable stock, or low-sodium canned; 1/4 cup freshly grated Parmesan; 1 tablespoon chopped fresh Italian parsley, optional; 1 teaspoon whole black peppercorns; 6 sprigs fresh dill or 2 teaspoons dried dill; 6 sprigs fresh flat-leaf parsley; 2 dried bay leaves; 2 leeks, washed, white and pale-green parts only, cut into 1/3; 2 carrots, scrubbed, cut into 1/3; 2 stalks celery, cut into 1/3; 1 (4-pound) chicken, cut into 6 pieces; 1 1/2 pounds chicken wings; 1 1/2 pounds chicken backs; 2 (48-ounce) cans low-sodium chicken broth, about 12 cups; 6 cups cold water In a medium-size, heavy soup pot, melt 2 tablespoons butter over medium-high heat. When it foams, add onion and saffron, and cook, stirring, until onion is transparent and saffron is ?melted,? about 5 minutes. Reduce the heat to medium, add rice, salt, and pepper, and cook, stirring with a wooden spoon, until well coated, about 1 minute. Add wine, and simmer gently until the liquid is absorbed, 3 to 5 minutes. Add 1/2 cup chicken stock, stir, and simmer, stirring occasionally, until the liquid is absorbed. Repeat, adding 1/2 cup stock at a time, until the rice is cooked through but still firm, 20 to 25 minutes total. Add the remaining tablespoon butter and the Parmesan. Mix well, add salt to taste, and serve immediately, sprinkled with parsley, if desired.;\n",
      "Place peppercorns, dill, parsley, bay leaves, leeks, carrots, celery, chicken, wings, and backs into a large stockpot. Add stock and 6 cups cold water. Bring to a boil. Reduce to a very gentle simmer, and cook for 45 minutes. Liquid should just bubble up to the surface. A skin will form on the surface of the liquid; skim this off with a slotted spoon, and discard. Repeat as needed. After 45 minutes, remove chicken from the pot, and set aside until it is cool enough to handle. Remove the meat from the bones, set the meat aside, and return the bones to the pot. Shred the chicken, and set aside in the refrigerator until ready to use. Continue to simmer the stock, on the lowest heat possible, for 3 hours, skimming as needed. The chicken bones will begin to disintegrate. Strain the stock through a fine sieve into a very large bowl. Discard the solids. Place the bowl in an ice bath, and let cool to room temperature. Transfer to airtight containers. Stock may be refrigerated for 3 days or frozen for 4 months. Refrigerate for at least 8 hours, or overnight. If storing, leave fat layer intact to the seal the stock. Before using, remove the layer of fat that has collected on the surface.\n",
      "Yield: 5 quarts \n",
      "\n",
      "\n",
      "Topic #2 \n",
      "Document #0 \n",
      "Topic Score: 0.3281396414206644\n",
      "\n",
      " Apple Crisp with Truvia® Natural Sweetener Filling:; 4 apples, sliced; 1/2 cup water; 1 tablespoon Truvia® natural sweetener spoonable, plus; 2 1/4 teaspoons Truvia® natural sweetener spoonable**; 2 tablespoons all-purpose flour; 1 1/2 teaspoons ground cinnamon; 1/2 teaspoon ground nutmeg; Non-stick cooking spray; Crisp:; 1 cup rolled oats; 1 tablespoon Truvia® natural sweetener spoonable, plus; 2 1/4 teaspoons Truvia® natural sweetener spoonable**; 1/4 cup all-purpose flour; 1 1/2 teaspoons ground cinnamon; 1/4 cup butter, melted; 1 1/2 tablespoons brown sugar; 1/8 teaspoon salt Assemble all ingredients; Preheat oven to 375 degrees F.\n",
      "Place apples in a large bowl; sprinkle with water, Truvia(R) natural sweetener, flour, cinnamon and nutmeg; toss to coat the fruit.\n",
      "Spray 9-inch baking dish with non-stick spray; place apple mixture in dish.\n",
      "In a separate small bowl, combine oats, Truvia(R) natural sweetener, second flour and cinnamon, melted butter, brown sugar and salt; stir to form crumbly mixture.\n",
      "Sprinkle crumb mixture on top of apples.\n",
      "Bake 35-40 minutes until apples are tender.\n",
      " \n",
      "\n",
      "\n",
      "Topic #2 \n",
      "Document #1 \n",
      "Topic Score: 0.32568827649770193\n",
      "\n",
      " Banana Berry Smoothie with Truvia® Natural Sweetener 1 cup strawberries; 1 cup blueberries; 1 banana; 1 cup fat-free plain yogurt; 1 cup orange juice; 1 cup ice; 1 tablespoon Truvia® natural sweetener spoonable, plus; 1/2 teaspoon Truvia® natural sweetener spoonable* Add all ingredients to blender. Blend on high until smooth.\n",
      "Enjoy.\n",
      " \n",
      "\n",
      "\n",
      "Topic #2 \n",
      "Document #2 \n",
      "Topic Score: 0.3212494952321331\n",
      "\n",
      " Creamed Spinach 2 (10-ounce) packages frozen spinach, thawed; 2 teaspoons olive oil; 2 small shallots, finely chopped (about 1/2 cup); 4 teaspoons all-purpose flour; 1 1/2 cups 1 percent milk; 1/2 cup low-sodium chicken broth; 2 tablespoons fat free evaporated milk; Pinch ground nutmeg; Salt and freshly ground black pepper Watch how to make this recipe.\n",
      "Squeeze all of the water from the spinach. In a large pan, heat the oil over a medium heat. Add the shallots and cook, stirring, until softened, about 2 minutes. Add the flour and cook, stirring, for 30 seconds. Add the milk and broth and cook, scraping up any bits from the bottom of the pan. Bring to a simmer and cook for 2 minutes. Add the spinach and simmer until tender, about 5 minutes. Stir in the evaporated milk and nutmeg and season to taste with salt and pepper.\n",
      "Excellent source of: Protein, Vitamin A, Riboflavin, Folate, Calcium, Magnesium, Manganese, Potassium\n",
      "Good source of: Fiber, Thiamin, Vitamin B6, Vitamin C, Vitamin D, Copper, Iodine, Iron, Phosphorus, Selenium \n",
      "\n",
      "\n"
     ]
    }
   ],
   "source": [
    "docs_by_tops(text_lda,(0,3),(0,3))"
   ]
  },
  {
   "cell_type": "code",
   "execution_count": 38,
   "id": "b95ad3d1",
   "metadata": {},
   "outputs": [
    {
     "name": "stdout",
     "output_type": "stream",
     "text": [
      "Topic #0 \n",
      "Document #0 \n",
      "Topic Score: 0.08215944409226876\n",
      "\n",
      " Turkey Stock  2 tablespoons vegetable oil; 1 large onion, chopped; 1 large carrot, chopped; 1 celery stalk with leaves, chopped; 1 carcass with skin from one 12- to 15-pound turkey; meat removed and reserved, carcass broken into pieces; 4 quarts (about) cold water; 4 fresh Italian parsley sprigs; 1/2 teaspoon dried thyme; 1/4 teaspoon whole black peppercorns; 1 bay leaf Heat oil in large pot over medium heat. Add onion, carrot, and celery. Cover; cook until vegetables begin to soften, stirring occasionally, about 5 minutes. Place turkey carcass pieces in pot and add enough cold water to cover bones (about 4 quarts). Bring mixture to boil and skim any foam from the surface. Add parsley, thyme, peppercorns, and bay leaf. Reduce heat to low, cover with lid slightly ajar, and simmer 3 hours. Strain stock into large bowl, pressing on solids in strainer; discard solids. Let stock stand 10 minutes; skim off fat. Boil to reduce to 10 cups or add water to measure 10 cups. Season with salt and pepper.\n",
      "Heat oil in large pot over medium heat. Add onion, carrot, and celery. Cover; cook until vegetables begin to soften, stirring occasionally, about 5 minutes.\n",
      "Place turkey carcass pieces in pot and add enough cold water to cover bones (about 4 quarts).\n",
      "Bring mixture to boil and skim any foam from the surface.\n",
      "Add parsley, thyme, peppercorns, and bay leaf. Reduce heat to low, cover with lid slightly ajar, and simmer 3 hours.\n",
      "Strain stock into large bowl, pressing on solids in strainer; discard solids. Let stock stand 10 minutes; skim off fat. Boil to reduce to 10 cups or add water to measure 10 cups. Season with salt and pepper. \n",
      "\n",
      "\n",
      "Topic #0 \n",
      "Document #1 \n",
      "Topic Score: 0.07679664135544695\n",
      "\n",
      " Chicken Stock 4 pounds chicken; 7 cups water; 1 large onion, halved; 3 stalks celery; 3 carrots, cut into 2 inch pieces; 1 bay leaf; 1 teaspoon grated fresh ginger; salt to taste Place the chicken in a large pot over high heat. Add water to cover and bring to a boil, then reduce heat to medium low and simmer for 1 hour.\n",
      "Remove chicken from pot. Leave water in pot. Cool chicken. Remove skin and bones from meat. Return bones and skin to pot. Add onions, carrots, celery, bay leaf, ginger, and salt. Continue simmering for 3 to 4 hours.\n",
      "Strain and cool the stock, uncovered.\n",
      "Use the meat for soups, salads, sandwiches, or other dishes where cooked chicken is needed. After stock has been defatted, use or freeze immediately. I freeze the stock in one-cup amounts and use instead of water for cooking rice or vegetables or making gravy.\n",
      " \n",
      "\n",
      "\n",
      "Topic #0 \n",
      "Document #2 \n",
      "Topic Score: 0.07559324848268112\n",
      "\n",
      " Creamed Onions with Wine 2 pounds small white boiling onions, peeled; 1 (750 milliliter) bottle Chardonnay wine; 1 bay leaf; 1/4 teaspoon dried thyme; salt to taste; 1 cup heavy whipping cream; 1 teaspoon butter Place onions in a 2 quart pot. Pour enough wine to cover half of the onions. Add the bay leaf, thyme and salt. Simmer and stir for 25 minutes.\n",
      "Add the cream and bring to a boil; reduce heat and cook until thickened.\n",
      "Remove from heat and stir in the butter. Remove bay leaf and serve.\n",
      " \n",
      "\n",
      "\n",
      "Topic #1 \n",
      "Document #0 \n",
      "Topic Score: 0.1790184118605153\n",
      "\n",
      " Chicken Taco Filling 1 (1.25 ounce) package dry taco seasoning mix; 1 cup chicken broth; 1 pound skinless, boneless chicken breasts Mix chicken broth and taco seasoning in a bowl.\n",
      "Place chicken breasts in a slow cooker and pour chicken broth mixture over chicken.\n",
      "Cover and cook on Low for 6 to 8 hours.\n",
      "Shred chicken to serve.\n",
      " \n",
      "\n",
      "\n",
      "Topic #1 \n",
      "Document #1 \n",
      "Topic Score: 0.1780625909354166\n",
      "\n",
      " Fiesta Slow Cooker Shredded Chicken Tacos 1 cup chicken broth; 3 tablespoons taco seasoning mix; 1 pound skinless, boneless chicken breasts Combine chicken broth and taco seasoning mix in a bowl. Place chicken in a slow cooker and pour chicken broth mixture over chicken.\n",
      "Cook on Low for 6 to 8 hours. Shred chicken.\n",
      " \n",
      "\n",
      "\n",
      "Topic #1 \n",
      "Document #2 \n",
      "Topic Score: 0.17440746651244451\n",
      "\n",
      " Home-Style Chicken Piccata 1/2 cup all-purpose flour; 2 teaspoons garlic powder; 1 teaspoon paprika; 1 egg; 1/4 cup butter; 1 pound skinless, boneless chicken breast halves; 1 cup chicken broth; 1/2 lemon Whisk flour, garlic powder, and paprika together in a bowl. Beat egg in a separate bowl. Melt butter in a skillet over medium heat.\n",
      "Dip chicken in egg until coated. Dredge chicken through flour mixture until evenly coated, shaking off excess.\n",
      "Fry chicken in the melted butter until browned, 2 to 3 minutes per side. Add chicken broth to skillet, cover, and cook until chicken is not longer pink in the center, about 20 minutes. Squeeze lemon over chicken.\n",
      " \n",
      "\n",
      "\n",
      "Topic #2 \n",
      "Document #0 \n",
      "Topic Score: 0.1194502397322577\n",
      "\n",
      " Ladolemono  1/4 cup fresh lemon juice; 1/4 cup extra-virgin olive oil; Kosher salt and freshly ground black pepper Whisk together lemon juice and extra-virgin olive oil. Whisk in kosher salt and freshly ground black pepper to taste.\n",
      "Whisk together lemon juice and extra-virgin olive oil. Whisk in kosher salt and freshly ground black pepper to taste. \n",
      "\n",
      "\n",
      "Topic #2 \n",
      "Document #1 \n",
      "Topic Score: 0.1114431285414346\n",
      "\n",
      " Roasted Asparagus with Lemon Vinaigrette 3/4 pound fresh asparagus, woody stems removed; 2 tablespoons extra-virgin olive oil; Kosher salt and freshly ground black pepper; 1/2 teaspoon Dijon mustard; 1/2 lemon, juiced; 1 tablespoon olive oil; Kosher salt and freshly ground black pepper Watch how to make this recipe.\n",
      "Preheat the oven to 400 degrees F.\n",
      "In a large bowl toss the asparagus in the olive oil, and liberally season with salt and pepper. Spread the stalks out on a baking sheet, in a single layer, and roast until tender but still firm and moist, about 10 minutes.\n",
      "Meanwhile, make the vinaigrette: In a small bowl, vigorously whisk together the mustard and lemon juice. Slowly drizzle in the olive oil, whisking quickly to emulsify the olive oil into the juice mixture. Season with salt and pepper, to taste.\n",
      "Transfer the asparagus to a serving platter, toss with the vinaigrette and serve. The dish may be eaten warm or cold. \n",
      "\n",
      "\n",
      "Topic #2 \n",
      "Document #2 \n",
      "Topic Score: 0.10392429050019851\n",
      "\n",
      " Grilled Vegetable Salad 1/2 bunch asparagus, trimmed and cut into bite-size pieces; 1 pint cherry tomatoes; 1 medium red onion, cut into 1/2-inch rings; 1 yellow bell pepper, quartered, seeds and ribs removed; 1 red bell pepper, quartered, seeds and ribs removed; 1/4 cup extra-virgin olive oil, for brushing; Salt and freshly ground black pepper; 1/4 cup fresh basil leaves; 1/4 pound feta cheese; 1 medium clove garlic, chopped; 1 tablespoon balsamic vinegar; 3 tablespoons extra-virgin olive oil; Salt and freshly ground black pepper Watch how to make this recipe.\n",
      "Preheat grill to medium.\n",
      "In a large bowl, toss the vegetables with olive oil and season with salt and pepper. Grill the vegetables, turning occasionally, until charred and tender, about 5 to 7 minutes. Remove to a platter. Sprinkle with basil and feta.\n",
      "In a small bowl, mix garlic, balsamic vinegar, and olive oil. Season with salt and pepper and drizzle over vegetables. \n",
      "\n",
      "\n"
     ]
    }
   ],
   "source": [
    "docs_by_tops(text_nmf,(0,3),(0,3))"
   ]
  },
  {
   "cell_type": "code",
   "execution_count": 39,
   "id": "abb1dbef",
   "metadata": {},
   "outputs": [
    {
     "name": "stdout",
     "output_type": "stream",
     "text": [
      "Topic #1 \n",
      "Document #90000 \n",
      "Topic Score: 0.0\n",
      "\n",
      " Vinegar Based BBQ Sauce 1 cup cider vinegar; 1 tablespoon salt; 1/2 teaspoon cayenne pepper; 1 teaspoon crushed red pepper flakes; 1 tablespoon brown sugar In a small bowl, combine the vinegar, salt, cayenne pepper, crushed red pepper flakes and brown sugar. Mix well and allow ingredients to mesh for about 4 to 8 hours before using.\n",
      " \n",
      "\n",
      "\n"
     ]
    }
   ],
   "source": [
    "docs_by_tops(text_nmf,(1,2),(90000,90001))"
   ]
  },
  {
   "cell_type": "code",
   "execution_count": 40,
   "id": "b7557a32",
   "metadata": {},
   "outputs": [
    {
     "data": {
      "text/plain": [
       "<122911x52304 sparse matrix of type '<class 'numpy.float64'>'\n",
       "\twith 11938334 stored elements in Compressed Sparse Row format>"
      ]
     },
     "execution_count": 40,
     "metadata": {},
     "output_type": "execute_result"
    }
   ],
   "source": [
    "text_tfidf"
   ]
  },
  {
   "cell_type": "markdown",
   "id": "a8279317",
   "metadata": {},
   "source": [
    "## Exploring Topics by words"
   ]
  },
  {
   "cell_type": "code",
   "execution_count": 41,
   "id": "51183cb3",
   "metadata": {},
   "outputs": [],
   "source": [
    "word_series = pd.Series(feature_names)\n",
    "\n",
    "def words_by_tops(tfidf_mat, top_mat, topic_range=(0,0), n_words=10):\n",
    "    topic_word_scores = tfidf_mat.T * top_mat\n",
    "    for i in range(topic_range[0],topic_range[1]):\n",
    "        word_scores = pd.Series(topic_word_scores[:,i])\n",
    "        word_index = word_scores.sort_values(ascending = False)[:n_words].index\n",
    "        print('\\nTopic #{}'.format(i))\n",
    "        for index in word_index:\n",
    "            print(word_series[index],'\\t\\t', word_scores[index])"
   ]
  },
  {
   "cell_type": "code",
   "execution_count": 42,
   "id": "297312de",
   "metadata": {},
   "outputs": [
    {
     "name": "stdout",
     "output_type": "stream",
     "text": [
      "\n",
      "Topic #0\n",
      "the \t\t 54.44045388932147\n",
      "and \t\t 45.500826285657475\n",
      "to \t\t 26.28183699846035\n",
      "in \t\t 22.080846851710902\n",
      "with \t\t 17.995023558449592\n",
      "cup \t\t 16.603089079344272\n",
      "until \t\t 15.111944299626145\n",
      "of \t\t 13.834058432376331\n",
      "salt \t\t 12.518896288390774\n",
      "sugar \t\t 12.35291589159275\n",
      "\n",
      "Topic #1\n",
      "the \t\t 1358.6526899084065\n",
      "and \t\t 1054.259648480241\n",
      "to \t\t 569.5978049783492\n",
      "add \t\t 417.75077295368436\n",
      "pepper \t\t 362.0801745678688\n",
      "oil \t\t 359.06559485799045\n",
      "with \t\t 349.96187991190453\n",
      "shrimp \t\t 343.2850172250286\n",
      "in \t\t 338.8634574423617\n",
      "heat \t\t 325.8158106967106\n",
      "\n",
      "Topic #2\n",
      "the \t\t 53.43337122903675\n",
      "and \t\t 44.316255283384045\n",
      "to \t\t 25.56113071565084\n",
      "in \t\t 21.399211599207447\n",
      "with \t\t 17.522659520100348\n",
      "cup \t\t 16.801591979200644\n",
      "until \t\t 14.955006078590596\n",
      "of \t\t 14.01124791200314\n",
      "salt \t\t 12.385038496791692\n",
      "pepper \t\t 12.340623715225174\n"
     ]
    }
   ],
   "source": [
    "words_by_tops(text_tfidf, text_lda, (0,3), 10)"
   ]
  },
  {
   "cell_type": "code",
   "execution_count": 43,
   "id": "3e1c05e7",
   "metadata": {},
   "outputs": [
    {
     "name": "stdout",
     "output_type": "stream",
     "text": [
      "\n",
      "Topic #0\n",
      "the \t\t 151.28390587789903\n",
      "and \t\t 141.39168827419158\n",
      "to \t\t 87.09676601532006\n",
      "in \t\t 51.165395539053065\n",
      "add \t\t 48.969413580944526\n",
      "heat \t\t 44.40717961881249\n",
      "with \t\t 42.25607606737812\n",
      "minutes \t\t 38.76965715557278\n",
      "until \t\t 38.2424616116649\n",
      "water \t\t 37.285139774689206\n",
      "\n",
      "Topic #1\n",
      "chicken \t\t 247.40115534753522\n",
      "the \t\t 160.96732190335823\n",
      "and \t\t 141.21933831702154\n",
      "to \t\t 82.02499284123157\n",
      "in \t\t 60.756908047509036\n",
      "pepper \t\t 50.58231898535551\n",
      "with \t\t 49.717981041476015\n",
      "heat \t\t 46.03518865147627\n",
      "oil \t\t 44.378185207832104\n",
      "minutes \t\t 44.27481549588628\n",
      "\n",
      "Topic #2\n",
      "the \t\t 274.75702616234\n",
      "and \t\t 267.99631909560907\n",
      "to \t\t 137.79341366739916\n",
      "pepper \t\t 118.05056363871198\n",
      "with \t\t 111.497487331976\n",
      "oil \t\t 103.38371487972903\n",
      "salt \t\t 96.61422727189061\n",
      "in \t\t 95.33979661595245\n",
      "olive \t\t 71.0829469201892\n",
      "until \t\t 68.97784850123989\n"
     ]
    }
   ],
   "source": [
    "# Words using NMF\n",
    "words_by_tops(text_tfidf, text_nmf, (0,3), 10)"
   ]
  },
  {
   "cell_type": "markdown",
   "id": "2af05837",
   "metadata": {},
   "source": [
    "## Keyword Extraction of Topics Using TextRank"
   ]
  },
  {
   "cell_type": "code",
   "execution_count": 44,
   "id": "aa5c9f73",
   "metadata": {},
   "outputs": [],
   "source": [
    "text_index = pd.Series(text_nmf[:,1]).sort_values(ascending = False)[:100].index\n",
    "text_4summary = pd.Series(cleaned_text)[text_index]\n",
    "\n",
    "# Manually Creating a list of recipe stop\n",
    "recipe_stopwords = ['cup','cups','ingredient','ingredients','teaspoon','tablespoon','oven']"
   ]
  },
  {
   "cell_type": "code",
   "execution_count": 45,
   "id": "29bd7e71",
   "metadata": {},
   "outputs": [
    {
     "name": "stdout",
     "output_type": "stream",
     "text": [
      "Execution Time: {} seconds 2.4395060539245605\n"
     ]
    }
   ],
   "source": [
    "# generating topic filter\n",
    "import time\n",
    "start_time = time.time()\n",
    "\n",
    "parsed_texts = nlp(' '.join(text_4summary)) \n",
    "kw_filts = set([str(word) for word in parsed_texts \n",
    "                if (word.pos_== ('NOUN' or 'ADJ' or 'VERB'))\n",
    "                and str(word) not in recipe_stopwords])\n",
    "\n",
    "print('Execution Time: {} seconds', time.time() - start_time)"
   ]
  },
  {
   "cell_type": "code",
   "execution_count": 46,
   "id": "6a393d19",
   "metadata": {},
   "outputs": [],
   "source": [
    "kw_filts = set(list(kw_filts))"
   ]
  },
  {
   "cell_type": "code",
   "execution_count": 47,
   "id": "10e8206d",
   "metadata": {},
   "outputs": [],
   "source": [
    "parsed_texts = list(set(parsed_texts))"
   ]
  },
  {
   "cell_type": "code",
   "execution_count": 48,
   "id": "1309f23a",
   "metadata": {},
   "outputs": [
    {
     "name": "stdout",
     "output_type": "stream",
     "text": [
      "{can, over, pinch, breasts, cooked, Add, the, cloves, Chicken, degrees, and, dish, Salad, garlic, to, skillet, pound, thickens, and, cold, to, cook, side, to, with, flour, Continue, cayenne, Turn, minute, until, no, more, and, in, chicken, boneless, about, rice, chicken, and, and, to, in, herb, chicken, cloves, or, C, ounce, tossing, of, chicken, Turn, simmer, heat, Clean, minutes, broth, minutes, to, sauce, a, Brown, chicken, with, minutes, to, through, Transfer, black, over, with, with, clear, until, Add, to, pieces, cooking, around, thyme, the, Lemon, green, Paprika, Preheat, a, Season, pepper, halves, pound, over, in, pot, olive, to, fresh, oven, chicken, vinegar, before, stir, pepper, thickened, to, preheated, tablespoons, Melt, butter, with, pie, the, olives, and, chicken, baking, Cover, stirring, Italianstyle, drumsticks, is, cook, salt, white, Drain, season, into, oil, bottom, Pour, paprika, into, shallots, heat, thinly, oil, to, paprika, minutes, chicken, chicken, grated, on, ingredients, white, pan, can, chicken, brown, to, garlic, with, into, minced, taste, plastic, butter, heat, flour, the, °, wine, spinach, and, cooked, the, the, until, frying, Sauce, Line, to, lemon, preheated, reduces, temperature, half, pepper, pieces, water, and, minutes, over, in, skin, a, simmer, ovenproof, minutes, temperature, the, be, vegetable, with, saucepan, large, Garnish, Transfer, cup, or, up, the, taste, C, with, Cover, about, about, Chicken, bowl, chicken, tablespoons, pieces, Bring, add, garlic, minutes, Chicken, chicken, Spread, about, longer, run, Using, unsalted, Add, lowsalt, Combine, skinless, with, oven, lemon, stirring, Dried, mild, over, sauce, through, mustard, In, for, cup, package, and, plates, Turn, ingredients, about, dry, all, heat, Cover, Bake, bring, Dutch, Add, chicken, slightly, canned, cup, about, cup, oil, partially, Place, until, vinegar, thermometer, reduce, about, sides, chicken, with, Whisk, egg, green, of, the, pepper, or, mesquite, consistency, chicken, under, remainder, like, salt, occasionally, off, soup, keep, skillet, a, Roast, over, chicken, degrees, degrees, to, cups, meantime, in, heat, juices, Transfer, Kaiser, flour, salt, high, minutes, almost, Run, juice, teriyaki, degrees, marinade, Roasted, cup, Add, dried, crumbled, on, per, chicken, chicken, cook, a, large, pepper, carrots, inches, slices, salt, over, to, with, ovenproof, use, taste, Brown, Refrigerate, clove, to, per, salt, flour, carrot, the, bowl, teaspoon, finely, When, about, cup, platter, Scallion, finely, each, with, sauté, until, over, to, parsley, skillet, salt, oregano, bread, the, Orange, chicken, stock, Coarse, dish, cover, onions, Wilted, on, and, sprigs, marinade, Remove, chicken, slices, bowl, crisp, heat, cooked, oil, teaspoon, into, salt, chicken, remaining, breast, rotating, be, coated, the, a, small, over, Pound, Noodle, and, Heat, for, and, cheese, chicken, tender, lime, Savory, side, olive, thickness, a, gently, chicken, Combine, over, about, pink, keep, and, softened, seal, in, cook, and, the, butter, minutes, chopped, to, brown, until, unsalted, with, oven, and, bake, Rice, crisptender, flour, chicken, and, needed, oven, tablespoons, and, season, thin, each, chicken, deglaze, pan, scraping, in, butter, and, chicken, wine, over, pour, breast, to, salt, crosswise, and, to, Stir, Mix, oregano, half, fully, and, curry, zucchini, about, Then, the, falling, small, large, then, and, to, Dredge, and, half, boil, Using, over, dry, seasoned, same, cold, and, Add, on, until, minutes, Pour, dried, through, C, with, teaspoons, with, over, or, in, simmer, to, about, hours, and, pepper, is, smooth, should, Pour, the, Sprinkle, with, salt, chicken, eggs, chicken, to, F, separated, size, dry, and, chicken, and, chicken, Once, is, in, set, soften, chicken, oven, and, a, Transfer, broth, same, Add, cloves, simmer, slightly, for, turning, to, down, chicken, In, heat, and, Remove, about, until, and, browned, chicken, garlic, lowsalt, pan, celery, breast, with, heat, under, chicken, In, encase, condensed, with, skillet, fat, cream, heat, salt, or, turning, to, wine, boneless, Put, separately, bake, chicken, sauce, until, minutes, with, about, zested, sure, meat, thickened, and, side, Mix, coat, for, pinch, over, reduce, but, over, longer, together, with, rice, breast, Add, pot, no, juices, run, vegetable, occasionally, minced, until, a, chicken, platter, meat, chicken, over, chicken, over, coat, chicken, white, Preheat, spoon, knife, chicken, rosemary, to, Easy, dish, brown, to, chicken, about, oil, the, chicken, to, shake, cup, oven, Garnish, to, butter, tablespoon, a, to, minute, salt, chicken, vegetable, cheese, large, shallow, Weeknight, large, medium, tablespoons, degrees, be, place, Melt, cook, tender, minutes, skillet, for, garlic, with, white, flour, and, juices, Heat, chicken, collected, cube, Remove, reduce, In, dressing, Add, through, heated, to, teaspoons, discard, additional, saucepan, refrigerate, the, chicken, salt, pepper, from, cup, minute, fresh, chicken, Reduce, black, side, breast, halves, Place, heavy, chicken, a, pale, heat, broth, to, minutes, Cover, chicken, and, chicken, chicken, Creamy, and, a, golden, and, Increase, Heat, oven, broth, until, tomato, chicken, side, cavity, thickens, buttermilk, shallots, baking, Simmer, Transfer, until, cup, the, plain, thighs, serve, ounce, to, chicken, Dinner, boil, about, shallow, sauce, rack, heat, with, all, several, day, asCurried, and, soup, skillet, rosemary, to, Increase, prepared, to, olive, chicken, and, heat, Transfer, Sprinkle, ounce, chicken, Chicken, little, in, lemon, chicken, and, or, chicken, teaspoon, flour, Using, and, about, Rinse, splash, well, broth, oil, chicken, and, chopped, cloves, melted, and, salsa, heat, degrees, minutes, Place, wine, pan, breasts, marmalade, bread, through, pan, over, from, Add, chicken, simmer, the, simmer, reduced, juice, keep, about, chicken, oil, on, a, or, simmer, breasts, brown, lowsalt, over, to, Season, butter, in, teaspoons, and, sliced, each, and, noodles, tongs, and, and, tablespoons, of, the, occasionally, flour, taste, chicken, medium, pounder, and, skinless, on, Lightly, in, with, Bring, neck, a, to, very, clear, to, Country, chicken, pepper, Season, in, Return, under, wine, degrees, chicken, with, cream, salt, frozen, pepper, sides, fresh, Wrapped, reserve, time, browned, tray, skillet, hot, parsnips, vegetable, cheese, pepper, mushrooms, boil, breasts, Toss, in, is, at, on, or, Green, nonstick, Add, oven, salt, pepper, Roll, minced, together, zest, jalapeno, plain, Add, white, cornstarch, Potatoes, on, Place, tablespoons, brown, is, heat, heat, Cover, over, about, pepper, aside, in, to, optional, just, simmering, pepper, a, lower, garlic, in, teaspoon, warm, Preheat, shake, the, in, each, sides, Sauté, occasionally, a, juices, large, powder, cup, of, just, Place, for, day, pieces, If, spinach, to, Sprinkle, chicken, pound, chicken, oil, dish, set, the, skillet, mushrooms, and, Chicken, to, and, cheese, pan, distribute, Herb, through, heat, Remove, the, Place, powder, chopped, bag, pan, hot, loosely, wine, a, over, wine, parsley, Cover, minutes, browns, cup, and, degrees, cooked, minutes, and, a, minutes, in, minutes, lemon, until, pepper, noodles, chicken, chopped, stock, for, browned, To, olive, chicken, no, leaves, pour, broth, each, mixture, pepper, a, thin, at, pan, broth, whisk, dark, the, Heat, ingredients, teaspoon, more, the, breast, of, Melt, plastic, in, add, F, through, onions, and, pounder, chicken, heat, Remove, Carefully, add, teaspoons, Add, and, surface, cover, chicken, weed, minutes, side, and, Italian, wooden, breast, brown, medium, minutes, low, thyme, chicken, sauce, through, Let, inch, over, flavor, with, garlic, pepper, then, roll, additional, chicken, Simmer, C, the, combine, salt, wine, salt, cup, any, chicken, allpurpose, melted, and, breasts, minutes, evenly, frying, salt, chicken, to, bags, bring, and, small, so, doneness, about, lemon, to, edge, until, Increase, and, chicken, and, small, and, is, Place, for, minutes, tablespoons, shallots, to, and, broth, bouillon, Bake, chicken, water, with, tablespoons, butter, of, and, mediumhigh, heavy, chicken, discard, chipotle, them, chicken, Continue, around, chicken, breast, oven, refrigerate, Heat, just, broth, is, in, smooth, the, until, does, no, minute, until, the, into, Refrigerate, minutes, and, skillet, juices, cumin, lowsalt, inside, juice, cook, Chicken, potatoes, tablespoons, mediumhigh, pink, juice, Portuguese, clear, at, side, fresh, then, glass, Place, pan, to, together, skillet, cooked, butter, platter, cooked, to, constantly, golden, all, and, warm, Chicken, keep, poultry, serve, by, Honey, sprigs, is, cooked, foil, excess, broth, °, parsley, cups, pot, skillet, or, F, in, pepper, skillet, the, tablespoon, thinly, Pour, large, cloves, oil, Remove, a, Easy, racks, in, Sprinkle, and, sauce, chicken, remove, the, chicken, Heat, clear, oil, return, skin, remaining, oven, to, to, Marinate, minutes, chicken, to, Cover, bouillon, from, pour, fat, hours, Simmer, and, ground, and, stock, skinside, leaves, platter, to, together, and, The, chicken, breasts, the, Piccata, bowl, teaspoons, low, button, and, chicken, poach, tablespoon, parts, until, evenly, Bake, thigh, Dutch, turning, black, to, Season, °, over, is, in, chicken, peeled, and, eggs, cloves, with, until, oven, is, chicken, is, about, chicken, ounces, tablespoons, chicken, Using, a, breasts, thickened, Transfer, black, about, Dip, In, to, In, flour, to, breast, Make, Cut, through, mediumhigh, milk, Boil, Cover, pepper, pan, xinch, or, a, aside, low, to, rosemary, breasts, with, cup, ounce, marinate, large, and, to, oil, cooked, skillet, rosemary, plate, transfer, run, Roast, pepper, broth, cover, Creole, next, into, warm, tablespoons, thinly, chicken, skinless, can, halves, chicken, side, lime, for, chicken, with, reducedsodium, mix, Chicken, over, minutes, chicken, chicken, sauté, all, F, medium, minute, over, Boil, Spoon, cup, oven, thermometer, skillet, chicken, chicken, a, chicken, broth, heat, and, taste, oil, all, roll, coat, chicken, chicken, off, Chicken, minute, together, Pour, fresh, Sprinkle, Chicken, chicken, oil, chicken, salt, dressing, Place, chicken, Coq, chicken, flat, a, of, backbone, bowl, cover, cover, minutes, over, Chicken, lemon, over, with, sour, skillet, garlic, back, Transfer, even, Sauce, oven, chicken, juice, chicken, in, Cajun, Chicken, the, minutes, simmer, medium, and, serve, and, center, over, tender, heat, ham, oil, to, F, off, stand, Orange, on, juice, degrees, ground, a, around, side, garlic, chopped, chicken, yogurt, breasts, teaspoon, with, the, shallow, breast, halfandhalf, minutes, low, mushrooms, strips, Morph, Add, oil, a, degrees, pot, separate, through, refrigerate, half, over, to, made, of, pepper, some, to, a, spoon, excess, of, until, is, vegetables, minutes, Return, skillet, skillet, ground, shallots, pepper, clear, in, carrot, Cover, until, chicken, casserole, Using, and, to, skinless, even, a, flour, peeled, Add, to, covered, teaspoon, Place, and, Place, wine, bowl, basil, on, to, lightly, minutes, chicken, from, and, on, fresh, chives, the, slices, minutes, about, oil, pan, heat, minutes, to, large, garlic, minutes, over, sprinkle, ®, cook, leave, tomatoes, Dip, chicken, thighs, large, foil, Carrot, is, and, layer, and, oregano, a, Add, of, garlic, pound, all, pink, tablespoon, remaining, over, arrange, degrees, tablespoon, castiron, Spoon, hours, red, soup, sauce, sugar, in, oil, accumulated, instantread, pieces, in, with, bone, with, skillet, crumbs, chicken, garlic, mixture, add, rolling, a, chicken, fat, until, and, in, to, until, mallet, about, allpurpose, chicken, chicken, to, pepper, Season, coat, of, on, over, chicken, and, Mix, chicken, oil, juices, stand, In, Roast, stuffing, and, in, sauce, will, bread, Fold, heated, low, for, ground, chopped, oil, ounce, to, oil, are, pepper, once, be, diced, chicken, sides, and, Add, well, boil, seasonings, of, pepper, into, Stir, over, evenly, edges, side, with, teaspoon, sauté, to, aside, combine, and, minutes, chicken, from, chicken, platter, to, poultry, is, or, meal, cool, sugar, and, flour, Secure, soup, allpurpose, Add, and, Preheat, sauté, Reduce, whatever, sauce, roast, Spicy, and, tablespoon, cup, in, in, oven, through, until, through, oregano, of, chicken, longer, have, pink, to, about, eggs, in, for, serve, whole, chicken, Spoon, peanuts, broccoli, broth, the, oil, high, Coconut, flour, salt, Mix, the, minutes, medium, skinless, hours, on, mushrooms, and, Cook, in, into, thickness, kitchen, bowl, about, Preheat, teriyaki, to, salt, minute, a, Arrange, into, pan, skinless, F, heat, minutes, Chicken, thyme, Preheat, and, keep, Fry, boil, Arrange, serve, about, breasts, the, broth, chicken, juice, an, until, Using, lemon, slices, into, the, Spoon, zucchini, and, Garlic, prepared, chicken, tarragon, Chicken, the, over, medium, tablespoons, chicken, oil, minutes, Broth, to, bones, pour, sprinkle, and, a, cavity, chicken, pounds, per, refrigerate, side, and, vinegar, top, or, occasionally, teaspoons, with, Ritz, raspberry, cook, Heat, sauce, from, a, are, will, simmer, a, boneless, an, to, chili, add, lemons, both, plates, chicken, oil, breasts, with, boneless, the, over, about, cooked, and, with, Combine, Cook, about, to, platter, of, or, with, cups, minced, breast, is, to, longer, place, least, roasting, olive, peeled, salt, spoon, oven, skin, off, to, to, Melt, minutes, skillet, small, line, burned, with, In, crosswise, minutes, Add, low, in, all, can, oil, marinade, dish, Deglaze, platter, pan, chicken, Increase, garlic, allpurpose, simmer, flour, sour, minutes, Bring, Preheat, a, clove, skin, some, juices, chicken, teaspoon, GarlicRoasted, to, flour, into, stir, chicken, minutes, in, casserole, liquid, butter, chicken, on, sprigs, broth, wholegrain, to, until, chicken, soy, place, side, and, sauce, melted, chicken, heat, minutes, brown, If, Bring, brown, is, C, heat, in, olive, drippings, high, white, bubbly, into, mediumhigh, cooked, ounce, inch, halves, finely, chicken, until, salt, cooked, large, the, chicken, soy, chicken, overnight, Bleu, in, a, stock, Preheat, with, flour, and, a, on, pepper, sealable, skillet, to, Vin, half, and, chicken, for, oil, the, simmer, tablespoons, toothpicks, chicken, boneless, and, Preheat, and, simmer, Heat, glass, oven, to, thickness, small, degrees, pot, thawed, Reduce, stock, pound, to, per, side, juices, and, on, cup, over, read, Fragrant, minutes, simmer, tablespoons, and, vinegar, C, Season, least, Sherry, garlic, chicken, degrees, pepper, heat, chicken, heat, with, onions, each, tarragon, sauce, in, Dip, down, and, and, heat, and, a, wraps, broth, chicken, mallet, degrees, mushrooms, large, minutes, thyme, heat, until, and, ahead, Top, package, and, F, bowl, accumulated, the, Pour, tie, tender, cup, chicken, shallots, high, teaspoon, skillet, pimento, large, lightly, chicken, and, Bring, is, too, with, dry, over, simmer, meat, knife, skillet, coating, quartered, shallots, skillet, or, pepper, strips, juice, cup, the, chicken, on, wedges, chicken, tongs, and, Remove, with, platter, juice, oven, in, olive, for, minutes, until, both, brown, to, parsley, Combine, deep, seconds, chicken, heat, on, Chicken, broth, chicken, bits, chicken, pieces, skillet, can, over, in, Place, top, until, heavy, to, garnish, in, water, off, and, cut, with, a, thyme, the, Cover, raspberry, Season, degrees, and, and, sauce, up, tablespoon, and, slightly, ground, x, sauce, spoon, inserted, breast, x, chicken, peeled, in, stir, in, Saute, and, evenly, the, onion, lightly, then, Scrape, chicken, about, Saute, bowl, sauté, about, of, cup, saute, plate, Add, preheated, breasts, in, chicken, sides, heat, stir, the, and, serve, paste, clear, covered, pot, until, Pour, Heat, saucepan, chicken, shallow, edges, can, about, before, total, pepper, in, juiced, sour, Simmer, over, drain, large, twice, for, day, on, with, minutes, with, pepper, a, wine, of, in, into, heat, golden, chicken, a, sauce, black, brown, Add, onion, brown, until, is, salt, cover, well, simmer, taste, and, longer, chicken, Serve, Arrange, to, olive, day, oven, tablespoon, and, chicken, and, brown, to, preference, to, is, fresh, Add, middle, large, the, Transfer, is, chicken, onions, meat, flour, chicken, the, in, teaspoon, the, skillet, per, press, the, hours, chicken, teaspoon, small, juices, carrots, package, until, wine, Sprinkle, Sauce, teaspoon, garlic, teaspoon, pepper, Garlic, saute, chicken, up, Do, F, chilled, nearly, bowl, small, tender, Roast, inch, Season, cup, or, to, wine, directions, pepper, in, bowl, minutes, mixture, chicken, chicken, C, mediumlow, chicken, and, Swanson, to, sauce, Preheat, of, any, breasts, Paprika, whole, a, butter, spray, Bertolli, chicken, chicken, book, is, sharp, teaspoon, cheese, salt, with, sauce, into, with, oil, sheets, pancetta, add, egg, and, chicken, tablespoon, with, tarragon, ounces, heavy, Chicken, add, and, olive, in, with, chicken, skillet, chicken, platter, into, flour, Preheat, sauce, chicken, over, pan, the, Poached, Creole, tarragon, crushed, cup, browned, no, boil, Preheat, dish, through, in, oil, to, breast, temperature, Season, to, about, and, Melt, reduces, just, cider, sprigs, Transfer, in, breast, should, heat, Pour, turning, frequently, and, rosemary, Low, pound, with, shortening, lemon, juices, juices, water, prosciutto, through, or, in, teaspoons, on, the, cup, into, ground, chicken, halves, on, heat, and, tablespoons, butter, cooking, cook, minced, or, roasting, This, Salt, chicken, thin, Using, prosciutto, large, until, done, heavy, about, the, with, cover, into, fully, and, peeled, seasoned, potato, each, at, a, to, of, tablespoons, cream, over, high, flour, golden, Breasts, the, pieces, Wilted, over, until, bowl, Whisk, brown, cup, to, of, skillet, chicken, Remove, are, White, and, sheets, and, Simply, Reserve, Preheat, liquid, slightly, platter, pound, on, whole, a, is, and, each, pepper, Season, in, reduced, simmering, Preheat, minutes, Vegetable, center, paper, and, condensed, baking, minced, on, and, fresh, pepper, Remove, it, over, crumbs, flour, the, and, a, skinless, Season, mushrooms, the, drizzle, and, cornstarch, securing, with, skillet, sides, pink, bag, sauté, inch, extravirgin, sliced, several, Garlic, In, use, fresh, milk, chicken, cup, transfer, sprinkle, Mix, it, breast, Add, chicken, tablespoons, dish, cook, reduced, off, combine, degrees, brown, canned, to, serving, basil, serving, Pour, chicken, to, dressing, sides, oil, heat, least, Chicken, chicken, the, heat, cooked, thyme, hour, with, breast, olive, cup, and, Remove, milk, in, Season, granules, oil, and, grated, half, chicken, the, large, pieces, until, for, heat, pepper, bowl, about, to, a, each, Place, and, tacos, heat, oil, reduces, until, until, cup, spinach, chicken, chicken, into, the, with, string, in, mushrooms, juice, the, until, oven, black, high, cup, Add, x, thyme, In, room, through, reduce, foil, wine, chicken, mediumlow, chicken, three, chicken, the, bring, chicken, such, brinecured, the, lowsalt, Roast, in, bottom, a, inch, dry, chicken, to, discard, then, skillet, garlic, degrees, bag, cold, Breast, is, until, Wilted, or, immediately, salt, Dip, saute, platter, chicken, sides, Sherry, large, juices, inside, egg, aside, made, heat, ovenproof, between, skillet, is, pepper, Simmer, and, pot, white, the, sprig, a, salt, reduce, liquid, pieces, cook, to, for, fleshy, to, liquid, day, vinegar, brown, seconds, mixture, pan, flour, Place, occasionally, the, halves, Chicken, with, and, skillet, Add, to, golden, on, shaking, baking, until, and, chicken, warm, heat, prick, Turn, two, broth, softened, per, bits, bell, bread, mediumlow, slice, to, and, salt, mixture, is, chicken, Season, mixture, mustard, skillet, garlic, Chicken, salt, through, before, chicken, is, butter, in, water, Chicken, and, chicken, French, Transfer, Melt, Place, garlic, mixture, spicy, You, uncovered, Roast, pieces, olives, minutes, Preheat, Cover, of, and, each, lid, next, level, velouté, rolled, preheated, chicken, chicken, mixture, filling, bowl, the, teaspoon, bottom, to, push, pieces, is, make, pepper, stand, desired, until, olive, pepper, in, no, Potato, Refrigerate, Grill, yellow, Cool, degrees, oil, for, the, over, bottom, Cover, a, and, turning, leaves, salt, milk, the, over, and, to, cooked, cooked, caramelized, zest, center, thyme, the, over, Transfer, flour, top, chicken, plates, rosemary, transfer, grated, plum, sauce, coats, garlic, with, to, teaspoon, herb, teaspoon, boneless, Tarragon, halves, degrees, overcook, rimmed, over, Add, egg, and, minutes, uncovered, season, salt, your, F, lightly, the, sauce, juice, together, chicken, to, a, halves, garlic, simmer, the, between, Chicken, F, the, Pour, chicken, bits, thickened, allpurpose, degree, vegetable, the, Alfredo, cooked, any, flour, medium, knife, and, bacon, heat, and, chicken, minced, In, garlic, slotted, chicken, chicken, cup, broth, Stir, strips, stir, and, chicken, cream, Provence, Gravy, the, Preheat, cup, slow, Return, skillet, cooked, pat, oven, pieces, olive, to, blender, chicken, chicken, garlic, until, basil, minutes, Sauce, each, butter, chicken, all, pink, high, Broil, boneless, minutes, beaten, whipping, of, F, tablespoons, °, Orange, chicken, longer, In, with, juices, through, salt, chicken, pieces, chicken, seasoning, degrees, minutes, mixture, occasionally, with, spoon, sauce, to, the, Combine, to, drop, skin, chicken, paste, white, pressing, chicken, chicken, skin, inch, over, into, juice, sticks, secure, platter, panko, bone, add, PanBraised, oil, pepper, broth, golden, chopped, saute, with, side, ground, cup, Return, transfer, down, take, of, together, skillet, Add, mixture, and, broth, small, and, until, olive, aluminum, Heat, F, Reduce, F, occasionally, sauce, butter, to, until, lightly, F, chicken, flour, dry, in, the, Serve, broth, oil, to, shallots, rub, and, refrigerate, from, the, about, uncooked, broth, plastic, pan, Chicken, remaining, to, marinade, about, chicken, sides, breasts, bring, boil, longer, through, breast, cumin, to, medium, cup, herbs, bacon, read, mallet, run, of, until, rosemary, sheet, until, with, garlic, chicken, foil, heat, coated, vegetables, oil, Place, wine, skillet, minutes, to, garlic, and, chicken, place, with, and, pound, salt, juices, chicken, brown, the, oil, and, pepper, medium, pan, shallow, lowsalt, juice, with, are, cup, to, scallions, tablespoons, times, quart, to, cheese, to, in, chicken, minutes, half, Season, lemon, bag, chicken, Place, F, sliced, Place, over, about, about, as, from, extravirgin, cream, F, chicken, skillet, the, pickles, mushrooms, and, the, mediumhigh, and, cup, pound, oil, and, from, until, Transfer, salt, flour, to, smooth, first, wine, tablespoon, Super, and, mixture, them, Stir, low, Dijon, together, total, Return, then, chicken, chicken, breast, until, wrap, stand, heavy, is, a, then, lowsalt, packages, cornstarch, skin, chicken, is, large, secure, bouillon, to, fresh, slices, and, broiler, egg, Season, wine, Reduce, roasting, until, shallow, before, minutes, ingredients, in, lowsalt, olive, Add, Cook, plus, aside, stock, a, and, Tabasco, green, Cover, broth, turn, slow, thoroughly, greased, Sprinkle, paper, plates, Marinate, in, with, to, chopped, degrees, all, thyme, and, chicken, are, tablespoons, chicken, first, to, in, over, serve, egg, flour, pepper, of, skin, stovetop, out, then, keep, skillet, chicken, over, of, ahead, garlic, chicken, until, high, cup, some, the, skillet, pepper, to, boil, of, with, separate, or, of, F, Mix, and, spaghetti, minutes, to, longer, chicken, piece, minutes, then, legs, boneless, and, jalapeno, salt, fruits, Arrange, on, mediumhigh, excess, thickens, Simmer, again, a, over, all, over, of, lemon, Add, Meanwhile, inch, golden, and, cups, for, each, pot, for, oil, skillet, through, salt, and, continue, and, heat, fragrant, from, pepper, minutes, Skim, leek, over, top, through, minutes, balsamic, large, ground, then, soup, pepper, in, breasts, ounce, skillet, white, leave, seasoning, minutes, to, firm, cup, Sherry, to, milk, Cover, and, Add, for, to, Firmly, meat, mediumlow, breasts, until, and, skin, lightly, secure, remaining, sauce, pinch, side, boil, white, dry, through, lemon, Heat, Serve, serve, to, in, until, center, place, run, the, chicken, diced, slightly, to, butter, Transfer, side, of, minutes, and, degrees, through, about, cups, pepper, until, minutes, heat, Stir, tent, about, Using, Serve, parsley, simmer, coated, flour, coat, heat, to, again, mediumhigh, before, sauce, run, Raspberry, cheese, chopped, mix, stirring, two, and, on, pepper, fresh, together, oregano, plates, chopped, degrees, the, sheets, reduces, flour, and, until, chicken, the, heat, cup, ounce, chicken, and, with, and, large, water, cook, boil, chicken, chicken, halves, and, bowls, skillet, C, chicken, juices, thoroughly, the, cup, for, Casserole, tablespoons, Working, Tbsp, about, until, powder, cover, the, juices, freshly, spoon, all, first, fresh, same, ounce, Turn, golden, season, teaspoon, transfer, paste, until, to, the, the, until, allpurpose, in, chicken, white, and, oven, to, about, Stuff, Turn, for, teaspoons, each, heat, to, in, F, internal, boil, potatoes, skinless, baby, cups, just, about, Quickest, it, until, breast, and, Stir, large, C, have, turning, Cooking, rice, sauce, Bake, in, small, minutes, room, your, both, side, transfer, Remove, degrees, chicken, chicken, tongs, and, chicken, thickened, Shred, to, breasts, broth, warm, you, pound, occasionally, and, tongs, adhere, cube, no, minced, should, clove, heat, bag, of, Greens, toothpicks, chicken, breadcrumbs, °, butter, thin, jar, canned, salt, in, cooked, cilantro, sauce, foil, spaghetti, pepper, ounce, sauce, to, garlic, into, Remove, chicken, mediumhigh, breasts, should, and, simmer, pot, Remove, is, cup, top, center, olive, C, cover, C, Chicken, balsamic, a, Cover, thickened, shaking, the, off, peanuts, of, seal, rice, simmer, juice, Season, lowsalt, rosemary, from, mixture, shaking, and, Season, almonds, rosemary, With, heat, Soup, Lay, F, a, into, freshly, the, boil, the, and, thickened, a, large, with, over, minutes, Combine, chicken, least, rolling, salt, soup, to, teaspoon, with, browned, Split, the, chicken, chicken, just, a, chicken, finely, about, instantread, with, skillet, all, then, Grill, until, to, to, pepper, clear, chicken, minutes, will, allpurpose, dressing, down, or, broth, flour, and, skin, tender, chopped, wilt, with, salt, coat, warm, boil, skillet, honey, with, up, then, and, for, all, with, until, turn, chicken, well, and, for, Mound, teaspoon, Dip, rosemary, paprika, C, pan, lemon, roll, and, wheat, and, all, Heat, flour, thyme, Sea, cut, discarding, is, plate, pepperCan, covered, add, over, in, vinegar, in, Chicken, cream, coat, honey, cloves, the, the, return, garlic, dressing, cup, is, tablespoons, and, on, skin, are, meat, chicken, Add, thickened, greased, and, broth, mozzarella, and, cheese, and, skillet, keeping, brown, the, until, minutes, tablespoons, cheese, to, chicken, Melt, thighs, tablespoon, about, Pour, using, are, combine, to, breasts, blender, preheated, broth, Cover, and, Arrange, per, to, water, the, while, enough, stick, about, chicken, white, simmer, and, Stir, inch, with, Place, a, covered, cup, garlic, Add, dried, Place, chicken, boil, through, Cut, brown, oil, halves, in, of, beat, heat, oven, coated, almost, chicken, wrap, bones, pan, pat, skin, To, wine, salt, heat, wrap, in, teaspoon, has, cooked, about, Season, broth, melted, directly, olive, oil, and, spray, and, whisk, chicken, registers, water, blended, over, cooked, side, with, shortening, butter, drumsticks, chicken, and, thighs, breast, melted, seeded, chicken, broth, around, sides, cups, turning, and, vegetables, together, F, heat, the, minutes, plastic, to, with, To, until, oil, oil, minutes, within, pepper, turn, lemon, medium, minutes, pepper, side, low, or, lightly, Add, in, chicken, rosemary, carrot, and, cover, from, Rinse, plastic, pepper, strain, cans, taste, medium, two, sides, medium, and, whole, condensed, broth, touch, white, boil, F, then, and, until, heat, minutes, Worcestershire, chicken, skinless, the, turning, make, chicken, and, down, Dip, set, and, chicken, pepper, toothpicks, to, until, ounce, wine, glaze, Whisk, in, over, Cosmos, ounce, large, cup, the, no, Drizzle, Chicken, pieces, to, and, uncovered, and, can, a, and, Tie, a, until, garlic, bacon, sauce, Transfer, longgrain, thickened, coats, each, rolled, seasoning, foil, longer, taste, bring, the, liquid, sauce, olive, in, the, sheet, dish, add, coat, chicken, and, Chicken, Spray, dry, Transfer, about, and, Add, bones, feta, leaves, oven, until, chicken, thyme, Transfer, skinless, foil, cup, and, until, about, the, will, pieces, tablespoons, chicken, salt, through, remaining, over, breast, bouillon, more, pot, flour, F, cooked, each, until, chicken, until, and, a, small, and, wine, Remove, buttery, minced, batches, or, Transfer, cooked, and, simmer, between, sliced, cups, over, or, in, small, Continue, chicken, in, about, pepper, salt, reduce, and, chicken, Lizzys, part, in, is, Simmer, pan, onions, Preheat, chicken, cook, salt, per, in, chicken, breast, cup, tablespoons, breast, medium, Bake, oven, serving, into, chicken, peeled, fluid, through, PankoCrusted, Chicken, firm, browns, salt, until, Transfer, Add, ground, chicken, oven, chicken, ounce, Swiss, salt, uncovered, nonstick, such, chicken, and, with, simmer, mixture, to, Transfer, pan, simmer, minutes, teaspoons, Piccata, reduce, the, chicken, fresh, the, halved, flour, Return, chicken, cup, more, pink, wine, chicken, minced, a, juices, shake, soup, tablespoons, skewers, onion, finely, Run, until, foil, picante, pepper, parsley, green, chopped, chicken, roasting, large, from, dry, orange, Boil, about, oil, pieces, fat, vegetables, to, and, at, to, slightly, fresh, and, lemon, lowsalt, Add, chopped, minutes, in, hour, Swiss, chicken, stick, chicken, skillet, cup, minutes, and, excess, mixture, flour, off, Top, bag, egg, slightly, Using, paprika, seasoning, skin, onions, with, over, excess, down, minutes, Toss, and, meat, Simple, water, breasts, to, coat, giblets, shallot, in, heat, boneless, run, minutes, roll, Place, and, heat, to, dish, sauce, place, F, pound, pepper, heavy, per, cup, and, Chicken, cooking, cook, until, about, cubed, the, garlic, of, inserted, and, until, deep, tablespoons, chicken, re, Bake, inch, serving, with, of, side, Preheat, teaspoon, overnight, in, mix, oil, diced, cups, pan, dry, lettuce, Mashed, pepper, side, minutes, the, to, mediumhigh, chicken, Serve, bits, over, Set, Preheat, chicken, and, salt, on, heat, skillet, Chicken, or, powder, pieces, optional, cornstarch, from, Greens, pinwheels, pot, pepper, such, to, tablespoons, just, onion, tablespoons, Pinch, in, marinade, zucchini, shallow, made, yogurt, chicken, and, butter, chicken, large, Soup, bowl, vegetable, minced, and, Pour, to, minced, juice, Unsalted, about, oil, seasoning, broiler, Return, or, with, cooked, to, minutes, inch, Add, chili, sliced, the, refrigerated, until, skin, chicken, Red, Simmer, sauce, fresh, oil, olive, skin, in, salt, about, over, large, bowl, salt, Using, about, oil, salt, fresh, for, with, about, halves, Add, pan, chicken, salt, the, tuck, cup, Sprinkle, over, Simmer, tablespoons, chicken, bay, parsley, dish, brown, in, bowl, chilled, paste, mediumhigh, mixture, and, of, chicken, from, sauce, minutes, chicken, no, chicken, slices, bowl, Add, coat, and, place, chicken, then, the, Return, meat, cooked, and, completely, down, medium, remaining, pepper, chicken, skillet, oven, in, dill, cover, about, per, grate, chopped, onto, to, salt, the, for, and, place, Pour, lime, oregano, F, a, mixture, breasts, chicken, cooked, boil, chicken, each, vegetable, skillet, chilled, baking, teaspoon, onto, sliced, plus, teaspoon, Drizzle, olives, quartered, chicken, ground, about, chicken, side, cook, of, chicken, freezer, while, skillet, for, Cover, tender, heavy, occasionally, of, cilantro, over, tablespoons, Add, chicken, cook, simmer, juices, to, and, over, tongs, and, chicken, baking, cilantro, foil, seal, to, taste, over, cream, garlic, into, of, the, Add, juice, cut, over, just, Stock, cup, reduced, the, breadcrumbs, chicken, is, °, chicken, in, the, drippings, occasionally, ground, is, the, cook, chicken, Set, chicken, with, ground, flour, frozen, canned, minute, lemon, ovenproof, remove, Chicken, skinless, over, mixture, run, pink, Herbed, for, into, per, overnight, cold, briefly, and, Strain, in, legs, is, broth, sauce, beaten, about, medium, rice, minutes, stirring, until, Cook, salt, on, Italian, to, boil, and, reduced, Let, Sauce, refrigerator, is, with, plastic, chicken, off, with, minutes, to, skinless, large, wine, oven, Mix, them, Bring, flatten, inch, tomato, to, thickens, into, light, to, chicken, cooling, minutes, to, Sweet, minutes, Pour, olive, Place, coat, cups, cups, to, run, SwansonR, or, with, and, in, pepper, from, each, giblet, about, whole, chicken, coat, about, chicken, dish, through, marinade, for, and, oven, crackers, reduce, chicken, chicken, to, about, lemon, pepper, chicken, chicken, off, dry, Chicken, each, through, minced, simmer, fresh, to, small, and, Transfer, plates, are, in, Chicken, the, is, brown, uncovered, heat, plates, large, mixture, to, egg, Transfer, shortening, with, up, minutes, minced, Top, uncovered, large, preheated, with, plastic, about, parsnips, chicken, minutes, Breasts, chicken, the, minutes, container, ground, Stir, breasts, pepper, salt, °, chicken, chicken, ounce, pepper, cooked, over, times, until, or, and, chicken, a, plate, shallots, set, minutes, chicken, fresh, chicken, to, and, all, heavy, onion, try, olive, salt, to, plates, on, until, with, bell, to, to, bake, shallots, chicken, butter, pecans, under, Put, and, bag, placing, reserved, trimmed, the, chicken, as, top, dressing, stuffing, arrange, juices, and, a, the, marinade, the, cover, until, degrees, oil, about, Melt, warm, over, broth, skinless, instantread, chicken, until, tablespoons, in, boneless, with, mediumhigh, chicken, to, large, chicken, oil, then, to, the, with, in, and, about, transfer, salt, Healthier, each, Mix, of, Sprinkle, waxed, Season, until, with, Add, the, Easy, flatten, a, Heat, seasoned, and, extra, bones, mediumlow, chicken, about, sauce, cream, in, Fried, chicken, medium, and, with, and, pan, seconds, to, aside, Preheat, Remove, orange, Bake, C, lowsalt, Transfer, browned, about, Uncover, chicken, pan, minced, is, the, oil, are, chicken, in, firm, Stir, Transfer, Peel, Chicken, Olives, about, orange, to, degrees, heat, small, the, pan, cream, wholemilk, slices, wine, Serve, Place, a, Season, cooked, to, boil, Add, thin, pan, minutes, chicken, With, to, rice, Cover, and, medium, F, be, stewed, lemon, beaten, oven, in, heat, with, chicken, bring, until, Blue, can, from, through, teaspoon, in, ground, boil, Carve, celery, whip, ahead, Bake, to, Cover, olive, garlic, Bring, boneless, the, potatoes, melted, aside, stock, Simmer, Worcestershire, cup, Broth, per, cup, a, honey, pin, velouté, about, and, crushed, dish, and, tablespoons, chicken, Shake, pan, up, tablespoons, olive, Sauce, low, chicken, brown, a, in, about, skillet, pepper, or, and, skinless, but, together, pepper, remove, platter, heavy, pepper, juice, for, Cover, tablespoons, juice, fresh, chicken, to, allpurpose, bits, slices, broth, on, bring, and, oil, remaining, at, a, large, orange, soup, dry, Add, until, least, mushrooms, Mix, and, enough, Cool, serving, pink, halves, Jack, chopped, to, teaspoon, the, butter, flour, into, to, and, on, In, excess, sauté, cheese, flour, shallots, sauté, or, minutes, center, cup, the, a, transfer, chicken, herbs, then, Continue, chicken, meat, Turn, Transfer, in, a, low, over, olive, simmer, chicken, in, preheated, with, chicken, cloves, and, split, breast, for, halves, over, teaspoons, teaspoon, then, slices, flour, olive, remaining, until, ends, hearts, over, pepper, with, Lay, orange, skin, pan, plate, work, Can, white, cut, with, minute, pot, at, Fold, the, brush, oil, and, garlic, brown, bell, to, clear, Season, Remove, Garnish, a, black, thyme, chicken, side, bag, it, allpurpose, Can, sides, cup, pan, plastic, Sprinkle, and, chicken, chicken, Uncover, through, balsamic, broth, glaze, medium, oil, to, cooked, Bake, cooked, rack, the, Pour, no, pepper, longer, pieces, cooked, beaten, roasting, covered, and, brown, combination, chicken, chicken, coconut, inch, over, the, allpurpose, breasts, heat, olive, about, Sauce, center, depending, oven, top, wine, meat, juices, reserved, with, cover, pickles, pieces, longer, and, according, with, chopped, In, preheated, pepper, about, II, between, reduce, serving, to, minutes, fresh, hours, together, to, coat, and, through, and, chicken, over, chicken, braise, wine, like, to, chicken, lime, sliced, with, about, F, slices, sugar, plate, halves, to, broil, simmer, Sour, on, stock, in, the, about, cubes, and, to, Chicken, salt, and, bowl, and, chicken, and, from, Roast, to, halves, and, per, top, the, chicken, Saute, Transfer, until, Chicken, sprinkle, as, to, down, cooked, halfway, Remove, chicken, onions, Bring, cup, Heat, crumbs, chicken, reaches, minutes, hot, until, minutes, coat, mushrooms, until, skinless, this, with, coated, large, and, near, brown, occasionally, just, and, sauce, mediumhigh, chicken, skinless, seasoning, cup, to, temperature, whole, baste, in, garlic, chicken, chicken, for, onion, boneless, Place, brown, tablespoons, ounces, Pinch, slotted, boneless, over, Turn, with, pepper, stock, lemon, each, taste, and, and, cooked, halves, condensed, chicken, about, a, evaporated, This, the, Heat, are, An, platter, over, Pour, until, plates, large, baking, chicken, for, salad, pot, diced, tender, garlic, pepper, spoon, pan, Turn, maintain, seasoned, shake, cut, about, the, more, over, a, translucent, stick, of, together, shake, heel, Simmer, cup, skillet, and, can, chicken, shake, cup, peel, ground, to, skillet, chicken, broth, simmer, into, degrees, pepper, Mix, with, skillet, chicken, chicken, to, inserted, sheets, is, oil, chicken, breast, mixture, Add, x, too, a, in, mediumlow, all, and, dry, refrigerator, is, Mix, to, chicken, thigh, covering, and, tarragon, Using, generously, is, about, to, you, au, in, surface, piece, dredge, olive, removed, and, halved, sauce, the, paprika, mixture, Remove, salt, in, chicken, salad, in, Sherry, inch, a, into, from, to, minutes, in, broth, chicken, minutes, about, until, cup, garlic, rosemary, through, should, brown, about, per, out, spread, skillet, chicken, broth, to, paper, skinless, dry, clove, and, F, touch, chicken, whisk, chicken, mediumhigh, mixture, large, atop, breast, additional, dried, plate, powder, cup, juices, Cover, high, chopped, In, on, chicken, the, skinless, F, meat, onions, between, and, of, cook, C, day, cup, cup, Remove, ounce, small, low, salt, rolled, a, reduced, ®, broth, Add, minutes, bowl, large, paprika, are, sauce, serve, garlic, buttermilk, occasionally, chicken, and, dish, tablespoons, rosemary, gentle, chill, chicken, and, together, the, the, Slide, hot, lowsalt, lemon, Add, over, Place, minutes, chicken, pound, chicken, Using, inside, pepper, drizzle, juice, lime, Preheat, heat, baking, cups, on, Root, Chicken, with, minutes, inch, heavy, Transfer, medium, for, and, Place, and, brown, ingredients, large, from, cover, skillet, oil, orzo, chicken, teaspoon, the, broth, skin, boil, tablespoons, Remove, slices, sour, sides, to, dried, food, butter, and, F, thermometer, skillet, soy, milk, wine, and, thickens, Cover, into, chicken, coat, slightly, the, turning, Remove, avocado, tablespoons, and, in, breasts, skin, skillet, clove, Add, over, rack, large, mediumlow, brown, chicken, small, from, brown, or, minutes, with, and, cheese, plate, on, Lemon, chicken, roast, all, chicken, Return, cook, through, anchovy, chicken, as, large, for, mix, loosely, small, and, and, patted, in, minutes, ounce, into, heat, large, Brush, chicken, each, container, black, mixture, toothpicks, ounce, paste, parsley, Dip, onions, concentrate, salt, cover, down, on, or, into, Cover, one, Bake, boil, mediumhigh, time, of, in, Transfer, ground, BBQ, plates, sauce, ®, cut, or, chicken, Preheat, heat, orange, occasionally, to, and, no, with, no, toss, with, same, made, to, flour, chicken, drippings, thyme, pound, heat, tablespoons, chicken, bake, bacon, teaspoon, high, minute, Cook, a, cover, minutes, chicken, chopped, nestling, Sprinkle, juice, pink, taste, enough, the, about, then, on, to, Transfer, at, sauce, cauliflower, halves, ounce, cook, the, heat, over, divided, bottle, red, Using, boneless, read, cream, °, pan, until, the, a, until, thickness, to, sweet, salt, oven, chicken, aside, and, rosemary, small, for, broth, package, Salt, to, Fried, Return, yogurt, and, oven, a, warm, sides, scraping, cup, in, or, tablespoons, heat, jar, until, bottom, open, Reduce, a, Return, Season, chicken, yogurt, minced, Using, olive, Spread, until, mediumlow, Tenders, tent, with, together, Season, An, bouillon, with, broth, together, pepper, tablespoons, chicken, chicken, Drunk, until, place, Rinse, in, cut, allpurpose, pepper, Add, mozzarella, mixture, overnight, broil, are, with, beef, ®, and, until, and, The, oven, Simmered, cooked, chopped, oil, optional, oven, the, internal, Chicken, I, thickened, baste, sides, paste, is, in, and, marinade, boil, Stir, for, bone, cooked, to, through, chicken, salt, minutes, on, a, chopped, salt, the, chicken, pan, with, through, with, cup, minutes, tent, powder, thighs, pan, Pour, for, cut, breasts, set, breast, and, the, transfer, taste, oil, resealable, Add, cup, garlic, and, a, about, to, of, bone, longer, and, lemon, slices, be, are, lemon, tender, thermometer, skillet, heat, white, is, juices, cloves, in, teriyaki, no, on, Bake, pepper, oven, minutes, minced, heavy, sauce, over, to, Dredge, Dip, coat, inch, Mound, squeeze, or, heat, sauté, not, dish, breasts, all, a, coat, your, chicken, ®, mediumhigh, between, chicken, sauce, excess, noodles, chicken, pepper, tablespoons, chicken, and, and, chicken, small, Serve, cayenne, parsley, oil, to, skin, halves, Pour, the, waxed, large, can, the, teaspoon, chicken, breasts, through, cover, until, skillet, and, with, in, wine, Fill, longer, parsley, Add, breast, and, to, season, or, no, longer, Portuguese, and, the, tablespoons, all, canned, honey, sides, tablespoons, chicken, chicken, flour, the, and, cornstarch, turn, until, skillet, and, remaining, teaspoon, and, until, salt, bowl, large, and, Peel, heat, fresh, chicken, side, for, thicken, salad, into, olive, minutes, at, all, Top, mediumhigh, fluid, and, Reduce, into, chicken, wine, minced, chicken, C, minutes, shortening, blend, do, When, until, cup, chicken, well, on, coarsely, chicken, lemon, run, cook, tender, Reduce, cup, small, side, skillet, to, chicken, C, bring, sheets, off, so, sauce, coated, Refrigerate, juice, bread, drop, Heat, stir, minutes, taste, and, Stir, sauce, orange, can, flour, from, egg, over, stir, taste, grease, and, eggs, lightly, cooked, through, to, white, aluminum, over, remaining, garlic, sauté, cup, a, salt, and, under, sauce, broth, per, canned, into, breasts, and, thickens, in, to, pat, pan, out, can, Heat, same, oil, to, transfer, to, chicken, broth, minutes, and, Sandwich, Serve, side, in, medium, skillet, Dip, sides, pink, Spoon, between, for, about, chicken, over, Set, keep, high, medium, and, garlic, black, in, skillet, down, for, cup, from, thyme, In, cumin, boil, a, a, sauce, aside, C, in, broth, and, a, balsamic, until, heat, pieces, such, whisking, uncovered, as, Creamy, from, pitted, tablespoons, seconds, bowl, into, with, cook, minced, carrots, Using, and, skillet, flour, minutes, between, Add, keep, the, a, red, Reserve, over, ham, pepper, grill, Salad, panko, chicken, Season, thighs, to, of, stir, F, sugar, cooked, teaspoons, add, Sprinkle, melted, minutes, pieces, salt, sauce, condensed, pieces, roasting, beaten, marinade, panko, of, cream, serving, until, ®, black, skillet, garnish, chicken, bits, broth, pepper, a, top, solid, broth, continue, the, lengthwise, the, reduce, Add, flour, chicken, large, to, pepper, over, wine, Stock, inch, broth, roasting, to, Let, if, baking, Heat, sauce, pink, chicken, pink, coat, marinade, Toss, ahead, platter, from, frequently, skillet, salt, vegetable, low, ounces, chicken, Heat, thyme, Stir, coconut, breasts, Wrap, chicken, skillet, just, crisp, among, lemon, broth, large, dried, salad, Simmer, minutes, chicken, stove, into, to, the, to, about, cup, lbs, and, sauce, side, chicken, palms, spaghetti, and, platter, transfer, tablespoons, least, broccoli, Line, Boil, first, Add, evaporated, about, breast, fresh, the, sours, pepper, Season, until, warm, Pour, chopped, Combine, Turn, whisk, °, heavy, pepper, and, skinless, run, onions, Add, degrees, Arrange, broiler, the, to, preheated, preheated, Easy, tablespoon, of, over, is, pan, pink, to, Mix, Creamy, Dijon, salt, golden, sauce, tablespoons, transfer, cloves, flour, and, Add, over, heated, chicken, sour, salt, thermometer, Place, de, olives, to, over, oil, a, sour, quartered, and, half, and, of, pepper, tablespoons, sage, from, Add, the, serving, about, black, MustardOrange, tablespoons, tablespoons, until, sauce, longer, is, broiler, skinless, on, each, white, degrees, flavor, reduce, Smokey, boneless, minutes, with, butter, of, coldest, skillet, Sprinkle, heat, the, minutes, from, about, boil, chicken, halves, pepper, read, place, Arrange, parsley, salt, will, with, cloves, tomato, minutes, slices, Roast, until, weed, into, stove, about, flour, then, xxinch, and, Using, cup, Preheat, and, to, bag, to, dressing, tablespoons, to, breaking, per, F, soup, pan, tongs, until, garlic, processed, side, Stir, and, minutes, into, large, Add, tablespoons, cooked, wine, tablespoon, cup, pink, coconut, degrees, taste, degrees, stirring, tarragon, Melt, Worcestershire, heat, side, just, in, floured, with, heat, Greens, excess, done, Add, brown, about, olive, loosen, cup, marinade, bowl, chicken, over, in, Rice, Season, refrigerator, the, of, the, with, whole, crushed, teaspoons, stock, with, no, and, chicken, and, chicken, heavy, both, from, up, oil, sauce, to, Using, combine, cream, oil, fresh, baking, should, minced, with, about, mediumhigh, until, Spinach, bowl, balsamic, large, about, Heat, and, with, ends, skillet, crisp, pin, pink, and, Chicken, until, taste, salt, oil, chicken, a, chicken, a, halves, skin, butter, tossing, with, flour, lime, each, heat, minute, oil, lime, over, by, and, cheese, plastic, remaining, for, to, leaves, granules, broth, and, Tomato, or, large, preferably, sour, glaze, diced, broth, Add, can, beaten, to, of, halves, leaves, olive, in, chicken, side, be, with, touch, Cut, is, teaspoons, Pour, Combine, side, starts, cup, F, remove, bacon, to, tablespoons, large, minutes, sauté, rack, Mix, opened, mix, plastic, while, Let, seasonings, and, in, teaspoons, canned, tablespoons, into, cold, chicken, a, to, gravy, the, stirring, medium, drained, of, Preheat, a, heat, sprigs, salt, spots, the, to, another, on, until, first, F, cup, about, heat, pounds, brown, heavy, set, ground, to, skin, tablespoon, cracked, Pour, chicken, as, a, about, lightly, cooked, with, set, coat, tomatoes, in, bring, sprinkle, F, thickness, butter, Increase, browned, homemade, until, Greens, boneless, chicken, chicken, ovenproof, pan, Combine, in, they, about, off, If, with, thickness, and, heat, double, reserve, and, skillet, sheets, minutes, chicken, teaspoon, large, Pound, cook, heat, wine, brush, Roast, inch, underneath, heat, until, a, skillet, taste, a, Worcestershire, part, white, smoke, bowl, pound, about, hour, Breasts, one, breasts, about, cold, cups, skinless, brush, minutes, teaspoon, sliced, coat, strips, chicken, it, dried, each, hands, until, oil, the, chicken, sheets, celery, Stir, is, and, pepper, Heat, a, on, Salt, cook, vegetable, Place, cooked, heat, thickly, reduce, reads, until, chicken, occasionally, about, seasoning, breast, cheese, and, a, of, freshly, salt, butter, and, Pour, chicken, the, Place, Pour, onion, Cover, is, Broth, drained, minute, mixture, into, bottom, brandy, chicken, Simmer, oven, pan, plate, over, make, oven, heat, oil, until, aluminum, Combine, Spoon, salt, breasts, uncooked, Plum, cup, until, the, F, side, and, Tomato, oil, minutes, juices, turning, side, the, to, juices, shallots, broth, hour, and, top, chicken, ham, cup, cooked, in, crushed, honey, Chicken, to, bacon, vegetables, cook, through, Pour, to, and, and, cup, to, chicken, chicken, in, over, medium, Spoon, out, longer, Heat, tomatoes, among, spoon, the, leaves, press, salt, marinade, Parmesan, basil, to, sauce, F, ounce, each, until, in, noodles, baking, Return, tablespoons, juice, turning, preference, preheated, taste, with, browned, tablespoons, and, thyme, broth, and, oranges, skillets, oven, side, breast, Chicken, same, to, mushrooms, browned, degrees, breast, until, juices, for, oven, Chicken, mustard, garlic, heat, through, chicken, the, low, onion, oil, into, tablespoons, pepper, on, thick, peeled, to, over, plate, chopped, and, Combine, about, together, and, large, into, oven, Cook, bring, least, Transfer, liquid, cooker, pepper, vinegar, fresh, through, the, and, minutes, next, oil, atop, Reduce, broth, dry, pepper, Transfer, Place, small, butter, and, is, chicken, inside, when, chicken, chicken, melted, begin, heavy, teaspoon, degrees, will, to, Sauce, breast, Season, juices, F, cream, of, saute, on, mediumlow, the, side, Add, Remove, heat, with, skin, then, to, chicken, halves, chicken, Cajun, rice, about, peeled, wine, Using, to, when, flour, pieces, pieces, Uncover, the, cream, Add, with, same, Japanese, to, Wilted, flour, cutting, stir, chicken, and, Pour, the, Arrange, C, milk, fresh, chopped, Tacos, cut, brown, the, bouillon, Transfer, center, pan, and, lemon, tender, chicken, white, pan, the, tablespoon, degrees, cooked, mixture, OrangeBrandy, small, in, degrees, slightly, through, mixture, stock, Tap, the, center, and, until, and, minutes, minutes, over, each, pour, Place, breastbone, preheated, occasionally, with, at, and, cup, dressing, bag, and, cut, Place, tablespoons, pepper, to, chicken, large, until, tablespoons, in, pink, skillet, skillet, xxinch, skinless, the, about, or, flour, like, browned, chicken, Season, slices, cherry, for, Add, mixture, are, Chicken, the, tablespoons, a, An, with, to, Add, cool, chicken, toothpicks, cook, browned, chicken, Discard, peeled, whole, run, chicken, pepper, heavy, Combine, spacing, in, Slowly, bones, up, teaspoon, slightly, shallots, paprika, dish, pepper, Once, a, in, Chicken, teaspoons, heat, scraping, paste, taco, Refrigerate, juice, same, capers, chicken, Sprinkle, mix, coated, minutes, ounce, needed, bag, Fresh, teaspoon, chicken, C, and, water, onions, bottle, Italianstyle, Drain, Bake, garlic, dried, allpurpose, skillet, to, to, deep, oil, are, crosswise, pour, purpose, and, ingredients, and, heavy, oil, C, from, crisp, lemon, mustard, halved, Pour, chicken, pour, broth, then, in, Using, remaining, until, penetrate, teaspoon, lightly, in, chicken, ounces, mixture, slightly, potatoes, cloves, skillet, chicken, cubes, about, Add, provolone, excess, Broil, bowl, thyme, pepper, will, pan, In, with, sides, through, in, chicken, chicken, bowl, boneless, garlic, minutes, pot, Bring, pepper, heavy, loosen, cup, olives, and, cup, boil, Stir, heat, x, skin, towels, In, breast, juice, ovenproof, boil, chicken, C, is, and, Can, stock, is, heavy, breast, halves, side, Toss, medium, olive, per, cup, of, dried, and, season, Add, chicken, bacon, Whisk, and, mediumhigh, turn, no, powder, on, that, breasts, brown, lightly, heated, of, minutes, heat, chicken, mediumlow, of, cooking, cook, bowl, vinegar, thigh, Bring, over, pour, until, per, salt, small, Porcini, of, and, Voila, cover, purpose, of, of, chicken, cups, chicken, garlic, Return, bacon, ounce, to, Salt, of, mix, about, Arrange, of, moderate, heavy, slightly, with, chicken, brown, over, in, tablespoons, bowl, breast, black, about, cup, minutes, about, saute, cups, cups, to, F, green, skillet, minutes, Transfer, dried, onion, chicken, and, for, resealable, during, black, pepper, chicken, to, of, spoon, and, between, wine, ounce, with, to, Swanson, to, broth, large, and, pot, simmer, Reduce, dry, minutes, Drizzle, broth, heat, cutlets, chicken, low, and, coated, and, ingredients, around, the, bake, rice, Tbsp, white, to, middle, oil, the, Cousin, Chicken, a, sauce, until, clear, instantread, about, Cover, small, skillet, into, to, onion, Refrigerate, smoked, pound, and, large, F, until, large, on, each, Italian, regular, of, broth, Spoon, until, with, over, Marinate, ketchup, baking, shallow, heat, tablespoons, lumps, needed, Vinegar, oil, cup, pieces, drizzle, sides, tablespoon, breast, constantly, basil, boil, maintain, Cut, ketchup, C, milk, breast, to, large, cook, with, oil, chicken, until, cans, and, and, and, to, chicken, taco, minutes, cooked, chicken, mixture, degrees, and, ounces, pounds, inch, sauté, remaining, in, Toss, cover, pan, minutes, hour, chicken, sleeve, over, in, minutes, minutes, just, about, and, minutes, to, wine, up, sides, chicken, gingerroot, surface, skillet, chicken, sauce, with, to, Transfer, chicken, of, over, thickest, roast, paprikaonion, boil, F, and, chicken, pour, broth, juice, breast, pieces, Chicken, chicken, to, pan, chicken, butter, pan, minutes, mix, tablespoon, to, chicken, on, carrots, jalapeno, cooked, and, juices, is, Roasted, halves, boneless, zucchini, brown, skillets, freshly, about, Preheat, and, refrigerator, slices, spray, chicken, Season, mushroom, freezer, minutes, all, and, run, chicken, tablespoons, cloves, and, from, bones, sides, through, cover, in, chicken, halves, teaspoon, to, total, allpurpose, vinegar, transfer, and, black, the, the, garlic, until, Add, chicken, tablespoons, or, cook, cup, F, and, then, and, Flatten, noodles, cups, Melt, over, cloves, on, chicken, shallots, olive, chicken, inch, minutes, side, heat, a, read, lemon, until, Chopped, and, skin, tablespoons, the, to, lime, fresh, slices, evenly, tablespoons, Coat, large, for, hour, over, off, to, excess, flour, removed, the, skin, until, side, with, plates, piece, the, all, between, pressing, for, sauce, salt, hour, through, sliced, then, in, crushed, chicken, minutes, Tarragon, Pour, about, paste, bowl, Reduce, the, and, baking, chicken, and, Add, lemon, and, book, minutes, pin, salt, halved, remaining, bits, and, until, tender, cups, degrees, chopped, until, thermometer, in, Sauté, eggs, remaining, onion, they, minutes, even, before, canned, Juice, Chicken, absorb, until, skillet, ingredients, slightly, Heat, chicken, sage, roasting, thyme, the, removed, and, dried, chicken, skillet, Bring, canned, Slice, chicken, flour, rub, mix, minutes, browned, chopped, bring, prick, Reduce, oven, thighs, Mexicanstyle, chicken, chicken, garlic, and, with, oven, the, into, the, Boil, beer, bread, but, until, and, Melt, bell, and, juices, before, a, butter, in, thin, unpeeled, tablespoon, chicken, heavy, Add, cup, skillet, garlic, the, Chicken, minutes, Preheat, cloves, dry, in, golden, SwansonR, taco, pan, in, leaving, pounder, Serve, and, chicken, oregano, x, bowl, tablespoons, cheese, is, plate, chicken, teaspoon, the, in, serve, Pour, and, Sprinkle, the, Heat, butter, dissolved, chicken, sauce, about, a, large, and, minutes, minutes, Heat, sage, a, skillet, breast, the, side, mediumhigh, refrigerate, seasoned, ovenproof, to, wine, ounces, broth, and, chicken, capers, allow, baking, golden, black, small, cream, tomato, over, wine, shortening, remove, Bowl, until, made, the, through, ovenproof, thin, vegetable, skillet, oil, boneless, Pour, oil, broth, crush, salt, salt, garlic, side, package, with, Drain, and, prepared, pink, towels, a, inch, oil, the, and, butter, broth, oil, minutes, and, instant, and, or, together, and, cups, to, Bake, chicken, °, Meanwhile, to, boneless, on, enough, cup, boneless, keep, tablespoons, marinade, butter, skillet, stock, halves, completely, marinated, Add, freshly, roll, wooden, per, on, contents, coating, resealable, the, wooden, balsamic, boneless, chicken, remaining, in, chicken, from, tablespoons, Season, juice, inch, Transfer, ®, onions, curry, until, such, rice, sauce, run, salt, with, continue, and, least, bag, period, Divide, sauce, brown, cloves, marinade, a, of, sheets, lemon, to, tender, Bake, and, Chicken, Bring, until, heat, of, enough, into, to, tomatoes, pan, in, in, and, a, return, until, ingredients, aside, coated, Garnish, chicken, brown, chicken, package, oil, side, about, to, large, backbone, Greek, boneless, cup, cooked, is, with, inserted, Bay, refrigerate, Spoon, saute, pieces, minutes, garlic, the, eggs, chicken, oil, over, C, about, cloves, seasoning, breast, side, thickens, excess, chicken, to, over, until, mixture, heat, the, sauce, tent, or, is, over, chicken, chicken, Breasts, a, each, to, olive, spread, thyme, to, white, salt, sauce, temperature, crosswise, packed, chicken, boneless, prosciutto, about, Bring, chicken, garlic, the, to, is, garlic, Add, seconds, cup, Season, halves, mix, broth, stalks, to, dredge, Remove, marinade, minutes, boneless, Sprinkle, brown, on, baking, or, broiler, Sprinkle, cool, cup, round, Cover, sauce, until, the, through, Squeeze, until, add, shake, olive, seasoned, day, until, heated, carrot, to, chicken, flour, shallots, x, to, potatoes, and, soup, heat, platter, chicken, Add, chicken, C, to, of, garlic, chicken, dried, tablespoons, hot, Sauteed, or, stir, Bake, half, side, in, teaspoon, oil, and, a, sides, medium, the, Remove, Chicken, Spoon, to, about, and, julienned, minutes, Rice, black, Add, to, until, hours, cheese, skinless, until, chicken, tablespoons, fluid, freeze, occasionally, about, until, about, degrees, and, paperthin, for, a, minced, salt, serving, and, canned, cover, to, rosemary, until, to, teaspoon, teaspoons, to, marinade, baking, together, well, Seal, butter, thicken, breasts, and, and, Add, in, place, fingers, red, heat, wine, Seal, by, to, beans, in, Pat, much, platter, the, and, vegetable, Salt, Salt, In, reserved, on, low, Strain, oil, olive, least, parsley, browned, brown, garlic, Add, Add, Place, leaves, cheese, Cook, butter, pieces, An, carrot, your, heat, Heat, Reduce, to, of, slices, Marinate, browned, reduced, tongs, Repeat, up, strips, Add, chicken, of, minutes, or, reduced, pepper, overnight, firmly, breast, each, shallow, oil, with, oven, skinless, tablespoons, Drizzle, sour, tablespoons, Add, rice, stirring, Repeat, meat, egg, stir, garlic, Set, chicken, side, the, in, canned, deglaze, until, is, rosemary, boneless, Pour, teaspoons, chicken, into, minutes, over, skin, oil, slices, tender, side, with, Lemon, chicken, lemon, thickness, mediumhigh, heat, a, make, longer, into, thin, Place, boneless, leaves, in, pinch, chicken, are, for, a, chicken, chopped, the, chicken, the, chicken, oven, into, parsley, keep, boil, all, to, degrees, warm, regular, halves, in, can, together, in, breasts, Strain, and, in, as, ounce, chicken, cooked, together, butter, drippings, tablespoons, reabsorb, Skim, bowl, chicken, minutes, Return, dry, tablespoons, mixture, skillet, leek, teaspoon, mediumhigh, russet, Reserve, and, boneless, chicken, to, and, wine, oil, minutes, teaspoons, in, mixture, on, chicken, chicken, pepper, marinade, dried, with, broth, baking, cup, rolling, to, mustard, side, thyme, and, Wine, Spicy, over, until, with, oil, in, a, in, brown, into, chicken, for, pounder, stir, Heat, sliced, to, tongs, and, spoon, mediumhigh, eggs, Set, granules, Add, minutes, tablespoons, over, Drizzle, chicken, lemon, chicken, orange, same, tablespoon, and, cool, down, and, to, combine, chicken, cup, heat, Bake, and, freezer, allpurpose, thickens, ahead, vegetable, longer, over, Monterey, cup, garlic, remaining, into, Chicken, marinade, red, broth, hands, pepper, pepper, Reduce, and, mozzarella, stir, for, Mix, the, pat, baking, Place, finely, Place, has, chicken, skillet, Add, and, to, thermometer, over, chicken, juices, and, chicken, boil, the, Sprinkle, juice, Combine, for, breasts, coat, oil, breast, Arrange, powder, the, chicken, lemon, Rewarm, securing, cloves, artichoke, onion, with, secure, to, Add, sheet, the, black, and, F, and, breast, dish, Bring, and, one, cavity, Place, salt, olive, large, Broth, sauce, red, to, run, picholine, heavyduty, chicken, Note, ground, almonds, until, per, run, keep, and, chicken, both, is, the, reserving, chicken, minced, Pinwheels, minutes, marinade, tablespoons, to, moist, over, if, broth, to, F, cooked, chicken, over, cold, skillet, chicken, black, and, until, is, a, the, chicken, parsley, the, cooked, off, skinless, to, Add, onehalf, lowsalt, Turn, skillet, chicken, vegetable, about, through, Roast, the, ounce, Preheat, from, over, return, Add, the, Vegetable, rosemary, Heat, diced, into, heavy, heat, chicken, until, tablespoon, pound, in, Season, minutes, tablespoon, canned, foil, before, is, stand, chicken, in, salt, to, container, Cover, setting, chicken, pan, sauce, golden, skillet, piece, and, Pour, until, liquid, out, boneless, flour, butter, slightly, °, to, brown, once, breast, pressing, Meanwhile, gentle, thin, chicken, potatoes, set, with, tender, thyme, skillet, dried, center, with, Unsalted, a, water, tablespoons, skillet, seasoned, additional, it, chicken, breast, with, minutes, and, bag, white, broil, chicken, serve, stock, sharp, heat, slightly, is, breasts, minutes, over, such, heat, excess, teaspoon, bread, longer, over, to, Swiss, sauce, garlic, lightly, piece, Place, onion, top, stock, a, chicken, slotted, golden, and, until, Chicken, juice, Italian, a, noodles, oil, pot, Chicken, needed, Mix, uncovered, each, The, pepper, plastic, skinless, until, or, chicken, slotted, pockets, from, skinless, juices, touch, about, chicken, stock, in, skinless, to, juice, cream, is, overnight, can, F, mustard, can, over, until, each, pan, more, Drizzle, sauté, lemon, or, thighs, BaconWrapped, pieces, until, chicken, with, thickness, back, is, F, teaspoon, finely, Boil, Roast, a, the, coat, and, a, glaze, with, broth, sauté, to, until, for, skin, preheat, broth, to, the, Pour, halved, large, shake, you, dry, and, and, for, freshly, pepper, tablespoons, cup, paper, and, juices, chopped, black, and, butter, large, both, minutes, over, back, stir, between, tomato, completely, the, vegetable, oil, boneless, into, browns, and, not, to, heat, chicken, cups, cover, meat, the, chicken, in, chicken, xxinch, bacon, onion, skillet, paper, until, chicken, thickened, chicken, longer, with, and, cups, chicken, and, salt, skin, °, cup, pan, breasts, tablespoon, virgin, chicken, vegetables, minutes, return, Italianstyle, butter, Add, olive, In, marinade, remaining, cup, medium, chicken, pan, hard, through, if, breast, and, fresh, cooked, about, mix, and, evenly, same, cups, halves, chicken, oil, Simmer, cup, cup, the, should, Add, °, bowl, that, sauce, cheese, slices, pancetta, chicken, over, pepper, Preheat, the, until, pepper, cup, mixed, brown, pearl, Transfer, pound, over, shallow, chicken, in, skillet, with, diced, degrees, skillet, tomatoes, beaten, egg, and, preheated, black, seasoning, out, to, until, in, chicken, with, about, a, heavy, Moon, Season, several, and, from, together, turning, chicken, sauce, wine, oil, black, celery, Add, Heat, butter, breast, pecans, F, to, canned, browned, side, into, boil, the, coated, occasionally, Rinse, chicken, Swiss, red, salt, lemon, rub, broth, inch, and, continue, salt, oil, gently, with, Stuffed, Cream, about, and, a, Sprinkle, are, pieces, chop, breasts, chicken, covered, in, peppers, and, marinade, Heat, serve, mediumhigh, saute, tongs, Heat, cornstarch, breasts, an, chicken, heat, remaining, cup, flour, mixture, combine, juice, boil, chicken, on, meat, cups, a, and, marmalade, chicken, tablespoons, garlic, run, cut, bonein, Pour, chicken, for, inside, heat, until, onion, cheese, rosemary, to, Wrap, chicken, the, vinegar, one, sprinkle, chicken, bowl, to, a, Place, simmer, starting, longer, soups, the, sprinkle, and, Swiss, garlic, and, Black, breasts, to, to, boneless, tablespoons, boil, in, each, cooked, thickened, until, or, a, oven, heat, inch, vinaigrette, basting, and, about, a, cut, in, salt, cavity, coat, on, frying, boil, with, minced, drained, curry, Coat, toothpicks, up, juice, with, Chopped, them, C, wine, cut, chicken, a, over, a, the, chicken, pepper, foil, with, Swanson, the, pepper, Stir, chicken, honey, scissors, with, chicken, pepper, While, skillet, until, or, coated, between, warm, Transfer, cooked, Bake, and, rosemary, be, skinless, pasta, and, any, vinegar, over, opaque, heat, fasten, nearly, about, skillet, Season, lemon, Divide, blender, in, about, through, bowl, pan, to, stock, the, and, flour, breast, Place, salt, of, broth, chicken, milk, ounce, Transfer, when, minutes, tablespoons, should, condensed, each, of, and, to, to, drippings, cayenne, minute, Dutch, pinch, over, saute, set, thickens, fresh, boneless, oven, dill, in, and, stock, roasting, SouthernStyle, through, work, salt, Place, in, Divide, both, potatoes, bake, flour, rice, turning, medium, skillet, pan, into, is, boil, uncovered, and, shallow, garlic, covered, Fry, and, tablespoons, minutes, chicken, adhere, cup, over, minutes, inch, skillet, bowl, Whisk, Heat, hour, in, chicken, wine, the, and, sprinkle, Place, sauce, oil, butter, and, Carefully, such, chicken, plate, and, and, tablespoons, with, cook, water, tablespoon, potatoes, the, garlic, canned, Layer, low, about, to, through, through, Salsa, Thighs, chicken, mushrooms, tablespoon, paste, platter, marinates, to, Roasted, Casserole, slightly, Uncover, Preheat, breast, mixture, garlic, sauce, to, pink, brown, remove, breast, Bring, and, Garlic, bowl, to, in, inch, dry, seasoning, stir, boneless, dry, tomatoes, cooked, finely, and, garlic, bag, chicken, are, transfer, Bake, remove, chicken, and, chicken, chicken, bag, down, a, chicken, juice, thighs, with, salt, the, through, oven, cream, cloves, fresh, degrees, milk, cook, vegetables, Add, chicken, instantread, oil, mediumhigh, dry, almost, cup, the, is, cup, chicken, and, bowl, about, oil, cup, dressing, a, the, juice, bowl, butter, to, skillet, Balsamic, marinade, the, mediumhigh, and, but, minutes, Remove, on, in, Spoon, of, the, up, over, coat, Return, Minute, off, Season, black, salt, taste, teaspoons, stock, platter, over, a, garlic, salt, until, Remove, chicken, evenly, pan, soft, In, On, half, in, of, Arrange, breast, strips, Chicken, garlic, and, cover, pour, salt, white, the, no, reserve, plate, scramble, baking, olive, garlic, until, mallet, is, all, minutes, no, marinate, completely, of, more, chicken, both, pepper, large, Place, mustard, over, with, teaspoon, oregano, brown, the, onion, wine, to, dressing, a, pepper, teaspoon, Taco, a, boil, lowsalt, Add, completely, the, make, minutes, Chicken, With, salt, Italian, to, large, over, oven, out, Pour, Cover, stock, olive, plate, wine, chicken, white, boneless, over, slightly, approximately, sauté, Melted, flour, pieces, salt, whole, ounces, stirring, halves, to, and, fresh, oven, Sprinkle, is, fatfree, onions, fruits, skillet, to, each, boneless, should, boil, or, large, °, spray, fork, cloves, Place, wine, orange, seasoned, turn, cooked, for, cup, to, gravy, and, to, medium, ounce, seasoned, Remove, Beat, boil, Discard, to, to, Remove, juices, chicken, until, and, heat, oven, and, teaspoon, the, and, tablespoons, with, teaspoon, dish, fingers, cup, chicken, minutes, in, and, sauce, is, pieces, more, ground, prepared, on, ounce, pepper, to, and, or, clear, sauce, pepper, chicken, to, dish, Breast, Paprika, per, place, sided, Vegetables, longer, squeezed, reserve, sprinkle, minutes, to, to, skillet, pound, to, Rinse, chicken, and, ground, chicken, oil, fat, cup, grill, skillet, skillet, mixture, cream, side, broth, and, spray, and, set, side, baby, chicken, baking, in, inserted, sauté, oil, Serve, skillet, pieces, chicken, Refrigerate, or, prepared, skillet, are, butter, frequently, small, baking, chicken, halves, minutes, garlic, of, chicken, skillet, chicken, sprinkle, nonstick, breasts, and, bottom, soften, until, in, in, salt, salt, chicken, red, until, Chicken, and, until, Add, breast, oil, chicken, part, cut, degrees, sauce, until, needed, is, minutes, chicken, over, chicken, chicken, rub, Season, skillet, bitesize, shallow, Remove, remaining, eggs, piece, dry, quickly, is, sauce, Grill, Swanson, through, to, breasts, each, browned, chicken, and, can, until, the, chicken, sharp, half, cup, then, chicken, chicken, cover, into, chicken, and, same, Bake, Chicken, Chicken, broth, Add, from, oven, cut, slices, while, into, to, turn, longer, total, and, bowls, broiler, heated, chicken, basting, in, the, the, breasts, rice, until, marinade, should, heat, about, Chicken, toothpicks, chicken, dried, and, chicken, salt, degrees, between, oil, Italian, Stir, hour, the, into, dry, sure, Taste, thickens, with, chicken, wedges, pepper, other, white, use, about, bonein, to, add, tongs, sauce, uncovered, of, breast, juices, Combine, pot, at, day, Add, pink, warm, Bake, and, heat, skillet, keep, minutes, tablespoon, breasts, strips, of, Dip, and, arrange, brown, juices, Using, pepper, on, bowl, Chicken, again, running, the, chicken, noodles, about, to, cook, the, of, longer, heat, add, dish, broth, tablespoons, chilled, until, until, Spoon, tongs, skillet, cup, garlic, heat, the, of, until, minutes, the, oil, instantread, bottom, skillet, and, should, spoon, herbes, together, mushrooms, Rosemary, about, Robins, breast, bell, minutes, Place, middle, cheese, golden, fluffy, vinegar, caramelized, to, and, or, broth, slices, through, Spoon, boil, chicken, simmer, Chicken, clove, saute, minutes, teaspoon, simmer, more, Cover, Cover, skinless, with, chicken, in, Chicken, ounce, the, the, cook, Reduce, the, to, crumbs, pound, a, through, breast, serve, chicken, boil, bowl, dish, crumbs, teaspoons, chicken, pound, wine, breasts, about, fresh, pepper, dill, place, toss, tender, to, minutes, crumbs, heat, aside, closed, garlic, cut, hours, artichokes, plastic, side, and, Italian, slices, pepper, liquid, minutes, degrees, mushrooms, chicken, juice, degrees, American, second, the, juice, frequently, inserted, a, minute, wine, tender, skin, sauce, off, longer, unsweetened, crumbled, to, chicken, more, and, pieces, is, olive, chicken, remaining, hot, medium, pound, out, and, minute, until, chicken, pieces, brown, from, sides, small, over, heat, Bake, mediumhigh, heat, in, to, hand, cumin, pieces, and, freshly, cardamom, chicken, repeat, lettuce, saucepan, cup, beef, chicken, Add, side, Chicken, and, beginning, small, plate, the, hot, lemon, serving, cloves, and, fragrant, covered, reduces, chicken, the, cup, and, pink, simmer, eggs, pan, Repeat, cloves, the, is, and, longer, flour, Roasted, rolling, more, Heat, shortening, lowsalt, to, of, in, chicken, halves, cloves, top, breast, freshly, on, garlic, cook, and, cumin, skillet, chicken, pepper, ounce, resealable, fresh, broth, Drain, broth, excess, bouillon, chicken, Transfer, Spicy, cups, a, breasts, Whisk, and, degrees, with, gravy, chicken, with, ounce, eggs, cup, bottom, lemon, bay, heat, minutes, Let, chicken, should, inch, not, pepper, garlic, plus, mixture, trimmed, per, with, Heat, juice, degrees, parsley, and, sodium, cut, ounces, mediumhigh, and, plus, breasts, clear, skillet, and, up, oven, chicken, that, teaspoon, Preheat, remaining, chicken, crumbs, of, chicken, paper, about, Toss, celery, chicken, serve, Pour, consistency, over, rosemary, shake, asparagus, in, In, pan, and, with, burned, sheets, transfer, sauce, browned, just, Puree, °, from, in, powder, and, until, in, olive, teaspoon, tablespoons, bowl, onion, chicken, side, bowl, black, slightly, cooked, moderate, until, teaspoon, and, of, diced, oil, a, medium, When, pierced, skillet, sauce, ground, or, tablespoons, skinless, boneless, Push, medium, or, over, inside, juice, fat, chicken, heat, inch, thirds, mediumhigh, thick, warm, pieces, about, the, until, marinade, a, halfandhalf, tablespoons, high, until, heat, chicken, Sauce, and, minutes, nonstick, minutes, with, garlic, onion, cup, Pour, medium, In, and, over, Chicken, sauce, as, serve, before, needed, pan, heat, about, paprika, until, with, flour, skin, side, teaspoon, on, and, sauté, with, over, your, reserved, the, minutes, Chicken, bowl, skillet, wine, in, a, flakes, is, tablespoons, marinade, cloves, is, mushrooms, plate, thigh, wedges, Use, stirring, is, Italian, Remove, mozzarella, heat, in, pink, couple, spice, with, tablespoons, chicken, pan, with, on, salt, chicken, through, chicken, to, Chicken, minutes, Stir, flour, and, from, roll, Bake, chicken, are, and, a, cut, to, mozzarella, Cook, olive, Mix, with, the, plates, cooking, pan, minutes, pieces, With, to, boil, side, about, either, °, Stuffed, cup, and, heat, Serve, each, is, chicken, pan, to, the, Add, Cook, and, large, and, sliced, Chicken, small, oil, at, in, HerbRoasted, cup, slices, for, is, flour, Juice, vegetables, pepper, degrees, bowls, heavy, medium, sugar, dressing, breasts, mixture, soup, stir, adjust, herbes, chicken, a, olives, with, chicken, bay, Open, minutes, in, breast, Add, chicken, is, soy, chicken, soup, Top, juices, ingredients, chicken, coat, lemon, the, chicken, the, cup, chicken, garlic, Whisk, chicken, fresh, chicken, to, it, carrots, large, pieces, Preheat, breast, minutes, clear, pound, chicken, of, chicken, pan, Pat, oven, or, pocket, Pour, Increase, medium, Reduce, Bake, in, Creamy, butter, chicken, skinless, mustard, least, Return, is, over, chicken, wine, on, brown, foil, saute, through, reserved, cream, a, about, in, to, and, at, chicken, inserted, chicken, balsamic, degrees, tablespoon, skinless, of, Quesadillas, with, and, baste, leaves, a, cooking, cayenne, Reduce, pepper, seasonings, about, slices, juices, over, to, done, stick, minced, backbone, they, Almond, sugar, until, it, heat, marinate, chicken, it, pan, Balsamic, condensed, section, brown, and, until, to, and, the, skillet, thinly, reduce, each, sauce, heat, Thai, potato, boneless, the, and, cut, garlic, free, longer, the, pieces, flour, and, chicken, coat, minutes, resealable, pan, skillet, chicken, the, add, oven, chicken, olives, is, on, season, cups, desired, bag, up, taste, degrees, with, granules, cloves, Chicken, turmeric, is, to, chicken, hour, into, roasting, the, fresh, cheese, until, down, dry, broiler, but, milk, loosely, slice, flour, slices, in, in, cut, cooked, in, apart, chicken, tablespoon, Shake, chicken, boil, roasting, air, about, flour, slice, minutes, Wrap, the, with, evenly, low, the, stirring, chicken, for, and, over, curry, salt, thyme, Mix, cayenne, golden, remaining, a, boil, stock, garlic, and, the, to, to, pound, evenly, brown, mix, tablespoon, breasts, over, chicken, ounces, Stir, Meanwhile, yogurt, juices, and, to, vinegar, at, minute, chicken, let, turning, remaining, minced, Asparagus, and, Rub, inside, onions, pound, and, juices, in, a, broth, sheet, until, bowl, halves, side, chopped, to, pieces, black, ounce, side, bacon, Stir, Mustard, olive, medium, all, pimento, dry, juice, drained, chicken, cover, from, tablespoons, well, platter, Sauce, mushrooms, resealable, and, pink, Place, to, degrees, reduced, and, and, with, cup, sweet, pan, flour, tablespoon, or, in, temperature, sit, loosely, inch, heat, chicken, chicken, into, all, and, first, oregano, in, pat, degrees, immediately, is, broth, pieces, pieces, Cook, until, olive, mediumhigh, to, chicken, baste, frying, over, the, seeds, to, flour, can, butter, test, using, Transfer, coat, onions, skillet, alongside, over, desired, heat, skin, any, occasionally, separate, cook, from, are, This, plastic, sauceboat, chicken, French, cooked, all, Sprinkle, and, deep, wok, skinless, the, lemon, large, mixture, smooth, in, coat, paprika, black, salsa, about, skillet, to, until, from, and, through, seasoning, secure, chicken, aside, medium, minutes, recipe, heat, mixture, In, cooking, chicken, teaspoons, chicken, in, Add, breast, chicken, skillet, heat, or, Artichoke, minutes, note, pepper, using, chicken, and, liquid, Add, smoked, top, Add, then, pieces, is, chicken, the, chicken, sauce, chicken, is, and, chicken, skillet, chicken, chill, squeeze, or, cup, beans, to, sauce, cups, rice, dressing, with, with, in, chicken, with, pot, dredge, Chicken, Preheat, all, about, some, Return, thighs, broth, of, olive, drumsticks, chicken, breasts, piece, stirring, brown, mixture, top, oregano, sheet, should, in, Thyme, pour, stir, vinegar, shallow, draining, and, through, remaining, in, minced, through, sliced, green, cornstarch, brinecured, pair, about, through, teaspoon, degrees, cover, chicken, the, times, Let, baking, add, chicken, cup, slotted, top, and, the, chicken, dish, for, or, chicken, Roast, In, over, of, Add, minutes, about, drippings, sauce, reserving, inchdeep, thin, Place, stir, Cover, all, foil, to, cook, and, thoroughly, Tomatoes, Return, in, the, per, of, reduced, Basil, until, The, stand, or, An, to, salt, into, consistency, Chop, coat, stir, Season, the, mixture, butter, Melt, a, degrees, about, Breasts, broth, around, boil, coat, oil, a, taste, for, rub, skillet, Brown, broth, in, a, In, to, Pour, any, teaspoons, if, Provence, olive, of, juice, mixture, to, and, chicken, bowl, with, inside, to, by, tablespoons, cooked, to, chicken, can, heavy, and, and, whisking, olive, to, remain, oven, broth, salt, skillet, instantread, onions, cornstarch, and, the, skinless, thinly, Add, egg, Yield, down, chicken, Pour, to, Scarpariello, arrange, to, of, soy, Place, with, breasts, lowsalt, each, mixture, and, chicken, about, for, center, to, tablespoon, heavy, flour, breast, minutes, and, to, and, and, work, Cover, white, Easy, mixture, until, minute, cup, cooked, skillet, Transfer, and, with, to, degrees, cream, Add, chicken, degrees, lemon, chicken, shred, Thai, cups, ingredients, with, chicken, bowl, Place, Stirfry, to, sugar, prefer, Transfer, sliced, clear, Pecan, pan, the, a, carrots, and, to, by, about, to, reduced, mediumlow, the, halves, salt, cup, thick, of, minutes, for, on, of, juices, to, remaining, garlic, cover, cover, heat, cutting, mediumlow, Curry, around, breast, allowing, Continue, pieces, tablespoon, seasoning, a, and, Coat, and, into, the, Mashed, bag, chicken, remaining, salt, skillet, simmer, Prepare, in, chicken, through, board, salt, about, serve, chicken, garlic, broth, Remove, allpurpose, tablespoons, taste, pounds, ground, about, per, minutes, to, pieces, Whisk, Reduce, juice, chicken, until, chicken, leaving, drippings, fresh, torn, breasts, until, ham, bowl, wine, thin, about, skillet, sure, bring, butter, broth, backbone, heat, chicken, excess, per, bacon, chicken, chicken, from, and, chicken, simmer, butter, until, oven, least, chicken, and, Sprinkle, skinless, spoon, flour, cheese, large, about, broth, bowl, Chicken, tomato, pepper, chicken, over, Stir, skillet, and, boneless, chicken, minutes, the, glass, a, wine, a, chicken, browned, chicken, Bake, chicken, Pour, F, Casserole, simmer, tomatoes, cup, ounce, Divide, necessary, Using, small, Provolone, about, garlic, pound, cup, toothpicks, Heat, butterflour, clear, large, castiron, into, pieces, thickened, pour, fresh, in, dried, first, Sprinkle, teaspoon, condensed, the, the, grained, cup, garlic, black, with, Place, seasoning, sauce, Place, cup, a, Coat, and, oil, Preheat, cover, can, boneless, and, broth, preheated, teaspoon, Sprinkle, thickened, glaze, warm, salt, dry, butter, chicken, powder, into, to, large, parsley, °, allow, minutes, Arrange, and, side, into, about, flour, In, Kiev, thicken, medium, sprinkle, Mix, Sauce, and, juiced, olive, cup, breasts, about, Whisk, boil, crumbs, pan, stalk, salt, dish, dried, F, small, chicken, mallet, chicken, to, about, garlic, juices, and, and, pour, chicken, each, Heat, Chicken, equal, sliced, they, salt, Cut, coated, take, With, that, salt, dressing, about, a, with, pan, large, refrigerate, Crush, teaspoon, over, and, whisk, large, garlic, white, teaspoon, set, cup, Stir, and, chicken, ounce, ground, toothpicks, Combine, is, skillet, in, the, chicken, firm, through, Yellow, stirring, be, black, Place, large, and, tablespoons, cooked, garlic, broiler, Black, until, olive, one, rosemary, rosemary, garlic, whole, with, ounce, side, scraping, mushrooms, over, the, until, paper, marinade, to, olive, heat, through, oil, Add, longer, Vegetable, halves, lemon, an, chicken, minutes, warm, degrees, wine, broth, chicken, to, bowl, the, piece, thick, the, skinless, to, hot, of, flour, to, Mushrooms, cook, seasoning, covering, large, and, plate, half, chicken, a, minutes, chicken, jars, celery, a, at, broth, skinless, black, the, chicken, Press, juices, the, minutes, sauce, Swanson, the, up, and, dried, olives, poultry, Spoon, juices, chopped, broth, firm, and, at, and, is, minutes, tent, and, Boil, the, to, this, stirring, is, if, foil, Remove, An, platter, chicken, skillet, half, Add, ®, onion, Add, whisking, mixture, slashes, halves, in, in, bake, marinade, salt, light, Stir, until, Remove, add, skin, roasting, horizontally, Add, birds, olive, and, is, of, chicken, room, from, Barengate, pepper, saucepan, minutes, small, thermometer, salt, stirring, to, combined, whole, with, per, degrees, Uncover, garlic, taco, chicken, skillet, off, shallow, roasted, pan, sauce, or, sheets, high, sides, soy, spice, or, mixture, Return, black, Serve, until, occasionally, over, stock, with, cover, dried, in, smooth, juiced, teaspoons, out, a, minutes, Season, turning, peel, with, tablespoons, skillet, garlic, about, and, cook, Drain, the, chicken, sliced, brown, stir, inserted, plates, pepper, seasoning, chicken, celery, chicken, then, with, pour, sauté, over, thickness, skinless, mushrooms, breasts, mixing, tablespoon, under, towels, season, broth, breast, heat, until, garlic, turning, chicken, minutes, Let, oil, skillet, cooked, tablespoons, chicken, to, spoon, large, with, is, bake, coat, twist, Skillet, about, Add, a, stock, Cook, high, to, tablespoon, mixture, until, degrees, chicken, until, broth, sugar, Place, Cordon, halves, chicken, Salad, stock, skillet, juices, ounces, Season, together, in, vegetable, cover, and, both, to, oil, minutes, inside, slightly, and, inch, squashes, save, small, ®, Spoon, cup, about, simmer, for, about, taste, vinegar, piece, soup, with, golden, sides, marinade, clear, F, butter, chopped, stirring, skillet, before, Cut, skillet, cup, olive, pounded, milk, simmer, oven, then, Place, greased, cup, pepper, minutes, minutes, and, Chicken, chicken, cup, butter, pepper, bag, skin, mediumhigh, and, mix, minutes, skillet, pepper, Remove, butter, seal, as, chicken, yogurt, quart, both, breast, tablespoons, minutes, Drain, chicken, platter, vegetable, juice, Add, ahead, well, brown, is, plates, solids, skillet, a, spinach, without, coated, juice, medium, If, to, medium, chicken, if, cream, ketchup, ounce, mediumlow, is, boil, each, and, side, or, skillet, Add, large, to, chicken, is, sheets, or, with, and, chicken, chicken, a, olive, Chicken, Preheat, onion, to, thighs, cups, tablespoon, heat, degrees, cook, over, breast, beaten, chicken, juice, garlic, Place, broth, fresh, layer, and, to, bread, cook, with, over, C, chicken, the, cup, broth, dry, stove, the, spoon, minced, boneless, lemon, drizzle, boneless, lowsalt, per, and, temperature, part, and, inch, apart, minutes, rubbed, leaves, broth, crumbled, over, teaspoon, spoon, on, rosemary, of, minutes, used, and, lowsalt, finely, Heat, Add, in, cup, breasts, lemon, crumbs, fresh, then, large, skin, red, and, keep, to, breast, to, skillet, Bake, teaspoon, simmer, minutes, and, liquid, pepper, of, the, crumbs, paprika, chicken, marinade, Cool, remaining, turning, juice, carving, on, Add, cook, slices, cup, to, flour, bowl, butter, gravy, over, salt, chicken, skinless, Mix, oven, salt, white, hot, crackers, boneless, butterflour, and, skins, Roast, sliced, black, one, teaspoon, chicken, pour, carefully, forktender, Add, Season, garlic, skillet, Mix, immediately, over, sauté, chicken, dried, until, to, cracked, meat, using, butter, meat, chicken, pepper, jar, Transfer, minutes, chicken, vegetable, minutes, over, stirring, thyme, bouillon, Zest, for, chicken, skillet, chicken, heat, In, reduce, broth, broth, through, sides, button, pepper, baconwrapped, of, to, mustard, all, done, minutes, cup, thickened, covered, cups, breast, skillet, to, oil, day, chicken, pounds, Baked, and, tablespoon, of, among, and, tarragon, cloves, with, shredded, any, and, fry, then, dish, Stir, and, flour, aluminum, teaspoon, low, sauce, thickness, spray, skin, about, read, orange, Place, pan, degrees, lowsodium, until, in, bring, depth, browned, marinade, chicken, to, Reserve, water, F, until, into, chicken, Overlap, minutes, and, chicken, chopped, uncovered, green, each, or, spoon, and, baking, and, of, garlic, spoon, degrees, small, chicken, to, broth, garlic, flakes, the, breasts, with, vinegar, aside, chicken, Chicken, and, bits, paste, weed, skillet, or, as, clear, large, to, to, keep, juices, longer, yogurt, foil, platter, chicken, on, bowl, minutes, large, the, Chicken, with, Chopped, from, thermometer, sauce, golden, serve, chicken, oil, chicken, in, lemon, Return, the, lemon, each, first, bowl, oil, chicken, in, the, sour, Add, sour, is, shaking, and, up, Sprinkle, until, canned, within, boneless, with, through, shortening, Mix, Malaysian, Reduce, Chicken, sage, fat, sauce, cooked, and, pepper, until, pan, over, in, in, Push, Remove, simmer, chopped, mix, cut, chicken, Heat, combine, cup, heavyduty, side, chicken, plastic, Sprinkle, chicken, and, chicken, heat, the, the, tablespoon, with, is, tongs, chicken, capers, oil, cook, broth, additional, soy, tablespoons, coat, with, chicken, taste, over, garlic, slices, of, On, Add, Return, second, chicken, is, oven, and, in, Add, the, sauce, very, halves, bottle, sliced, pan, in, for, I, Transfer, skillet, chicken, over, beat, tablespoon, and, remaining, the, salt, oven, a, chicken, is, plates, chicken, beef, water, cooking, cut, mediumhigh, juices, oil, tongs, Boil, sauce, dish, orzo, The, and, a, skinless, inches, side, celery, skillet, beef, until, broth, Using, oil, wine, Add, RosemaryRoasted, are, lemon, onion, in, cup, olive, the, chopped, as, Worcestershire, chicken, and, from, breasts, black, resealable, over, simmer, in, oven, Using, heavy, chicken, of, pan, pound, to, dish, Reduce, soup, over, boneless, over, salad, Whisk, lemon, or, Place, honey, Dijon, read, if, Turn, and, minutes, the, pepper, C, minutes, slices, ounce, and, mediumhigh, Grilled, into, plate, lowsalt, cups, inch, drip, rice, °, simmer, cut, dish, broth, in, to, to, in, Rosemary, completely, chicken, coat, chicken, bag, browned, down, or, until, ovenproof, chicken, bring, taste, and, heavy, and, and, Season, fresh, oil, of, a, masala, broil, a, pieces, pan, onion, and, large, on, Remove, about, sauce, chicken, shallots, rimmed, ripe, them, of, chicken, platter, Bring, cut, pour, cook, do, Transfer, pan, soy, pancetta, a, heat, of, then, to, to, Serve, to, pan, or, about, and, the, oven, pepper, dry, halves, to, to, garlic, with, to, chopped, of, dish, salt, ounce, the, Cook, occasionally, or, chicken, Melt, with, cup, cup, and, juice, pieces, heavy, and, the, pressing, until, sprigs, and, cornstarch, cooked, remainder, soup, cook, is, chicken, over, breast, cups, olive, breast, broth, bacon, until, or, chicken, thigh, to, and, large, Season, tablespoons, prosciutto, sure, skinless, over, sides, marinade, soup, sauce, chicken, black, I, cup, in, and, broth, broth, chicken, and, a, minutes, warm, pan, inch, pepper, Spoon, reserve, over, eggs, Place, half, until, the, sauce, ground, heat, herbs, seasonings, Heat, oil, breasts, breasts, skillet, in, the, and, Mix, chicken, chicken, fat, platter, skinless, Turn, Cook, white, butter, refrigerator, sauce, ground, the, allpurpose, marinade, over, chicken, and, remaining, pepper, degrees, until, heat, cooked, about, breast, and, until, nonstick, basting, chicken, peppers, of, Arrange, sage, Place, over, about, the, a, with, salt, simmer, and, side, Sour, Grilled, salt, honey, turning, reduced, and, pepper, bowls, rosemary, heavy, flatten, are, oil, banana, bitesize, about, to, in, heat, Using, chicken, tablespoon, juice, Preheat, Place, mediumhigh, any, aside, browned, skillet, to, lemon, to, Transfer, minutes, sliced, taste, in, Shred, juice, for, juices, chicken, Sprinkle, minutes, to, oil, up, mediumhigh, Sauté, flour, about, marinade, boneless, bonein, cooked, chicken, and, chicken, Add, small, heat, wine, bits, An, until, and, the, into, atop, powder, for, minced, skillet, thickened, dry, skinless, minutes, bones, per, inserted, lengthwise, on, until, for, broth, is, one, the, both, hours, large, through, In, a, chicken, completely, chicken, spoon, until, on, to, all, garlic, chicken, oil, toothpick, slices, scrape, and, Season, remaining, mixing, from, degrees, to, halves, cups, a, rosemary, ground, into, to, and, flour, dish, the, with, minutes, skillet, Cut, sauté, kitchen, tablespoon, Turn, or, Cover, Cover, Place, clear, in, chicken, keep, liquid, fully, onions, oil, pan, thickens, boneless, orange, cooked, parsley, discarding, into, until, and, Slow, necessary, boil, baking, garlic, Preheat, butter, all, piece, in, In, browned, pour, small, to, serving, chicken, chicken, into, to, excess, asparagus, skillet, with, to, chicken, through, tablespoon, chicken, penetrate, drop, Cook, Chicken, to, for, atop, can, chicken, minutes, fresh, until, and, is, and, Cover, inch, skillet, to, is, sauce, and, skinless, for, garlic, into, oil, salt, refrigerate, In, and, cooked, on, with, skillet, chicken, Chicken, Toss, well, and, purpose, rolls, brown, minutes, chicken, the, Cover, chicken, over, boil, in, ounce, simmer, chicken, tomato, skillet, salt, about, around, cloves, An, chicken, x, reserved, to, is, and, smooth, until, sprigs, Return, fruits, of, aside, until, olive, salad, stick, rice, about, meals, butter, to, chicken, salt, flour, with, a, sugar, chicken, with, and, until, knife, panfry, thickened, wine, or, cup, bones, Add, clear, until, a, liquid, Bring, add, Chicken, anchovy, and, or, An, chicken, cook, and, mediumhigh, in, longer, head, spoon, chicken, broth, bring, Add, from, bring, teaspoons, x, cup, separate, and, dried, cup, teaspoon, until, bag, salt, teaspoon, over, zipper, chicken, vegetables, bowl, spoon, spoon, skillet, skillet, pieces, heavy, Cover, side, to, Place, heat, stirring, Garnish, into, into, chicken, Preheat, in, garlic, tablespoons, butter, least, TandooriStyle, and, longer, sauce, Bake, boneless, vegetable, side, cup, and, Add, chicken, Pour, heat, broth, cube, board, into, salt, Combine, Chicken, thin, until, lemon, second, with, platter, large, and, the, into, the, skillet, shallow, Place, until, broiler, browned, over, plates, boil, minutes, heat, over, to, to, salt, juice, racks, with, dish, salt, until, Dijon, serve, towellined, cloves, frying, Lemon, heat, sides, and, with, dividing, the, until, sheet, chopped, in, Transfer, flour, room, thin, SwansonR, when, touch, to, and, teaspoon, stir, on, ounce, Lightly, the, them, chicken, tablespoons, with, cook, chicken, garlic, tablespoon, chicken, glass, in, approximately, half, paper, pinch, and, surface, and, Sauce, F, Dijon, or, mustard, dried, sour, and, stir, or, chicken, halves, in, and, oil, Chicken, Add, medium, canned, skin, skillet, dry, halves, to, through, desired, Chicken, Add, marinade, minutes, Preheat, medium, until, platter, Sprinkle, tablespoons, stock, Pour, cup, browned, about, thickens, each, reach, °, is, in, skillet, with, oil, about, F, and, tablespoon, salt, chicken, an, chicken, to, cup, pound, dried, large, onions, onion, to, in, dish, chicken, a, cooking, dish, garlic, sauce, Whisk, a, degrees, parsley, pieces, is, oven, pot, pepper, low, to, salt, Serve, heavy, loosen, the, of, in, giblets, slightly, your, times, and, white, with, chicken, over, pan, Preheat, minutes, smooth, pepper, and, slice, teaspoon, remaining, drizzle, flour, in, rosemary, taste, halves, to, or, salt, minutes, chicken, heat, minutes, teaspoon, chicken, cheese, in, and, until, Watch, pieces, thickness, run, bowl, and, white, the, in, tongs, Chicken, for, pepper, pepper, occasionally, minutes, skillet, freshly, the, and, skillet, Preheat, halfway, lightly, drained, no, the, Return, Fry, if, broth, remove, with, cup, oranges, wine, in, outdoor, oil, chicken, platter, Chicken, sherry, F, cloves, Cover, to, each, halved, reducedsodium, xinch, Lightly, Fill, olive, marinade, clear, large, with, over, Remove, medium, the, frying, mushrooms, the, Add, each, thighs, olives, about, leaving, slice, wine, to, Coat, breast, side, the, thermometer, to, and, clove, drippings, chicken, teaspoons, Remove, teaspoon, simmer, together, seasoning, chicken, until, olive, Transfer, divided, half, board, to, or, thickest, skillet, Heat, is, mixture, and, hour, large, pot, a, minutes, the, Bring, chicken, and, Pour, dish, and, cooked, cup, chicken, slice, any, cup, chicken, Sauté, tented, Transfer, Using, tablespoons, broth, over, Drizzle, boneless, pan, in, the, pieces, foil, and, rice, chicken, in, breasts, chicken, to, minute, heat, chicken, and, on, brown, center, inch, Preheat, skillet, Remove, minutes, chicken, Reduce, in, thyme, or, first, chicken, center, and, throughout, Shredded, with, remaining, Dip, whip, Salt, to, with, at, serve, Heat, melt, minutes, chicken, Arrange, and, and, making, thyme, broth, and, Repeat, over, oil, and, per, cup, orange, and, Chicken, chicken, you, frequently, whisk, Simmer, drain, chicken, oyster, serve, chicken, Combine, thickens, pepper, minutes, longer, and, oven, baking, skillet, of, thickened, about, mediumhigh, chicken, oil, teaspoon, cup, with, pepper, chicken, pan, until, cloves, surface, and, chicken, each, with, Sauce, once, cold, F, cups, Slice, occasionally, chicken, cooked, with, and, not, in, salt, continuing, baking, chicken, chicken, and, wine, to, pepper, cook, in, chopped, and, piece, of, and, about, BBQ, tablespoon, is, chicken, to, pan, chicken, Simmer, broth, and, on, Whisk, Preheat, taste, vegetable, Remove, as, chicken, Add, garlic, cup, broth, until, baking, white, bring, buttermilk, powder, is, cheese, cooked, minutes, skillet, salt, chicken, broth, either, and, to, to, and, the, boil, dressing, cut, Roasted, meat, halves, first, batches, and, shallow, in, lettuce, any, halves, to, cayenne, pepper, simmering, oven, a, paste, oregano, bread, Dip, in, crumbled, white, baking, arrange, oil, black, heat, and, and, with, mixture, accumulated, any, high, just, refrigerate, mediumhigh, Spread, simmer, in, soup, until, orange, large, reduced, breast, with, packet, and, F, tablespoons, Boil, in, reduced, basting, breast, in, until, skinon, for, inch, breasts, cooked, fat, mediumhigh, pieces, bouillon, a, Dredge, canned, garlic, inchlong, chicken, cook, Heat, spacing, Add, keep, cup, Vinegar, stock, pan, over, of, is, chicken, both, heat, thyme, reduce, with, to, sauce, Place, chicken, pepper, teaspoon, ground, prepared, pepper, spinach, center, and, Breasts, shredded, ground, minced, and, butter, remaining, aside, and, RestaurantStyle, mixture, heavy, a, and, Open, the, olive, before, stir, Stock, through, are, Pour, to, Preheat, over, skillet, garlic, among, condensed, the, the, just, oil, Quick, salt, salt, teaspoon, purpose, skin, dish, over, per, and, Place, black, breasts, to, chicken, boneless, together, garlic, thyme, from, honey, teaspoon, or, reduced, remaining, fresh, skillet, ground, all, sprinkle, large, Filling, lightly, with, heat, chicken, bones, Preheat, Remove, skin, sure, minutes, with, Mushrooms, enough, side, chicken, Smothered, to, until, has, chicken, on, to, capers, oil, broth, the, Using, about, reaches, or, Let, through, In, mediumhigh, and, head, degrees, vinegar, Top, the, pepper, paper, of, with, F, low, chicken, about, over, to, Breasts, in, skillet, bowl, side, onion, Season, chicken, chopped, chicken, with, F, waxed, to, through, thick, flour, return, F, pepper, atop, skillet, teaspoon, reserving, heated, cavity, skin, until, broth, between, using, and, halves, cook, prevent, a, until, oil, ingredients, onions, tablespoons, Scallion, remaining, sour, Melt, small, chopped, oil, golden, refrigerator, ground, each, fully, over, skinless, thyme, slices, top, or, to, over, less, chicken, when, slowly, Combine, teaspoons, and, Melt, chicken, skinless, strain, barbeque, salad, liquid, high, lemon, with, into, mediumhigh, to, two, over, package, broth, to, for, thigh, Place, the, from, paper, over, honey, lemon, simmer, free, over, Chicken, MushroomandWine, sauté, cook, cup, simmer, tent, baking, carrots, Add, dish, garlic, large, salt, pour, diagonal, Boil, and, cups, minutes, Cook, roasting, and, tender, Balsamic, with, boil, inch, allpurpose, chicken, per, border, of, chicken, cheese, pieces, piece, to, of, into, at, PanSeared, minced, the, Pour, brown, to, together, chicken, about, chicken, and, halves, chicken, until, to, lemon, into, down, consistency, chicken, pound, into, chicken, enough, mediumhigh, longer, mozzarella, with, Transfer, cooked, add, heat, chicken, a, to, cooked, hot, herbes, refrigerate, juices, about, over, Low, cheese, with, over, small, Chicken, vegetables, plate, over, knife, oil, shredded, heat, with, breasts, to, In, saute, the, chicken, until, sides, bring, bowl, one, golden, along, Alfredo, place, bring, mediumlow, in, off, platter, minutes, cheese, Sprinkle, Pour, reduced, on, in, to, cream, parsley, generously, in, sauté, read, are, minutes, Tacos, Country, Soup, into, buttermilk, pepper, F, skillet, F, carrot, in, over, vinegar, and, warm, away, onion, garlic, and, with, just, Lay, add, Rub, Add, wine, remaining, flour, Chicken, chicken, marinade, the, liquid, sauce, until, under, half, butter, chicken, to, with, in, until, minutes, Pour, just, Add, minutes, Transfer, in, Italian, skinless, onion, juices, chicken, ready, pink, about, chicken, mallet, chicken, top, rolls, skewers, chicken, in, minutes, water, C, stock, small, skillet, plates, about, chicken, minutes, ground, tablespoons, the, boneless, cooked, remove, vinegar, thickness, sauce, at, Pour, Dip, garnished, with, aluminum, plate, and, chicken, Add, to, dried, through, garlic, turning, in, read, in, sides, breast, to, sauce, Chicken, from, cup, halves, Chicken, Uncover, the, Once, the, balsamic, In, with, salt, boil, garlic, whichever, through, pepper, and, avocado, minute, teaspoon, glass, and, garlic, of, inch, Minute, consistency, bottle, until, sauce, and, until, pieces, with, inserted, and, is, preheated, chicken, pan, tablespoons, Preheat, center, mushrooms, can, mediumhigh, tablespoons, and, place, about, as, skinless, skinless, in, broth, chicken, Reduce, leek, chicken, garlic, Mix, carrots, chicken, to, Serve, a, the, from, Season, or, mediumhigh, turning, Add, and, chicken, Add, cream, is, if, plastic, up, Yogurt, bouillon, black, and, tablespoons, until, center, about, for, cut, C, salt, or, skillet, side, about, in, all, an, cups, knife, through, the, inch, pepperCan, celery, aromatic, oil, slightly, chicken, Add, sugar, whole, a, continue, cup, and, pieces, about, into, Remove, chicken, small, to, Onions, boil, dividing, sauce, pepper, teaspoons, sheets, once, chicken, juices, are, canned, in, dried, pounds, taste, margarine, Preheat, tomatoes, Pour, with, coat, skillet, bowl, Tenderloins, chicken, cup, minutes, Arrange, marinade, wine, aside, minutes, pan, consistency, oven, in, cook, thighs, of, Place, Cook, through, garlic, with, pepper, pepper, egg, pearl, and, heat, chicken, until, meat, in, Cut, both, sauce, halves, breast, second, finely, bottom, hot, ground, stirring, taste, sauce, and, you, with, tablespoons, with, on, serve, package, to, mixture, it, cooked, to, fat, bones, Season, to, is, sliced, cup, them, orange, potatoes, chicken, in, is, to, about, sides, F, unsalted, foil, Whisk, F, the, transfer, cover, internal, dried, stand, minutes, over, Add, skillet, separated, Stir, on, cayenne, chopped, to, halves, and, mixture, Serve, chicken, medium, into, chicken, heat, oil, heat, spray, over, bring, with, and, chopped, all, in, fennel, oven, dredge, together, and, or, minutes, to, shallots, to, chicken, and, if, juices, under, stalk, with, in, and, removed, and, pieces, brandy, of, chicken, Sprinkle, bottle, bones, pan, Add, size, brown, a, large, the, tablespoons, Potatoes, oil, until, butter, to, mince, is, from, chicken, pepper, or, until, heat, chicken, poultry, and, each, Remove, this, in, low, tender, Chicken, skillet, ingredients, cumin, aside, butter, plate, over, evenly, heat, sandwich, chicken, Add, inch, and, stirring, Season, F, by, see, the, longer, skillet, breast, chicken, in, up, Discard, again, soy, around, chicken, Place, and, heat, large, brown, more, Sherry, the, foil, and, chopped, Add, reserved, skillet, pepper, as, the, in, in, and, cups, cooking, stir, Pour, warm, paprika, Add, dish, tablespoon, Transfer, chicken, chicken, chicken, vegetables, Transfer, oil, Add, baking, Add, center, temperature, with, salt, are, and, tablespoons, platter, then, cooked, from, to, a, cooked, by, Add, tablespoons, chicken, a, cup, cooked, garlic, vegetables, to, until, in, cook, mixture, to, about, and, Fry, a, stock, degrees, boil, and, pan, over, Provence, marinate, clear, heat, chicken, to, fold, Transfer, until, pound, marinates, the, Sprinkle, three, boneless, beaten, and, cheese, together, crisptender, degrees, medium, and, and, Season, are, chicken, boil, chicken, chicken, minutes, through, Uncover, Sprinkle, a, simmer, shortening, wine, cold, side, garlic, with, melted, sauce, Let, ounces, sauce, bowl, simmer, salt, onionbacon, salt, bowl, brown, simmer, through, least, chicken, return, cup, canned, to, eggs, chicken, line, mediumhigh, C, Place, large, heat, and, top, oven, visible, mix, minced, sea, de, through, slice, lemon, garlic, broth, seasoning, broth, small, lime, halves, rub, stir, reduced, slightly, is, water, try, pepper, the, spoon, Turn, grilling, lumps, chicken, chicken, tender, to, An, center, skillet, seasoning, chicken, peeled, and, is, use, juices, Turn, skillet, chicken, in, toothpicks, Spray, tablespoons, to, dry, chicken, chicken, into, oil, heat, Transfer, for, canned, pepper, sharp, in, is, chicken, about, a, chicken, chicken, chicken, hours, a, onions, spread, thighs, stirring, Heat, Preheat, second, salt, minutes, Chicken, coat, marinade, separate, with, minutes, teaspoons, F, chicken, a, and, oil, skin, boneless, chicken, to, tablespoons, separate, serving, spray, and, heat, salt, oven, minutes, butter, run, you, reduce, and, dish, in, any, Remove, dish, Chicken, occasionally, salad, is, reduced, in, lemon, and, Vinaigrette, a, with, about, until, of, cup, teaspoon, oven, browned, sliced, for, in, skillet, a, per, Red, breast, Parmesan, milk, chicken, into, and, and, on, ounce, thighs, parsnips, pan, Heat, Scallion, the, over, plastic, with, salt, wrap, Add, occasionally, chicken, F, cooked, and, with, through, around, Add, sauce, cup, rimmed, to, pepper, tablespoons, to, of, about, minutes, bitesize, cups, and, pepper, the, mediumhigh, honey, Transfer, separate, tablespoons, cooling, packed, chicken, sauté, tablespoons, made, into, minutes, heat, make, with, each, chicken, halved, reduce, a, tablespoon, of, a, Transfer, pound, minutes, salt, Arrange, HomeStyle, stick, and, chicken, salt, chicken, Velouté, bouillon, slotted, minutes, cream, clear, brown, chicken, powder, chicken, bonein, boneless, oil, to, slices, oranges, Fruits, dip, high, together, same, and, white, skinless, in, Rinse, heat, roll, chicken, over, minutes, degrees, up, with, in, soup, oven, as, minutes, thickened, and, olive, with, butter, divided, in, golden, run, inserted, heat, breasts, Melt, slightly, skin, large, large, the, bag, sauce, Using, can, stirring, broth, Coarse, of, oil, and, sides, in, warm, over, chicken, chicken, on, F, C, olive, taste, and, chicken, skinless, half, and, in, chicken, pounds, mixture, and, a, Stir, cumin, fingers, cream, keep, and, to, oil, of, teaspoon, both, side, Bacon, prosciutto, covered, cloves, capers, skillet, shallow, together, Chicken, and, to, Swiss, dry, chicken, a, salt, skillet, tablespoons, Pan, chicken, chicken, garlic, large, a, and, with, sliced, center, baking, with, °, heat, lemon, chicken, a, the, Blend, spoon, chopped, with, salt, until, and, chicken, of, chicken, coat, Continue, until, grained, crumbs, evenly, slices, is, so, wrap, salad, chicken, Reduce, and, frying, all, keep, Cover, and, juice, cut, on, then, cover, Arrange, or, turning, through, and, once, pieces, browned, is, cook, halves, freshly, with, taste, chicken, Whisk, nonreactive, until, cooked, the, and, coat, ground, minutes, the, mushrooms, and, preheat, Balsamic, up, sauté, Spread, Place, to, with, oil, and, mediumhigh, drippings, in, porcini, red, cup, bowl, roasting, remaining, cover, tablespoons, Reduce, into, Add, Skillet, low, breast, almost, butter, lowsalt, to, keep, at, red, until, in, oil, until, Let, chicken, bake, in, egg, oven, in, until, and, basil, and, pour, until, oven, and, in, Top, with, oil, into, leek, the, read, first, tablespoon, ground, coated, over, powder, any, Chicken, pan, off, Pour, resealable, Serve, scraping, °, teaspoon, pearl, of, onion, and, in, flour, chicken, then, center, chicken, work, sheet, Transfer, bouillon, stand, Lightly, simmer, rice, a, Serve, dried, heavy, minutes, medium, the, Shred, top, hour, Place, be, large, more, by, mushrooms, and, breast, then, chicken, diagonal, the, degrees, bowl, until, red, aside, with, coated, browned, the, large, the, side, chicken, with, Season, fork, temperature, mix, at, sauce, in, and, minutes, about, chicken, frying, skillet, with, cook, a, until, pepper, chicken, minutes, chicken, minutes, butter, tablespoons, chicken, broth, chicken, juices, another, halves, roasting, Add, cold, between, minutes, both, shake, the, sauce, broil, and, of, whole, cup, Cook, chicken, skillet, chicken, cheese, skillet, the, chicken, and, until, and, vinegar, and, Mix, to, seconds, through, cool, skin, about, teaspoon, of, occasionally, and, about, and, Place, pan, not, remaining, thermometer, minutes, garlic, boneless, halves, lemon, Serve, longer, servings, clear, over, wine, sliced, ounces, a, heatproof, sauce, with, mallet, and, Place, chicken, mediumhigh, boil, and, paper, oven, olive, or, large, and, keep, Transfer, and, skillet, a, serve, halves, lemon, sauce, Cheesy, same, browned, in, to, side, taste, chicken, butter, °, skillet, and, chicken, oil, crumbled, Chicken, bowl, Return, garlic, chicken, C, F, dry, wine, butter, flour, Sprinkle, Drizzle, cumin, minutes, chicken, olive, about, mediumlow, chicken, the, x, juices, backbone, a, heat, minutes, To, to, Minute, to, balsamic, chicken, chicken, salt, Spoon, is, pan, the, pinch, degrees, Sprinkle, Add, basil, large, heat, board, Transfer, halves, tablespoons, chicken, excess, Base, Preheat, green, large, to, breasts, sheet, sauté, simmer, tenders, Potatoes, stock, Pour, oil, and, pound, breasts, ground, batches, oil, about, to, cheese, hour, and, breasts, barbeque, slightly, lowfat, sheets, Season, seasoned, chicken, about, chicken, Slice, cumin, tablespoons, flour, with, taste, to, and, until, to, dish, thickens, on, from, horizontally, is, purpose, ahead, Squash, heat, with, that, sprigs, platter, cup, and, to, strips, roasting, oil, onto, salt, to, thighs, chicken, pepper, in, Piccata, large, for, skin, juice, pepper, chicken, chicken, dried, transfer, tongs, juices, minutes, chives, small, boneless, cup, thighs, breast, keep, F, garlic, olives, Olives, ounce, Season, in, medium, per, together, cup, and, tablespoon, inside, Spicy, in, and, Garnish, sauce, single, and, chicken, preheated, package, the, Reduce, slotted, minutes, skinless, cup, mixture, skinless, until, until, mixture, on, The, fleshy, mediumlow, x, with, about, dried, skillet, Strain, dust, chicken, remove, salt, about, chopped, salt, sauce, cloves, pepper, cream, with, wine, heat, bread, middle, boneless, a, grease, large, salt, to, rack, each, low, to, large, salt, to, drizzle, Taste, cup, and, skin, Dust, about, the, Lemon, bowl, and, F, lemon, Pour, spaghetti, Sweet, down, and, over, a, and, the, slices, drizzle, Turn, Reduce, pepper, garlic, oil, with, each, let, skinless, skillet, Cover, In, teaspoon, celery, chicken, Place, juices, Sprinkle, tablespoon, browned, pound, chicken, is, and, minutes, chopped, chicken, pepper, about, sauce, Cover, and, liquid, Heat, and, two, the, Melt, cooked, the, If, ounce, start, burner, saute, heat, center, to, Whisk, overnight, off, oven, pieces, piece, into, chicken, around, about, run, nonstick, minutes, sliced, in, cooked, chicken, package, skin, Arrange, aside, in, vinegar, Combine, blend, about, to, until, Refrigerate, in, chicken, pepper, garlic, is, chicken, begin, Remove, Chicken, skillet, brown, mixture, Place, vegetables, slice, and, Olive, Add, up, center, chicken, sauce, fresh, smooth, Place, to, with, Sift, to, cook, saute, boil, cooking, and, Add, through, Swanson, broth, F, Boil, F, with, Add, single, a, is, Remove, Divide, chicken, flour, Measure, °, oil, chicken, minutes, for, serve, mix, over, longer, braise, the, mixture, with, secure, onion, slices, carrot, any, into, in, brown, pepper, vegetable, Sprinkle, chile, least, chicken, set, the, over, bag, bread, browned, Combine, dill, to, shears, chicken, Add, bring, place, bring, and, chicken, no, Using, with, to, until, the, a, black, until, spoon, desired, crumbled, skillet, instantread, cover, until, to, chicken, flour, deep, or, it, salt, squeeze, Spoon, Puree, in, heated, in, Transfer, wings, the, cups, the, and, bring, broth, breasts, pan, butter, cup, chicken, and, remaining, serve, that, the, seasonings, to, blender, saucepan, Place, temperature, Pour, sliced, heat, first, occasionally, bowl, pour, chicken, set, side, tender, and, oregano, white, and, pound, transfer, bowl, this, minutes, skin, to, of, with, of, completely, serve, highest, heat, Rinse, soup, peppercorns, barbeque, up, with, to, and, chicken, and, halves, Bring, preheated, tablespoons, and, to, tomatoes, side, to, Return, Arrange, Place, nt, Stir, powder, pan, paprika, until, turn, pound, in, slightly, Stir, mixture, into, minutes, In, over, with, ounce, and, with, in, to, Chicken, leftovers, Cover, breast, least, porcini, bowl, mixing, chicken, Add, a, with, in, through, Add, with, to, cornstarch, Combine, degrees, cup, scissors, sides, through, Boil, with, warm, some, baking, over, Fried, and, bubbling, Chicken, skin, flour, large, F, and, chicken, chicken, olive, the, Sprinkle, they, Remove, cook, green, fresh, Bleu, milk, to, finely, and, small, chicken, Lemon, chicken, heavy, with, flour, over, pepper, from, platter, in, a, tablespoons, turn, in, baking, skillet, flour, saucepan, low, sauce, Pour, cups, for, minutes, cup, granules, should, pepper, from, brown, stirring, into, black, flour, chicken, optional, over, mediumlow, in, to, chicken, oil, on, to, chicken, whisk, only, and, chicken, chicken, to, Transfer, vegetable, with, integrated, of, tossing, until, oven, side, pepper, cook, large, F, and, melted, lid, Transfer, bag, minutes, beaten, cup, foil, sides, to, no, Meanwhile, at, into, garam, of, a, Dutch, chicken, about, chicken, the, minutes, large, Spoon, slicing, Additional, prevent, chill, marinade, high, over, heat, desired, liquid, tablespoon, pieces, place, reserving, container, breast, serving, pepper, and, more, dill, cups, roasting, allpurpose, thighs, chicken, broth, in, through, pat, crushed, thighs, chicken, clear, Saltimbocca, salt, finely, and, or, kosher, ingredients, cubed, Boil, C, sliced, breast, boneless, chicken, thighs, chicken, Transfer, to, breast, for, soy, out, Cacciatore, high, just, crumbs, chicken, lemon, breast, until, Spoon, until, low, and, medium, transfer, sauce, dry, juice, chicken, chicken, onion, over, is, boil, sides, teaspoons, of, simmer, with, in, strips, sage, of, broth, juices, excess, Cordon, from, in, Pour, parsley, chicken, Paprikash, cracked, oil, both, in, and, juice, the, lightly, oven, breast, roasting, x, bell, pepper, in, combine, breast, and, Simmer, Boil, skinless, reduce, chicken, adjust, cream, Heat, chicken, freshly, chicken, Place, to, chicken, seasoning, concentrate, Pat, chicken, large, Breast, the, in, heat, until, Combine, heat, tablespoons, chicken, breasts, to, panko, and, Dice, degrees, for, at, chicken, mediumhigh, concentrate, large, black, cubes, the, slice, simmer, fresh, breast, mixture, Cover, and, in, chicken, tablespoons, side, panko, per, all, sauce, hours, Chicken, slightly, in, black, shallow, Mix, in, about, pieces, fresh, mediumlow, golden, oil, plates, Fry, of, °, Pat, juices, and, chicken, stock, occasionally, Transfer, the, and, over, heat, about, teaspoon, minutes, a, mushrooms, bring, chicken, mixture, lemon, browns, ingredients, sharp, Transfer, thickness, chicken, for, heavy, side, about, skillet, the, brown, chicken, skinless, orange, almost, each, leaves, the, ham, in, from, sauté, browned, minutes, large, carrots, cup, chicken, pancetta, Rub, foil, this, Cover, and, Add, taste, for, stir, minutes, Unsalted, chicken, chicken, halved, C, pounds, Return, in, Chicken, on, and, between, cooked, poach, into, flour, browned, of, for, the, or, chicken, chicken, covering, in, until, tablespoons, chicken, tomato, bring, butter, yogurt, and, juices, mixture, bowl, teaspoon, a, in, taste, teaspoons, and, thermometer, a, Add, Remove, oil, of, Brown, about, rosemary, until, and, optional, Cover, pin, stock, boil, half, garlic, refrigerated, skillet, pink, pound, to, Boil, boil, to, roasting, Add, mixture, beer, each, fresh, medium, over, simmer, inserted, Fiesta, hot, run, shallow, a, minutes, have, pepper, over, over, ingredients, crumbs, cloves, through, to, a, cream, onions, lime, Add, boil, place, browned, chicken, browned, cream, prepared, Mix, Serve, carved, can, bell, well, Add, heat, water, leaves, will, chopped, When, boil, is, chicken, flour, until, by, Add, chicken, sauce, chicken, clove, Mix, cut, sauceboat, seasoning, and, until, down, peel, wrap, flour, the, Preheat, Peanut, carrots, chicken, oven, until, Kaiser, your, about, until, to, all, allpurpose, the, to, until, sauce, and, When, juices, a, with, Marinate, cloves, a, into, a, minutes, the, a, side, over, chicken, Bake, pan, paprika, completely, meantime, heat, Curry, Italianstyle, and, flour, center, more, cup, juices, bake, tablespoon, and, sliced, eggs, keep, or, a, cup, of, twine, Bake, minutes, and, pepper, Add, sauce, degrees, Mix, through, the, run, juices, boneless, the, to, and, sherry, pound, sprinkling, hour, the, down, chicken, over, chicken, Chicken, divided, no, boneless, boneless, cooking, with, tender, chicken, skin, chopped, juice, provolone, a, milk, tablespoons, cut, the, Chicken, baking, skillet, and, the, chicken, the, and, a, medium, with, chopped, in, coat, inch, skillet, heat, over, medium, simmer, chicken, dressing, bone, to, side, tablespoon, cold, season, desired, of, no, until, at, skinless, vinegar, garlic, olive, to, until, shallow, Reduce, be, water, cutting, heat, chicken, blend, into, thyme, quartered, to, Pour, heated, cup, Pancetta, Bring, tablespoons, chicken, thick, mediumhigh, sauté, taste, stir, skillet, garlic, to, to, turn, well, split, with, flour, lime, cooling, cooked, casserole, pink, chicken, degrees, chicken, Greek, and, saucepan, Repeat, and, Season, platter, in, tablespoons, baking, chicken, skillet, purpose, spots, to, a, into, heat, chicken, chicken, skillet, sauce, in, Distribute, Sprinkle, cream, and, place, until, heat, sauce, flour, Sprinkle, teaspoons, pounds, taste, boil, temperature, for, is, with, salt, in, work, Chicken, Lemon, sheet, up, Dijon, tablespoon, large, container, in, divided, thyme, each, breast, Season, salt, and, to, sauce, over, down, with, teaspoon, butter, breast, until, cooked, pat, serve, using, about, of, tender, to, When, over, heat, until, chicken, wine, chicken, to, halves, heat, through, glass, until, chopped, registers, chicken, and, nonstick, dredge, olive, sauce, bread, sauce, chicken, Save, II, Place, bowl, into, oven, salt, to, over, a, with, large, Lemon, plastic, breasts, about, Turn, leek, spread, baking, with, garlic, broth, another, soup, between, the, and, in, chicken, to, oven, pepper, through, with, to, chicken, pie, a, chicken, chicken, F, with, cup, dry, and, top, boneless, broth, Remove, for, panfry, is, oil, medium, flour, Orange, Return, mix, and, teaspoon, just, for, minutes, hour, tablespoons, cook, broth, skillet, cup, bouillon, Wrap, halves, bouillon, leaves, salt, chicken, simmer, cup, small, a, tablespoons, in, pecans, Using, juices, bell, chicken, chicken, about, nonstick, pound, Season, carrots, large, longer, cup, Whisk, simmer, minutes, each, fresh, chicken, Place, dry, in, of, white, batches, and, to, to, Italian, heat, ground, garlic, paste, chicken, greased, cups, degrees, to, completely, quickly, the, cut, Drizzle, chicken, cubes, hours, over, in, to, Sprinkle, until, minutes, in, chicken, and, chicken, breast, the, Pour, through, per, on, and, instantread, Serve, large, oil, the, each, Chicken, minutes, parsnips, chicken, minutes, and, flour, or, Add, to, Broth, all, cutting, side, hour, to, in, medium, be, sides, chicken, chicken, about, chicken, large, bowls, about, Preheat, vinegar, the, of, platter, into, Cover, center, Bring, and, and, and, is, tablespoons, over, to, the, pour, about, cumin, inch, skillet, blend, cumin, thyme, near, inch, to, thighs, chicken, heavy, chicken, skillet, until, thyme, coated, until, Add, pound, up, and, the, until, chicken, until, minutes, to, the, in, reduce, dry, Add, Place, chicken, with, juice, breast, Combine, Add, salsa, chicken, the, Cooker, Stir, Balsamic, OldFashioned, dish, bowl, chicken, oven, oil, of, and, Bake, skillet, minced, minute, platter, of, teaspoon, fresh, tablespoon, skillet, chicken, chicken, the, evenly, minutes, soup, about, ahead, butter, chicken, on, Add, and, stirring, mixture, medium, minutes, Dijon, chicken, parsley, brown, sauce, about, on, water, on, glass, to, side, slightly, no, and, minced, Red, pieces, chicken, black, remaining, is, sauté, garlic, oil, roll, to, StirFry, parsnips, with, degrees, on, split, In, Transfer, is, under, tarragon, teaspoon, of, before, are, chicken, until, is, paste, mallet, and, can, interior, bone, mixture, side, tablespoon, bowl, Remove, apply, dried, chicken, over, brown, carrots, vinegar, browned, skinless, salt, to, salt, minutes, and, bonein, dressing, to, not, chicken, Rewarm, quart, and, saucepan, Whisk, chicken, chicken, with, until, stock, and, Coat, Place, lime, on, in, bring, thickened, breast, in, about, French, cup, chicken, parsley, ®, instantread, has, until, in, browned, a, cup, romaine, heat, and, and, and, the, crisp, heavy, dried, slices, bowl, curry, tarragon, to, thin, and, foil, olive, Using, mediumhigh, chicken, beaten, sprinkle, mixture, juices, pieces, over, Place, large, in, over, serve, mediumlow, breasts, Parmesan, occasionally, blend, a, and, Add, Chicked, oven, salt, with, Chicken, juices, chicken, is, pink, chicken, powder, Slice, heavy, cook, in, over, is, Place, about, flat, to, With, chicken, halves, with, pound, and, seeded, sheet, pan, cooked, vinegar, and, chicken, strips, chicken, halves, slice, Season, mustard, whole, until, high, and, for, Chicken, Cover, skin, foil, Rub, and, salt, cup, on, turning, Layer, the, pancetta, Chicken, teaspoons, orange, Chicken, black, the, with, the, salt, serve, olive, in, flour, set, saucepan, tablespoons, will, and, bowl, slices, heated, side, plates, reduced, temperature, medium, pieces, cracker, can, with, a, is, boil, chicken, with, with, powder, in, boil, skillet, °, minutes, brown, Bring, ground, to, Continue, boneless, skinless, towels, bits, Remove, tablespoon, Cover, cream, until, minced, any, plates, teaspoon, breasts, tender, tent, chicken, low, pour, Delicious, smoke, oven, with, thickened, about, and, chicken, gentle, per, cooked, Flos, add, sauce, sauce, to, chicken, oven, tablespoon, heat, the, juices, minutes, dish, piece, oregano, cook, cooked, Spoon, over, F, Place, sugar, potatoes, red, of, boneless, sauce, half, pan, °, pepper, whole, on, over, with, Chicken, Add, the, thickness, olive, small, banana, Arrange, breast, over, blend, cup, and, of, thighs, for, breast, until, halves, several, °, chicken, chicken, and, rub, Add, dish, paper, and, C, hands, chicken, °, wine, place, breast, the, platter, from, In, chicken, Remove, next, Remove, degrees, with, to, with, paprika, in, Heat, through, or, salt, the, oil, on, brandy, chicken, pounds, oil, with, until, and, how, pepper, Mix, all, broth, Whisk, bowl, in, marinade, sugar, transfer, Cook, minutes, Sauté, Prepare, chicken, boil, over, chicken, chicken, onion, over, oven, Pour, in, chicken, chicken, chicken, chicken, ounce, into, halves, the, pan, a, and, necessary, begin, Garlic, skillet, soft, chicken, pepper, minced, white, plate, inch, with, Sauté, temperature, a, heat, Bake, inchdeep, with, salt, bouillon, chicken, heat, and, chicken, chicken, is, wine, x, skillet, among, minutes, inch, half, over, tablespoons, to, Transfer, the, inserted, or, cloves, garlic, until, half, tablespoons, serve, Remove, until, mix, and, chicken, boil, and, tablespoons, with, breastside, the, On, nestling, mixture, Add, day, Sprinkle, with, sheets, minutes, just, and, no, to, over, all, bottom, spoon, teaspoon, and, the, to, wine, on, of, and, in, °, Roast, The, chicken, all, Season, olive, Dip, medium, bone, the, dish, skin, from, over, dried, both, brown, small, off, is, shake, to, in, and, skin, pieces, minute, and, about, side, thickness, large, until, crumbs, honey, pieces, same, heat, pepper, and, chicken, with, and, and, onions, ingredients, cup, Noodle, carving, together, cooked, over, large, for, with, °, butter, chicken, and, chicken, keep, butter, Trim, powder, sprigs, mesquiteflavored, can, until, chicken, and, sprinkle, side, California, chicken, chicken, Cilantro, side, to, ingredients, surface, until, until, Rinse, tablespoons, chicken, mixture, cup, the, and, Sprinkle, cooked, mix, about, skillet, Cook, dish, about, enough, cooked, and, dried, Chicken, reduced, pan, Simmer, the, longer, until, around, chopped, onions, small, F, tablespoon, sauté, smooth, degrees, about, skillet, large, a, through, cup, occasionally, and, teaspoon, oven, mediumhigh, and, plate, is, through, and, inch, Melt, and, immediately, juices, garnish, to, mixture, coat, minutes, sauce, teaspoon, cooked, and, flour, seasoning, zucchini, and, both, chicken, black, Pour, pepper, chicken, Chicken, oven, Preheat, or, cup, low, reserved, with, boil, shallots, in, cooked, and, dish, Sprinkle, in, chicken, breasts, Return, cups, x, a, sauce, ounce, skillet, side, skillet, into, Stock, thermometer, Taste, pan, in, from, roasting, flour, shredded, side, over, Sauce, Heat, collected, and, browned, cut, boneless, cup, chicken, such, small, the, the, cloves, spoon, are, Return, cornstarch, scallions, tomato, in, Add, in, Melt, over, cup, heat, oven, dry, pan, to, chicken, until, resealable, and, Shortening, Curried, °, ground, powder, Bake, juices, the, by, paprika, halves, breast, cream, sides, nonstick, heat, through, egg, Uncover, Place, Drain, sharp, minutes, butter, and, steamed, until, a, oil, over, about, white, pieces, to, skin, salt, ham, F, chicken, over, cut, has, over, in, hours, Baby, Sprinkle, keep, with, basting, black, wine, baking, over, is, and, over, cup, spoon, medium, cup, Potatoes, to, Cover, chicken, paper, the, Chicken, ounce, large, pepper, or, and, butter, heavyduty, about, black, together, to, chicken, cook, set, sauce, oil, time, over, chicken, on, broth, foil, sauce, cooked, sauce, oil, and, Chicken, paprika, cream, the, heat, mediumhigh, Fry, tablespoon, a, boil, pepper, coat, simmer, breast, pound, roasted, the, chicken, teaspoon, overnight, lime, to, cup, teaspoon, drizzle, herb, over, to, minutes, foil, in, wrap, over, Rice, oven, degrees, and, minutes, spread, In, cut, Reduce, Add, about, on, whisk, taste, thickened, liquid, all, °, Chicken, at, from, clear, tongs, a, or, teaspoon, nicely, about, sauce, heat, an, chicken, in, and, sauce, flour, breast, taste, the, bring, Sprinkle, in, towels, high, and, cooking, with, about, season, cups, finely, slices, breasts, and, chicken, seeded, Mix, almost, minutes, a, Serve, buttermilk, to, Sprinkle, skillet, pasta, enough, and, Garnish, liquid, chicken, fat, milk, Return, tablespoons, Bake, enough, chicken, ounce, the, skillet, medium, minutes, golden, the, in, from, degrees, Mashed, Overlap, cream, butter, bacon, chicken, pepper, Roast, chicken, divided, simmer, bag, boneless, side, bacon, Remove, Dredge, make, shimmer, place, ingredients, is, heavy, Easy, remaining, to, set, into, to, in, vegetables, the, chicken, chicken, heat, to, breasts, chicken, salt, °, mediumhigh, large, into, no, cover, chicken, cream, flour, side, mixture, chicken, towel, juice, the, Heat, brown, Vegetable, the, beginning, until, beaten, chicken, Preheat, medium, dish, vegetables, serving, for, turning, the, slashes, oil, chicken, water, pepper, and, heavy, splash, to, the, cooked, tablespoons, baking, and, pieces, the, cooker, each, Fold, minutes, chicken, Cut, plate, sprigs, chopped, room, teaspoons, pinch, pieces, the, sugar, golden, rolls, is, ingredients, in, egg, reduced, Preheat, until, Add, juice, bring, chicken, plastic, place, among, dredge, warm, Refrigerate, with, cheese, plastic, chicken, through, broth, is, F, heat, a, the, skin, de, Heat, run, Reduce, the, for, sauce, until, bowl, Melted, to, chicken, freshly, chicken, taste, skinless, into, Finish, read, and, a, bone, pepper, heat, wine, When, both, Arrange, Fry, pot, until, thickness, °, to, over, sauté, water, juice, per, boil, chicken, hot, vegetable, about, pepper, skin, a, seasoned, over, with, and, until, to, cooked, into, vinegar, Stir, quarts, fat, and, Serve, and, over, drain, orzo, and, roll, plates, Set, any}\n",
      "{'wrap', 'parsley', 'directions', 'Beat', 'bacon', 'rack', '°', 'bones', 'lemon', 'lengthwise', 'saucepan', 'slice', 'depth', 'sheet', 'seasoning', 'seconds', 'boil', 'pimento', 'cubed', 'jalapeno', 'stove', 'soups', 'mushroom', 'cut', 'pin', 'consistency', 'vegetable', 'knife', 'grate', 'flour', 'purpose', 'F', 'salad', 'pounder', 'spots', 'lbs', 'tablespoons', 'shears', 'whisk', 'sandwich', 'towels', 'bitesize', 'dust', 'surface', 'sodium', 'chives', 'pickles', 'halfandhalf', 'seasonings', 'minutes', 'bone', 'chili', 'tent', 'foil', 'xinch', 'contents', 'cardamom', 'picante', 'thickness', 'sherry', 'border', 'bay', 'bowl', 'masala', 'honey', 'part', 'inches', 'butterflour', 'spoon', 'fat', 'paperthin', 'backbone', 'scissors', 'margarine', 'browns', 'sheets', 'concentrate', 'mozzarella', 'pocket', 'optional', 'hand', 'center', 'salt', 'glass', 'onionbacon', 'save', 'pasta', 'pair', 'clove', 'shallot', 'packet', 'cornstarch', 'vinaigrette', 'SwansonR', 'beef', 'skillets', 'hearts', 'porcini', 'anchovy', 'velouté', 'sage', 'couple', 'Stuff', 'spice', 'shortening', 'Mix', 'lid', 'pour', 'sleeve', 'ketchup', 'day', 'soup', 'whipping', 'crush', 'rolls', 'inch', 'bell', 'lowfat', 'pearl', 'bottle', 'paprikaonion', 'wheat', 'saute', 'room', 'thighs', 'peppercorns', 'bag', 'medium', 'side', 'thyme', 'banana', 'chicken', 'lumps', 'running', 'zucchini', 'whip', 'allpurpose', 'Place', 'pounds', 'container', 'mixture', 'tarragon', 'soy', 'aluminum', 'shallots', 'reads', 'rice', 'push', 'skins', 'towel', 'roast', 'reserve', 'avocado', 'raspberry', 'ends', 'mixing', 'cumin', 'coat', 'fork', 'romaine', 'toothpicks', 'Creole', 'stuffing', 'time', 'cheese', 'plate', 'pepper', 'drippings', 'olive', 'beans', 'dip', 'juices', 'yogurt', 'transfer', 'packages', 'wings', 'curry', 'tomatoes', 'panfry', 'peel', 'inchlong', 'pieces', 'carrot', 'meat', 'cutting', 'bits', 'skillet', 'pancetta', 'tomato', 'sides', 'garlic', 'pan', 'granules', 'cooker', 'sauté', 'tossing', 'Taste', 'turning', 'stalks', 'heel', 'mild', 'note', 'skinless', 'zest', 'total', 'carrots', 'Stir', 'oregano', 'parts', 'sugar', 'brush', 'crumbs', 'cooking', 'slashes', 'moist', 'edge', 'chill', 'paste', 'broil', 'stalk', 'set', 'flavor', 'Spoon', 'ovenproof', 'preheat', 'kitchen', 'legs', 'meal', 'drumsticks', 'vegetables', 'lowsodium', 'marinates', 'sticks', 'strips', 'parsnips', 'squeeze', 'Salt', 'doneness', 'Season', 'tenders', 'rosemary', 'pie', 'head', 'button', 'lime', 'russet', 'blender', 'work', 'quart', 'simmer', 'plastic', 'season', 'liquid', 'glaze', 'grease', 'leaves', 'longgrain', 'poach', 'grill', 'refrigerator', 'sprig', 'dill', 'mallet', 'juice', 'times', 'vinegar', 'pecans', 'smoke', 'broiler', 'board', 'bottom', 'dressing', 'return', 'thickens', 'C', 'buttery', 'batches', 'bonein', 'chop', 'herbs', 'powder', 'add', 'ham', 'casserole', 'crackers', 'bake', 'marinate', 'registers', 'mediumlow', 'bread', 'beer', 'breadcrumbs', 'breastbone', 'fingers', 'fennel', 'roasting', 'broccoli', 'lowsalt', 'taste', 'layer', 'capers', 'fatfree', 'baking', 'package', 'strain', 'middle', 'heavyduty', 'herb', 'temperature', 'fluid', 'cutlets', 'noodles', 'castiron', 'orange', 'oil', 'onions', 'garam', 'turmeric', 'thigh', 'thirds', 'wholemilk', 'roll', 'half', 'size', 'water', 'weed', 'teaspoons', 'Preheat', 'wok', 'Heat', 'breast', 'place', 'coconut', 'cans', 'combination', 'wine', 'coats', 'minute', 'tacos', 'flatten', 'pot', 'Measure', 'stir', 'cubes', 'platter', 'jar', 'braise', 'jars', 'olives', 'section', 'blend', 'thermometer', 'hours', 'drizzle', 'birds', 'food', 'book', 'reduces', 'neck', 'air', 'paprika', 'eggs', 'mushrooms', 'potatoes', 'spray', 'prosciutto', 'Transfer', 'stovetop', 'taco', 'meals', 'remainder', 'cherry', 'freezer', 'panko', 'salsa', 'cauliflower', 'celery', 'touch', 'instantread', 'peppers', 'marinade', 'chipotle', 'spaghetti', 'pound', 'sauce', 'wedges', 'cream', 'broth', 'giblets', 'onion', 'ground', 'edges', 'plates', 'tongs', 'palms', 'Yield', 'oyster', 'zipper', 'bowls', 'cracker', 'read', 'bouillon', 'stirring', 'picholine', 'paper', 'basil', 'lettuce', 'twist', 'stock', 'oranges', 'level', 'herbes', 'flakes', 'splash', 'egg', 'milk', 'potato', 'Squeeze', 'cider', 'scallions', 'cayenne', 'baby', 'reducedsodium', 'cube', 'Fold', 'mesquite', 'pinwheels', 'crosswise', '®', 'cook', 'rub', 'twine', 'dish', 'burner', 'mustard', 'skinon', 'cloves', 'servings', 'gingerroot', 'dredge', 'xxinch', 'artichokes', 'cavity', 'ounce', 'cover', 'ounces', 'lemons', 'fruits', 'skewers', 'boneless', 'piece', 'leftovers', 'degrees', 'arrange', 'shake', 'Brush', 'peanuts', 'hour', 'tray', 'leek', 'sprigs', 'racks', 'shimmer', 'meantime', 'pinch', 'skin', 'slices', 'basting', 'barbeque', 'gravy', 'string', 'Note', 'hands', 'plum', 'butter', 'Cut', 'period', 'Repeat', 'Roast', 'heat', 'sprinkle', 'use', 'brandy', 'breasts', 'forktender', 'spinach', 'preference', 'seeds', 'poultry', 'sea', 'bags', 'halves', 'baste', 'top', 'degree', 'tie', 'firm', 'melt', 'solids', 'recipe', 'tender', 'brown', 'buttermilk', 'mix', 'marmalade'}\n"
     ]
    }
   ],
   "source": [
    "# Print unique values of parsed_texts and kw_filts\n",
    "print(set(parsed_texts))\n",
    "print(set(list(kw_filts)))\n"
   ]
  },
  {
   "cell_type": "code",
   "execution_count": 49,
   "id": "9c2daf9d",
   "metadata": {},
   "outputs": [],
   "source": [
    "# Creating adjecency Table for recipes.\n",
    "adjacency = pd.DataFrame(columns=list(kw_filts), index=list(kw_filts), data = 0)\n",
    "for i, word in enumerate(parsed_texts):\n",
    "    if any ([str(word) == item for item in kw_filts]):\n",
    "        end = min(len(parsed_texts), i+5) # Window of four words\n",
    "        nextwords = parsed_texts[i+1:end]\n",
    "        inset = [str(x) in kw_filts for x in nextwords]\n",
    "        neighbors = [str(nextwords[i]) for i in range(len(nextwords)) if inset[i]]\n",
    "        if neighbors:\n",
    "            for i in neighbors:\n",
    "                adjacency.loc[str(word), i] += 1"
   ]
  },
  {
   "cell_type": "code",
   "execution_count": 50,
   "id": "5fd1b2e5",
   "metadata": {},
   "outputs": [
    {
     "data": {
      "text/html": [
       "<div>\n",
       "<style scoped>\n",
       "    .dataframe tbody tr th:only-of-type {\n",
       "        vertical-align: middle;\n",
       "    }\n",
       "\n",
       "    .dataframe tbody tr th {\n",
       "        vertical-align: top;\n",
       "    }\n",
       "\n",
       "    .dataframe thead th {\n",
       "        text-align: right;\n",
       "    }\n",
       "</style>\n",
       "<table border=\"1\" class=\"dataframe\">\n",
       "  <thead>\n",
       "    <tr style=\"text-align: right;\">\n",
       "      <th></th>\n",
       "      <th>wrap</th>\n",
       "      <th>parsley</th>\n",
       "      <th>directions</th>\n",
       "      <th>Beat</th>\n",
       "      <th>bacon</th>\n",
       "      <th>rack</th>\n",
       "      <th>°</th>\n",
       "      <th>bones</th>\n",
       "      <th>lemon</th>\n",
       "      <th>lengthwise</th>\n",
       "      <th>...</th>\n",
       "      <th>tie</th>\n",
       "      <th>firm</th>\n",
       "      <th>melt</th>\n",
       "      <th>solids</th>\n",
       "      <th>recipe</th>\n",
       "      <th>tender</th>\n",
       "      <th>brown</th>\n",
       "      <th>buttermilk</th>\n",
       "      <th>mix</th>\n",
       "      <th>marmalade</th>\n",
       "    </tr>\n",
       "  </thead>\n",
       "  <tbody>\n",
       "    <tr>\n",
       "      <th>wrap</th>\n",
       "      <td>0</td>\n",
       "      <td>0</td>\n",
       "      <td>0</td>\n",
       "      <td>0</td>\n",
       "      <td>0</td>\n",
       "      <td>0</td>\n",
       "      <td>0</td>\n",
       "      <td>1</td>\n",
       "      <td>0</td>\n",
       "      <td>0</td>\n",
       "      <td>...</td>\n",
       "      <td>0</td>\n",
       "      <td>0</td>\n",
       "      <td>0</td>\n",
       "      <td>0</td>\n",
       "      <td>0</td>\n",
       "      <td>0</td>\n",
       "      <td>0</td>\n",
       "      <td>0</td>\n",
       "      <td>0</td>\n",
       "      <td>0</td>\n",
       "    </tr>\n",
       "    <tr>\n",
       "      <th>parsley</th>\n",
       "      <td>0</td>\n",
       "      <td>0</td>\n",
       "      <td>0</td>\n",
       "      <td>0</td>\n",
       "      <td>0</td>\n",
       "      <td>0</td>\n",
       "      <td>1</td>\n",
       "      <td>0</td>\n",
       "      <td>0</td>\n",
       "      <td>0</td>\n",
       "      <td>...</td>\n",
       "      <td>0</td>\n",
       "      <td>0</td>\n",
       "      <td>0</td>\n",
       "      <td>0</td>\n",
       "      <td>0</td>\n",
       "      <td>0</td>\n",
       "      <td>3</td>\n",
       "      <td>0</td>\n",
       "      <td>0</td>\n",
       "      <td>0</td>\n",
       "    </tr>\n",
       "    <tr>\n",
       "      <th>directions</th>\n",
       "      <td>0</td>\n",
       "      <td>0</td>\n",
       "      <td>0</td>\n",
       "      <td>0</td>\n",
       "      <td>0</td>\n",
       "      <td>0</td>\n",
       "      <td>0</td>\n",
       "      <td>0</td>\n",
       "      <td>0</td>\n",
       "      <td>0</td>\n",
       "      <td>...</td>\n",
       "      <td>0</td>\n",
       "      <td>0</td>\n",
       "      <td>0</td>\n",
       "      <td>0</td>\n",
       "      <td>0</td>\n",
       "      <td>0</td>\n",
       "      <td>0</td>\n",
       "      <td>0</td>\n",
       "      <td>0</td>\n",
       "      <td>0</td>\n",
       "    </tr>\n",
       "    <tr>\n",
       "      <th>Beat</th>\n",
       "      <td>0</td>\n",
       "      <td>0</td>\n",
       "      <td>0</td>\n",
       "      <td>0</td>\n",
       "      <td>0</td>\n",
       "      <td>0</td>\n",
       "      <td>0</td>\n",
       "      <td>0</td>\n",
       "      <td>0</td>\n",
       "      <td>0</td>\n",
       "      <td>...</td>\n",
       "      <td>0</td>\n",
       "      <td>0</td>\n",
       "      <td>0</td>\n",
       "      <td>0</td>\n",
       "      <td>0</td>\n",
       "      <td>0</td>\n",
       "      <td>0</td>\n",
       "      <td>0</td>\n",
       "      <td>0</td>\n",
       "      <td>0</td>\n",
       "    </tr>\n",
       "    <tr>\n",
       "      <th>bacon</th>\n",
       "      <td>0</td>\n",
       "      <td>0</td>\n",
       "      <td>0</td>\n",
       "      <td>0</td>\n",
       "      <td>0</td>\n",
       "      <td>0</td>\n",
       "      <td>0</td>\n",
       "      <td>0</td>\n",
       "      <td>0</td>\n",
       "      <td>0</td>\n",
       "      <td>...</td>\n",
       "      <td>0</td>\n",
       "      <td>0</td>\n",
       "      <td>0</td>\n",
       "      <td>0</td>\n",
       "      <td>0</td>\n",
       "      <td>0</td>\n",
       "      <td>0</td>\n",
       "      <td>0</td>\n",
       "      <td>0</td>\n",
       "      <td>0</td>\n",
       "    </tr>\n",
       "    <tr>\n",
       "      <th>...</th>\n",
       "      <td>...</td>\n",
       "      <td>...</td>\n",
       "      <td>...</td>\n",
       "      <td>...</td>\n",
       "      <td>...</td>\n",
       "      <td>...</td>\n",
       "      <td>...</td>\n",
       "      <td>...</td>\n",
       "      <td>...</td>\n",
       "      <td>...</td>\n",
       "      <td>...</td>\n",
       "      <td>...</td>\n",
       "      <td>...</td>\n",
       "      <td>...</td>\n",
       "      <td>...</td>\n",
       "      <td>...</td>\n",
       "      <td>...</td>\n",
       "      <td>...</td>\n",
       "      <td>...</td>\n",
       "      <td>...</td>\n",
       "      <td>...</td>\n",
       "    </tr>\n",
       "    <tr>\n",
       "      <th>tender</th>\n",
       "      <td>0</td>\n",
       "      <td>0</td>\n",
       "      <td>0</td>\n",
       "      <td>0</td>\n",
       "      <td>0</td>\n",
       "      <td>0</td>\n",
       "      <td>0</td>\n",
       "      <td>0</td>\n",
       "      <td>0</td>\n",
       "      <td>0</td>\n",
       "      <td>...</td>\n",
       "      <td>0</td>\n",
       "      <td>0</td>\n",
       "      <td>0</td>\n",
       "      <td>0</td>\n",
       "      <td>0</td>\n",
       "      <td>0</td>\n",
       "      <td>0</td>\n",
       "      <td>0</td>\n",
       "      <td>0</td>\n",
       "      <td>0</td>\n",
       "    </tr>\n",
       "    <tr>\n",
       "      <th>brown</th>\n",
       "      <td>0</td>\n",
       "      <td>1</td>\n",
       "      <td>0</td>\n",
       "      <td>0</td>\n",
       "      <td>0</td>\n",
       "      <td>0</td>\n",
       "      <td>0</td>\n",
       "      <td>0</td>\n",
       "      <td>0</td>\n",
       "      <td>0</td>\n",
       "      <td>...</td>\n",
       "      <td>0</td>\n",
       "      <td>0</td>\n",
       "      <td>0</td>\n",
       "      <td>1</td>\n",
       "      <td>0</td>\n",
       "      <td>0</td>\n",
       "      <td>3</td>\n",
       "      <td>0</td>\n",
       "      <td>1</td>\n",
       "      <td>0</td>\n",
       "    </tr>\n",
       "    <tr>\n",
       "      <th>buttermilk</th>\n",
       "      <td>0</td>\n",
       "      <td>0</td>\n",
       "      <td>0</td>\n",
       "      <td>0</td>\n",
       "      <td>0</td>\n",
       "      <td>0</td>\n",
       "      <td>0</td>\n",
       "      <td>0</td>\n",
       "      <td>0</td>\n",
       "      <td>0</td>\n",
       "      <td>...</td>\n",
       "      <td>0</td>\n",
       "      <td>0</td>\n",
       "      <td>0</td>\n",
       "      <td>0</td>\n",
       "      <td>0</td>\n",
       "      <td>0</td>\n",
       "      <td>0</td>\n",
       "      <td>0</td>\n",
       "      <td>0</td>\n",
       "      <td>0</td>\n",
       "    </tr>\n",
       "    <tr>\n",
       "      <th>mix</th>\n",
       "      <td>0</td>\n",
       "      <td>0</td>\n",
       "      <td>0</td>\n",
       "      <td>0</td>\n",
       "      <td>0</td>\n",
       "      <td>0</td>\n",
       "      <td>0</td>\n",
       "      <td>0</td>\n",
       "      <td>0</td>\n",
       "      <td>0</td>\n",
       "      <td>...</td>\n",
       "      <td>0</td>\n",
       "      <td>0</td>\n",
       "      <td>0</td>\n",
       "      <td>0</td>\n",
       "      <td>0</td>\n",
       "      <td>0</td>\n",
       "      <td>0</td>\n",
       "      <td>0</td>\n",
       "      <td>0</td>\n",
       "      <td>0</td>\n",
       "    </tr>\n",
       "    <tr>\n",
       "      <th>marmalade</th>\n",
       "      <td>0</td>\n",
       "      <td>0</td>\n",
       "      <td>0</td>\n",
       "      <td>0</td>\n",
       "      <td>0</td>\n",
       "      <td>0</td>\n",
       "      <td>0</td>\n",
       "      <td>0</td>\n",
       "      <td>0</td>\n",
       "      <td>0</td>\n",
       "      <td>...</td>\n",
       "      <td>0</td>\n",
       "      <td>0</td>\n",
       "      <td>0</td>\n",
       "      <td>0</td>\n",
       "      <td>0</td>\n",
       "      <td>0</td>\n",
       "      <td>0</td>\n",
       "      <td>0</td>\n",
       "      <td>0</td>\n",
       "      <td>0</td>\n",
       "    </tr>\n",
       "  </tbody>\n",
       "</table>\n",
       "<p>505 rows × 505 columns</p>\n",
       "</div>"
      ],
      "text/plain": [
       "            wrap  parsley  directions  Beat  bacon  rack  °  bones  lemon  \\\n",
       "wrap           0        0           0     0      0     0  0      1      0   \n",
       "parsley        0        0           0     0      0     0  1      0      0   \n",
       "directions     0        0           0     0      0     0  0      0      0   \n",
       "Beat           0        0           0     0      0     0  0      0      0   \n",
       "bacon          0        0           0     0      0     0  0      0      0   \n",
       "...          ...      ...         ...   ...    ...   ... ..    ...    ...   \n",
       "tender         0        0           0     0      0     0  0      0      0   \n",
       "brown          0        1           0     0      0     0  0      0      0   \n",
       "buttermilk     0        0           0     0      0     0  0      0      0   \n",
       "mix            0        0           0     0      0     0  0      0      0   \n",
       "marmalade      0        0           0     0      0     0  0      0      0   \n",
       "\n",
       "            lengthwise  ...  tie  firm  melt  solids  recipe  tender  brown  \\\n",
       "wrap                 0  ...    0     0     0       0       0       0      0   \n",
       "parsley              0  ...    0     0     0       0       0       0      3   \n",
       "directions           0  ...    0     0     0       0       0       0      0   \n",
       "Beat                 0  ...    0     0     0       0       0       0      0   \n",
       "bacon                0  ...    0     0     0       0       0       0      0   \n",
       "...                ...  ...  ...   ...   ...     ...     ...     ...    ...   \n",
       "tender               0  ...    0     0     0       0       0       0      0   \n",
       "brown                0  ...    0     0     0       1       0       0      3   \n",
       "buttermilk           0  ...    0     0     0       0       0       0      0   \n",
       "mix                  0  ...    0     0     0       0       0       0      0   \n",
       "marmalade            0  ...    0     0     0       0       0       0      0   \n",
       "\n",
       "            buttermilk  mix  marmalade  \n",
       "wrap                 0    0          0  \n",
       "parsley              0    0          0  \n",
       "directions           0    0          0  \n",
       "Beat                 0    0          0  \n",
       "bacon                0    0          0  \n",
       "...                ...  ...        ...  \n",
       "tender               0    0          0  \n",
       "brown                0    1          0  \n",
       "buttermilk           0    0          0  \n",
       "mix                  0    0          0  \n",
       "marmalade            0    0          0  \n",
       "\n",
       "[505 rows x 505 columns]"
      ]
     },
     "execution_count": 50,
     "metadata": {},
     "output_type": "execute_result"
    }
   ],
   "source": [
    "adjacency"
   ]
  },
  {
   "cell_type": "code",
   "execution_count": 51,
   "id": "9d388755",
   "metadata": {},
   "outputs": [
    {
     "name": "stdout",
     "output_type": "stream",
     "text": [
      "Requirement already satisfied: networkx in c:\\users\\areas\\appdata\\local\\programs\\python\\python311\\lib\\site-packages (3.1)\n"
     ]
    }
   ],
   "source": [
    "!pip install networkx"
   ]
  },
  {
   "cell_type": "code",
   "execution_count": 52,
   "id": "1e45474a",
   "metadata": {},
   "outputs": [],
   "source": [
    "import networkx as nx\n",
    "\n",
    "# Running TextRank\n",
    "nx_words = nx.from_numpy_array(adjacency.values)\n",
    "ranks=nx.pagerank(nx_words, alpha=.85, tol=.00000001)\n",
    "\n",
    "# Identifying the most highly ranked keywords\n",
    "ranked = sorted(((ranks[i],s) for i,s in enumerate(kw_filts)),\n",
    "                reverse=True)"
   ]
  },
  {
   "cell_type": "code",
   "execution_count": 53,
   "id": "e0e3303c",
   "metadata": {},
   "outputs": [
    {
     "data": {
      "text/plain": [
       "[(0.08180590773385513, 'chicken'),\n",
       " (0.024036664441326135, 'minutes'),\n",
       " (0.017663229836982507, 'skillet'),\n",
       " (0.017296227890273908, 'heat'),\n",
       " (0.016463095505276994, 'pepper'),\n",
       " (0.014697603972171711, 'salt'),\n",
       " (0.014635140290487684, 'oil'),\n",
       " (0.012594117301642251, 'sauce'),\n",
       " (0.012106988829211983, 'tablespoons'),\n",
       " (0.012035005299168148, 'broth'),\n",
       " (0.011882993159623127, 'garlic'),\n",
       " (0.009693813516087458, 'breast'),\n",
       " (0.00962519125535314, 'flour'),\n",
       " (0.00935558289490564, 'side'),\n",
       " (0.00918778255326203, 'pan'),\n",
       " (0.008212429154294754, 'Place'),\n",
       " (0.008020345922741498, 'breasts'),\n",
       " (0.007942661838879966, 'boneless'),\n",
       " (0.007767465012212368, 'pieces'),\n",
       " (0.007765431739737365, 'F'),\n",
       " (0.007724840447425218, 'Transfer'),\n",
       " (0.007491395548209452, 'wine'),\n",
       " (0.007453417996783733, 'degrees'),\n",
       " (0.007406080143056859, 'bowl'),\n",
       " (0.007137158319567127, 'mixture')]"
      ]
     },
     "execution_count": 53,
     "metadata": {},
     "output_type": "execute_result"
    }
   ],
   "source": [
    "ranked[:25]"
   ]
  },
  {
   "cell_type": "code",
   "execution_count": 54,
   "id": "0b7beb31",
   "metadata": {},
   "outputs": [
    {
     "data": {
      "text/plain": [
       "<505x505 sparse matrix of type '<class 'numpy.int64'>'\n",
       "\twith 9285 stored elements in Compressed Sparse Row format>"
      ]
     },
     "execution_count": 54,
     "metadata": {},
     "output_type": "execute_result"
    }
   ],
   "source": [
    "# checking to see there are actual values loaded in the adjacency df\n",
    "import scipy\n",
    "scipy.sparse.csr_matrix(adjacency.copy().values)"
   ]
  },
  {
   "cell_type": "code",
   "execution_count": 55,
   "id": "87d31ca9",
   "metadata": {},
   "outputs": [
    {
     "data": {
      "text/plain": [
       "505"
      ]
     },
     "execution_count": 55,
     "metadata": {},
     "output_type": "execute_result"
    }
   ],
   "source": [
    "pd.Series(list(kw_filts)).nunique()"
   ]
  },
  {
   "cell_type": "markdown",
   "id": "afb5f7b1",
   "metadata": {},
   "source": [
    "## Analyzing Score distribution of document and word ranks within Topics"
   ]
  },
  {
   "cell_type": "code",
   "execution_count": 56,
   "id": "cf3105f3",
   "metadata": {},
   "outputs": [
    {
     "data": {
      "image/png": "[encoded data removed]",
      "text/plain": [
       "<Figure size 1500x400 with 3 Axes>"
      ]
     },
     "metadata": {},
     "output_type": "display_data"
    }
   ],
   "source": [
    "import matplotlib.pyplot as plt\n",
    "# text_lda\n",
    "# text_nmf\n",
    "# ranked\n",
    "# LDA Topic documents for topics 0-2\n",
    "plt.figure(figsize=(15,4))\n",
    "for i in range(3):\n",
    "    series = pd.Series(text_lda[:,i])\n",
    "    plt.subplot(1,3,i+1)\n",
    "    plt.hist(series[series > 0.05])\n",
    "    plt.title('LDA Topic #{} Doc Score Dist (>0.05)'.format(i+1))\n",
    "plt.show()"
   ]
  },
  {
   "cell_type": "code",
   "execution_count": 57,
   "id": "f710f2ac",
   "metadata": {},
   "outputs": [
    {
     "data": {
      "image/png": "[encoded data removed]",
      "text/plain": [
       "<Figure size 1500x400 with 3 Axes>"
      ]
     },
     "metadata": {},
     "output_type": "display_data"
    }
   ],
   "source": [
    "# NNMF Topic documents for topics 0-2\n",
    "plt.figure(figsize=(15,4))\n",
    "for i in range(3):\n",
    "    series = pd.Series(text_nmf[:,i])\n",
    "    plt.subplot(1,3,i+1)\n",
    "    plt.hist(series[series > 0.004])\n",
    "    plt.title('NNMF Topic #{} Document Score Dist (>0.004)'.format(i+1))\n",
    "    plt.xlabel('Document Topic Score')\n",
    "#plt.savefig('DocsByTop_Score_Distributions.png', transparent = True)\n",
    "plt.show()"
   ]
  },
  {
   "cell_type": "code",
   "execution_count": 58,
   "id": "e463bad3",
   "metadata": {},
   "outputs": [
    {
     "data": {
      "image/png": "[encoded data removed]",
      "text/plain": [
       "<Figure size 1500x400 with 3 Axes>"
      ]
     },
     "metadata": {},
     "output_type": "display_data"
    }
   ],
   "source": [
    "# LDA Topic document scores for topics 0-2\n",
    "plt.figure(figsize=(15,4))\n",
    "for i in range(3):\n",
    "    series = pd.Series(text_lda[:,i]).copy().sort_values(ascending = False).reset_index(drop = True)\n",
    "    plt.subplot(1,3,i+1)\n",
    "    plt.plot(series[:1000])\n",
    "    plt.title('LDA Topic #{} Ordered Score Plot'.format(i+1))\n",
    "plt.show()"
   ]
  },
  {
   "cell_type": "code",
   "execution_count": 59,
   "id": "b876e573",
   "metadata": {},
   "outputs": [
    {
     "data": {
      "image/png": "[encoded data removed]",
      "text/plain": [
       "<Figure size 1500x400 with 3 Axes>"
      ]
     },
     "metadata": {},
     "output_type": "display_data"
    }
   ],
   "source": [
    "# NMF Topic document scores for topics 0-2\n",
    "plt.figure(figsize=(15,4))\n",
    "for i in range(3):\n",
    "    series = pd.Series(text_nmf[:,i]).copy().sort_values(ascending = False).reset_index(drop = True)\n",
    "    plt.subplot(1,3,i+1)\n",
    "    plt.plot(series[:1000])\n",
    "    plt.title('NMF Topic #{} Ordered Score Plot'.format(i+1))\n",
    "    plt.xlabel('Document Rank')\n",
    "    plt.ylabel('Document Topic Score')\n",
    "#plt.savefig('DocsByTop_Score_Elbows.png', transparent = True)\n",
    "plt.show()"
   ]
  },
  {
   "cell_type": "code",
   "execution_count": 60,
   "id": "1f7ddf18",
   "metadata": {},
   "outputs": [],
   "source": [
    "# Set All Recommendation Model Parameters\n",
    "N_topics = 50             # Number of Topics to Extract from corpora\n",
    "N_top_docs = 200          # Number of top documents within each topic to extract keywords\n",
    "N_top_words = 25          # Number of keywords to extract from each topic\n",
    "N_docs_categorized = 2000 # Number of top documents within each topic to tag \n",
    "N_neighbor_window = 4     # Length of word-radius that defines the neighborhood for\n",
    "                          # each word in the TextRank adjacency table\n",
    "\n",
    "# Query Similarity Weights\n",
    "w_title = 0.2\n",
    "w_text = 0.3\n",
    "w_categories = 0.5\n",
    "w_array = np.array([w_title, w_text, w_categories])\n",
    "\n",
    "# Recipe Stopwords: for any high volume food recipe terminology that doesn't contribute\n",
    "# to the searchability of a recipe. This list must be manually created.\n",
    "recipe_stopwords = ['cup','cups','ingredient','ingredients','teaspoon','teaspoons','tablespoon',\n",
    "                   'tablespoons','C','F']"
   ]
  },
  {
   "cell_type": "code",
   "execution_count": 61,
   "id": "1fed2f68",
   "metadata": {},
   "outputs": [],
   "source": [
    "# Renaming Data Dependencies\n",
    "topic_transformed_matrix = text_nmf\n",
    "root_text_data = cleaned_text"
   ]
  },
  {
   "cell_type": "markdown",
   "id": "53653496",
   "metadata": {},
   "source": [
    "## Generating tags (keywords/categories) and assigning to corresponding documents"
   ]
  },
  {
   "cell_type": "code",
   "execution_count": 62,
   "id": "28d0fc6c",
   "metadata": {},
   "outputs": [],
   "source": [
    "adjacency = adjacency[~adjacency.index.duplicated(keep='first')]"
   ]
  },
  {
   "cell_type": "code",
   "execution_count": 63,
   "id": "6e965d01",
   "metadata": {},
   "outputs": [],
   "source": [
    "from itertools import repeat\n",
    "\n",
    "#recipes['tag_list'] = [[] for i in repeat(None, recipes.shape[0])]\n",
    "\n",
    "def topic_docs_4kwsummary(topic_document_scores, root_text_data):\n",
    "    '''Gathers and formats the top recipes in each topic'''\n",
    "    text_index = pd.Series(topic_document_scores).sort_values(ascending = False)[:N_top_docs].index\n",
    "    text_4kwsummary = pd.Series(root_text_data)[text_index]\n",
    "    return text_4kwsummary\n",
    "\n",
    "def generate_filter_kws(text_list):\n",
    "    '''Filters out specific parts of speech and stop words from the list of potential keywords'''\n",
    "    parsed_texts = nlp(' '.join(text_list)) \n",
    "    kw_filts = set([str(word) for word in parsed_texts \n",
    "                if (word.pos_== ('NOUN' or 'ADJ' or 'VERB'))\n",
    "                and word.lemma_ not in recipe_stopwords])\n",
    "    return list(kw_filts), parsed_texts\n",
    "\n",
    "def generate_adjacency(kw_filts, parsed_texts):\n",
    "    '''Tabulates counts of neighbors in the neighborhood window for each unique word'''\n",
    "    adjacency = pd.DataFrame(columns=kw_filts, index=kw_filts, data = 0)\n",
    "    for i, word in enumerate(parsed_texts):\n",
    "        if any ([str(word) == item for item in kw_filts]):\n",
    "            end = min(len(parsed_texts), i+N_neighbor_window+1) # Neighborhood Window Utilized Here\n",
    "            nextwords = parsed_texts[i+1:end]\n",
    "            inset = [str(x) in kw_filts for x in nextwords]\n",
    "            neighbors = [str(nextwords[i]) for i in range(len(nextwords)) if inset[i]]\n",
    "            if neighbors:\n",
    "                for i in neighbors:\n",
    "                    adjacency.loc[str(word), i] += 1\n",
    "    return adjacency\n",
    "                \n",
    "def generate_wordranks(adjacency):\n",
    "    '''Runs TextRank on adjacency table'''\n",
    "    nx_words = nx.from_numpy_array(adjacency.values)\n",
    "    ranks=nx.pagerank(nx_words, alpha=.85, tol=.00000001)\n",
    "    return ranks\n",
    "\n",
    "def generate_tag_list(ranks):\n",
    "    '''Uses TextRank ranks to return actual key words for each topic in rank order'''\n",
    "    rank_values = [i for i in ranks.values()]\n",
    "    ranked = pd.DataFrame(zip(rank_values, list(kw_filts))).sort_values(by=0,axis=0,ascending=False)\n",
    "    kw_list = ranked.iloc[:N_top_words,1].to_list()\n",
    "    return kw_list\n",
    "\n",
    "# Master Function utilizing all above functions\n",
    "def generate_tags(topic_document_scores, root_text_data):\n",
    "    text_4kwsummary = topic_docs_4kwsummary(topic_document_scores, root_text_data)\n",
    "    kw_filts, parsed_texts = generate_filter_kws(text_4kwsummary)\n",
    "    adjacency = generate_adjacency(kw_filts, parsed_texts)\n",
    "    ranks = generate_wordranks(adjacency)\n",
    "    kw_list = generate_tag_list(ranks)\n",
    "    return kw_list\n",
    "\n",
    "def generate_kw_index(topic_document_scores):\n",
    "    kw_index = pd.Series(topic_document_scores).sort_values(ascending = False)[:N_docs_categorized].index\n",
    "    return kw_index\n"
   ]
  },
  {
   "cell_type": "code",
   "execution_count": 64,
   "id": "998cb995",
   "metadata": {},
   "outputs": [
    {
     "name": "stdout",
     "output_type": "stream",
     "text": [
      "Topic #0 Checkpoint\n",
      "Topic #10 Checkpoint\n",
      "Topic #20 Checkpoint\n"
     ]
    }
   ],
   "source": [
    "# Create an empty list for each recipe to hold its tags\n",
    "recipes['tag_list_new'] = [[] for i in range(recipes.shape[0])]\n",
    "\n",
    "# Generate tags and distribute to relevant documents\n",
    "for i in range(topic_transformed_matrix.shape[1]):\n",
    "    scores = topic_transformed_matrix[:,i]\n",
    "    topic_kws = generate_tags(scores, root_text_data)\n",
    "    kw_index_4df = generate_kw_index(scores)\n",
    "    for idx in kw_index_4df:\n",
    "        recipes.at[idx, 'tag_list_new'] += topic_kws\n",
    "    if i%10 == 0:\n",
    "        print('Topic #{} Checkpoint'.format(i))\n",
    "\n",
    "# Set the 'tag_list' column to be equal to the new lists\n",
    "recipes['tag_list'] = recipes['tag_list_new']\n",
    "recipes = recipes.drop('tag_list_new', axis=1)\n",
    "print('done!')\n"
   ]
  },
  {
   "cell_type": "code",
   "execution_count": null,
   "id": "6df9c93c",
   "metadata": {},
   "outputs": [],
   "source": [
    "recipes.to_csv('tagged_recipes_df.csv')"
   ]
  },
  {
   "cell_type": "code",
   "execution_count": null,
   "id": "7e152c47",
   "metadata": {},
   "outputs": [],
   "source": [
    "scores = topic_transformed_matrix[:,1]\n",
    "topic_kws = generate_tags(scores, root_text_data)\n",
    "kw_index_4df = generate_kw_index(scores)\n",
    "\n",
    "for idx, kws in zip(kw_index_4df, topic_kws):\n",
    "    recipes.at[idx, 'tag_list'] += kws\n"
   ]
  },
  {
   "cell_type": "code",
   "execution_count": null,
   "id": "00e8c2eb",
   "metadata": {},
   "outputs": [
    {
     "data": {
      "text/plain": [
       "0    [grill, plastic, minutes, pinch, Preheat, fork...\n",
       "1    [grill, plastic, minutes, pinch, Preheat, fork...\n",
       "2    [rolls, yogurt, broth, backbone, platter, barb...\n",
       "3    [xinch, basting, brandy, paste, refrigerator, ...\n",
       "4    [soy, servings, soup, spots, beer, breastbone,...\n",
       "5    [xinch, basting, brandy, paste, refrigerator, ...\n",
       "Name: tag_list, dtype: object"
      ]
     },
     "execution_count": 67,
     "metadata": {},
     "output_type": "execute_result"
    }
   ],
   "source": [
    "recipes.loc[:5,'tag_list']"
   ]
  },
  {
   "cell_type": "code",
   "execution_count": null,
   "id": "f2d44da0",
   "metadata": {},
   "outputs": [],
   "source": [
    "# Concatenating lists of tags into a string a collective of tags for each documents\n",
    "recipes['tags'] = [' '.join(tags) for tags in recipes['tag_list']]"
   ]
  },
  {
   "cell_type": "code",
   "execution_count": null,
   "id": "9725029c",
   "metadata": {},
   "outputs": [
    {
     "data": {
      "text/plain": [
       "0    grill plastic minutes pinch Preheat forktender...\n",
       "1    grill plastic minutes pinch Preheat forktender...\n",
       "2    rolls yogurt broth backbone platter barbeque f...\n",
       "3    xinch basting brandy paste refrigerator period...\n",
       "4    soy servings soup spots beer breastbone packet...\n",
       "5    xinch basting brandy paste refrigerator period...\n",
       "Name: tags, dtype: object"
      ]
     },
     "execution_count": 69,
     "metadata": {},
     "output_type": "execute_result"
    }
   ],
   "source": [
    "recipes.loc[:5,'tags']"
   ]
  },
  {
   "cell_type": "markdown",
   "id": "40c524ca",
   "metadata": {},
   "source": [
    "## Querying Algorithm"
   ]
  },
  {
   "cell_type": "code",
   "execution_count": null,
   "id": "75dc6876",
   "metadata": {},
   "outputs": [],
   "source": [
    "recipes.columns\n",
    "recipes.to_csv('finalCleanedlDataSet.csv')"
   ]
  },
  {
   "cell_type": "code",
   "execution_count": null,
   "id": "9cba7c94",
   "metadata": {},
   "outputs": [],
   "source": [
    "# Creating TF-IDF Matrices and recalling text dependencies\n",
    "\n",
    "'''import text_tokenized.csv here'''\n",
    "\n",
    "# TF-IDF vectorizer instance\n",
    "vectorizer = TfidfVectorizer(lowercase = True,\n",
    "                            ngram_range = (1,1))\n",
    "\n",
    "'''text_tfidf = vectorizer.fit_transform(tokenized_text)'''\n",
    "title_tfidf = vectorizer.fit_transform(recipes['title'])\n",
    "# text_tfidf    <== Variable with recipe ingredients and instructions\n",
    "tags_tfidf = vectorizer.transform(recipes['tags'])\n",
    "# recipes   <== DataFrame; For indexing and printing recipes\n",
    "\n",
    "# Query Similarity Weights\n",
    "w_title = .2\n",
    "w_text = .3\n",
    "w_categories = .5"
   ]
  },
  {
   "cell_type": "code",
   "execution_count": null,
   "id": "60da6b59",
   "metadata": {},
   "outputs": [],
   "source": [
    "def qweight_array(query_length, qw_array = [1]):\n",
    "    '''Returns descending weights for ranked query ingredients'''\n",
    "    if query_length > 1:\n",
    "        to_split = qw_array.pop()\n",
    "        split = to_split/2\n",
    "        qw_array.extend([split, split])\n",
    "        return qweight_array(query_length - 1, qw_array)\n",
    "    else:\n",
    "        return np.array(qw_array)\n",
    "\n",
    "def ranked_query(query):\n",
    "    '''Called if query ingredients are ranked in order of importance.\n",
    "    Weights and adds each ranked query ingredient vector.'''\n",
    "    query = [[q] for q in query]      # place words in seperate documents\n",
    "    q_vecs = [vectorizer.transform(q) for q in query] \n",
    "    qw_array = qweight_array(len(query),[1])\n",
    "    q_weighted_vecs = q_vecs * qw_array\n",
    "    q_final_vector = reduce(np.add,q_weighted_vecs)\n",
    "    return q_final_vector\n",
    "\n",
    "def overall_scores(query_vector):\n",
    "    '''Calculates Query Similarity Scores against recipe title, instructions, and keywords.\n",
    "    Then returns weighted averages of similarities for each recipe.'''\n",
    "    final_scores = title_tfidf*query_vector.T*w_title\n",
    "    final_scores += tags_tfidf*query_vector.T*w_categories\n",
    "    return final_scores\n",
    "\n",
    "def print_recipes(index, query, recipe_range):\n",
    "    '''Prints recipes according to query similary ranks'''\n",
    "    print('Search Query: {}\\n'.format(query))\n",
    "    for i, index in enumerate(index, recipe_range[0]):\n",
    "        print('Recipe Rank: {}\\t'.format(i+1),recipes.loc[index, 'title'],'\\n')\n",
    "        print('Ingredients:\\n{}\\n '.format(recipes.loc[index, 'ingredient_text']))\n",
    "        print('Instructions:\\n{}\\n'.format(recipes.loc[index, 'instructions']))\n",
    "        \n",
    "def Search_Recipes(query, query_ranked=False, recipe_range=(0,3)):\n",
    "    '''Master Recipe Search Function'''\n",
    "    if query_ranked == True:\n",
    "        q_vector = ranked_query(query)\n",
    "    else:\n",
    "        q_vector = vectorizer.transform([' '.join(query)])\n",
    "    recipe_scores = overall_scores(q_vector)\n",
    "    sorted_index = pd.Series(recipe_scores.toarray().T[0]).sort_values(ascending = False)[recipe_range[0]:recipe_range[1]].index\n",
    "    return print_recipes(sorted_index, query, recipe_range)\n",
    "    "
   ]
  },
  {
   "cell_type": "code",
   "execution_count": null,
   "id": "f893a104",
   "metadata": {
    "scrolled": true
   },
   "outputs": [
    {
     "name": "stdout",
     "output_type": "stream",
     "text": [
      "Search Query: ['cheese', 'cream', 'banana']\n",
      "\n",
      "Recipe Rank: 1\t Cream Cheese  \n",
      "\n",
      "Ingredients:\n",
      "2 cups heavy cream (not ultra-pasteurized); 2 cups whole milk (not ultra-pasteurized); 1 packet (1/2 teaspoon) direct-set mesophilic starter; 1 drop liquid rennet, diluted in ¼ cup filtered or boiled water; Optional: kosher salt, fresh herbs, horseradish, honey, or whatever inspires you!\n",
      " \n",
      "Instructions:\n",
      "1. Attach a cheese or candy thermometer to the side of a medium saucepan that you can do without for a day. Add the cream and milk to the saucepan and warm over medium heat until it reaches 70°F. 2. Sprinkle in the starter and let sit for 1 minute. Add the diluted rennet. Mix thoroughly, cover, and let sit undisturbed at room temperature for 10 to 12 hours, or until the mixture resembles very firm yogurt. If the room is colder than 72°F, wrap the pot in towels and place it into a cooler to keep it warm. 3. Line a fine-meshed sieve with a large enough piece of cheesecloth that you can tie the ends together in a little sack. Set the sieve into your sink. 4. Gently pour the curds through the sieve, discarding the liquid that drains through. Tie the corners of the cloth together and hang to drain until the sack stops dripping entirely, 8 to 10 hours. You can tie the sack around your faucet (if your family won't complain too much about having a bag of cream cheese in your sink), or you can hang it in another location with a bowl below it to catch the drips (away from your pets!). Open the sack, place the cream cheese in a container, and mix with salt, herbs, or whatever your pleasure.\n",
      "1. Attach a cheese or candy thermometer to the side of a medium saucepan that you can do without for a day. Add the cream and milk to the saucepan and warm over medium heat until it reaches 70°F.\n",
      "2. Sprinkle in the starter and let sit for 1 minute. Add the diluted rennet. Mix thoroughly, cover, and let sit undisturbed at room temperature for 10 to 12 hours, or until the mixture resembles very firm yogurt. If the room is colder than 72°F, wrap the pot in towels and place it into a cooler to keep it warm.\n",
      "3. Line a fine-meshed sieve with a large enough piece of cheesecloth that you can tie the ends together in a little sack. Set the sieve into your sink.\n",
      "4. Gently pour the curds through the sieve, discarding the liquid that drains through. Tie the corners of the cloth together and hang to drain until the sack stops dripping entirely, 8 to 10 hours. You can tie the sack around your faucet (if your family won't complain too much about having a bag of cream cheese in your sink), or you can hang it in another location with a bowl below it to catch the drips (away from your pets!). Open the sack, place the cream cheese in a container, and mix with salt, herbs, or whatever your pleasure.\n",
      "\n",
      "Recipe Rank: 2\t Cream Cheese Banana Bread \n",
      "\n",
      "Ingredients:\n",
      "cooking spray; Banana Bread:; 1/2 cup unsalted butter, melted; 1/2 cup light brown sugar; 1 egg; 1/4 cup sour cream; 1/4 cup white sugar; 1 teaspoon vanilla extract; 2 ripe bananas; 1 cup all-purpose flour; 1/2 teaspoon baking soda; 1/2 teaspoon baking powder; 1/2 teaspoon salt; Cream Cheese Filling:; 1 (4 ounce) package cream cheese, softened; 1 egg; 1/4 cup white sugar; 3 tablespoons all-purpose flour\n",
      " \n",
      "Instructions:\n",
      "Preheat oven to 350 degrees F (175 degrees C). Grease a 9x5-inch loaf pan with cooking spray.\n",
      "Combine butter, brown sugar, 1 egg, sour cream, 1/4 cup white sugar, and vanilla extract in a large bowl; whisk until smooth. Mash in bananas using a fork. Whisk in 1 cup flour, baking soda, baking powder, and salt until just combined.\n",
      "Whisk cream cheese, 1 egg, 1/4 cup white sugar, and 3 tablespoons flour together in a separate bowl.\n",
      "Pour half of the banana mixture into the prepared loaf pan. Spread cream cheese mixture evenly on top. Pour remaining banana mixture over cream cheese mixture.\n",
      "Bake in the preheated oven until top is firm, about 50 minutes. Cool in the pan, about 5 minutes.\n",
      "\n",
      "\n",
      "Recipe Rank: 3\t Mac 'N Cheese with Bacon and Cheese \n",
      "\n",
      "Ingredients:\n",
      "Kosher salt; 1 pound elbow macaroni; 4 cups milk; 2 or 3 sprigs thyme; 4 cloves garlic, smashed and divided; 3 tablespoons unsalted butter; 3 tablespoons all-purpose flour; 5 1/2 cups shredded sharp white Cheddar; Freshly ground black pepper; 1/4 cup chopped flat-leaf parsley; 4 slices bacon, cut crosswise into thin strips; 1 large onion, diced; 2 garlic cloves, smashed; Leaves from 1/4 bunch fresh thyme\n",
      " \n",
      "Instructions:\n",
      "Watch how to make this recipe.\n",
      "Bring a pot of salted water to a boil over high heat. Add the macaroni and cook for 8 to 9 minutes, until al dente. Drain.\n",
      "Preheat the oven to 400 degrees F.\n",
      "In a small saucepan heat the milk with the thyme sprigs and 2 garlic cloves. Melt the butter in a large, deep skillet over medium-high heat. Whisk in the flour and cook for about 1 minute, stirring constantly, to keep lumps from forming. Strain the solids out of the milk and whisk it into the butter and flour mixture. Continue to whisk vigorously, and cook until the mixture is nice and smooth. Stir in the 4 cups of the cheese and continue to cook and stir to melt the cheese. Season with salt and pepper. Add the cooked macaroni and the parsley and fold that all in to coat the macaroni with the cheese mixture. Scrape into a 3-quart baking dish and sprinkle with the remaining 1 1/2 cups cheese. Bake for 30 minutes, or until hot and bubbly.\n",
      "While that bakes, heat a saute pan. Add the bacon, render the fat and cook until crispy. Add onion, garlic and thyme leaves and cook for about 5 minutes to soften the onion. Season with salt and pepper.\n",
      "To serve, scatter the bacon mixture over the mac and cheese. Use a big spoon to scoop out servings, making sure you get some of the smoking bacon mixture on each spoonful.\n",
      "\n"
     ]
    }
   ],
   "source": [
    "query = ['cheese', 'cream', 'banana']\n",
    "Search_Recipes(query, query_ranked=True, recipe_range=(0,3))"
   ]
  },
  {
   "cell_type": "code",
   "execution_count": null,
   "id": "1ff8559a",
   "metadata": {},
   "outputs": [
    {
     "name": "stdout",
     "output_type": "stream",
     "text": [
      "Search Query: ['wine', 'cilantro', 'butter']\n",
      "\n",
      "Recipe Rank: 1\t Cilantro Butter \n",
      "\n",
      "Ingredients:\n",
      "1 stick unsalted butter, slightly softened; 6 cloves garlic, coarsely chopped; 1/4 cup fresh cilantro leaves; 1 to 2 teaspoons fresh lime juice; Kosher salt and freshly ground pepper\n",
      " \n",
      "Instructions:\n",
      "Combine the butter, garlic, cilantro and 1 teaspoon lime juice in a food processor or with a mixer until smooth. Season with salt and pepper, and add more lime juice if needed.\n",
      "Photographs by Steve Giralt\n",
      "\n",
      "Recipe Rank: 2\t Roasted Corn with Cilantro Butter \n",
      "\n",
      "Ingredients:\n",
      "4 to 6 ears corn, in the husk; 4 ounces (1 stick) butter, softened; 1/2 cup cilantro leaves, finely chopped; Salt and pepper\n",
      " \n",
      "Instructions:\n",
      "Peel back the husks of the corn but do not tear off. Pull off and discard all the corn silk. In a bowl, mash the butter and cilantro together until well mixed. Rub about 1 tablespoon of cilantro butter over each ear of corn, sprinkle with salt and pepper, then pull the husks back up and around the ear. Reserve the extra butter to use on fire-roasted potatoes if desired, or use all butter on corn.\n",
      "Prepare a wood fire outdoors and let cook down to embers. Place corn in embers of the fire and roast, turning with long handled tongs as husks start to blacken, until corn is cooked (about 20 minutes).\n",
      "To serve, remove corn from fire with tongs. Peel back husk with hot pads and serve.\n",
      "\n",
      "Recipe Rank: 3\t Cilantro Cream \n",
      "\n",
      "Ingredients:\n",
      "1 cup sour cream; 1/4 cup finely chopped fresh cilantro leaves; 1/2 lime, juiced; Kosher salt and freshly ground black pepper\n",
      " \n",
      "Instructions:\n",
      "In a small mixing bowl, combine the sour cream, cilantro, and lime juice together. Mix thoroughly; season with salt and pepper. Serve with empanadas.\n",
      "\n"
     ]
    }
   ],
   "source": [
    "# Test Rank\n",
    "query = ['wine', 'cilantro','butter']\n",
    "Search_Recipes(query, query_ranked=False, recipe_range=(0,3))"
   ]
  },
  {
   "cell_type": "code",
   "execution_count": null,
   "id": "00772173",
   "metadata": {},
   "outputs": [
    {
     "name": "stdout",
     "output_type": "stream",
     "text": [
      "Search Query: ['jelly', 'wine']\n",
      "\n",
      "Recipe Rank: 1\t Wine Jelly \n",
      "\n",
      "Ingredients:\n",
      "3 1/2 cups wine; 1/2 cup fresh lemon juice; 1 (2 ounce) package dry pectin; 4 1/2 cups white sugar\n",
      " \n",
      "Instructions:\n",
      "Combine wine, lemon juice, and pectin in a large saucepot. Bring to a boil, stirring frequently. Add sugar, stirring until dissolved. Return to a rolling boil. Boil hard 1 minute, stirring constantly. Remove from heat. Skim foam off top, if necessary.\n",
      "Ladle hot jelly into hot, sterilized jars, leaving 1/2 inch headspace. Tighten 2 piece lids. Process for 5 minutes in boiling water bath.\n",
      "\n",
      "\n",
      "Recipe Rank: 2\t Port Wine Jelly \n",
      "\n",
      "Ingredients:\n",
      "4 cups port wine; 1 (2 ounce) package powdered fruit pectin; 4 1/2 cups white sugar; 1/2 teaspoon butter; 5 half pint canning jars with lids and rings\n",
      " \n",
      "Instructions:\n",
      "Pour the port into a large saucepan, and sprinkle in the pectin. Bring to a boil over high heat, stirring frequently. Once boiling, pour in the sugar, and stir until dissolved. Return the mixture to a boil, and stir in the butter until melted. Continue boiling for 1 minute, skimming and discarding any foam the forms on the surface.\n",
      "Sterilize the jars and lids in boiling water for at least 5 minutes. Pour the jelly into the hot, sterilized jars, filling the jars to within 1/2 inch of the top. Wipe the rims of the jars with a moist paper towel to remove any food residue. Top with lids, and screw on rings.\n",
      "Place a rack in the bottom of a large stockpot and fill halfway with water. Bring to a boil over high heat, then carefully lower the jars into the pot using a holder. Leave a 2 inch space between the jars. Pour in more boiling water if necessary until the water level is at least 1 inch above the tops of the jars. Bring the water to a full boil, cover the pot, and process for 10 minutes.\n",
      "Remove the jars from the stockpot and place onto a cloth-covered or wood surface, several inches apart, until cool. Once cool, press the top of each lid with a finger, ensuring that the seal is tight (lid does not move up or down at all). Store in a cool, dark area.\n",
      "\n",
      "\n",
      "Recipe Rank: 3\t Red-Wine Mint Jelly \n",
      "\n",
      "Ingredients:\n",
      "1 (750-ml) bottle red wine; 1 cup sugar; 3 (0.25-ounce) packages powdered gelatin; 3 tablespoons water; 1 shallot; 3 peppercorns; 1 large bunch mint (about 1 cup of packed leaves) plus leaves, finely chopped, for garnish; 1 lemon, juiced; Extra-virgin olive oil; Sea salt and freshly ground black pepper\n",
      " \n",
      "Instructions:\n",
      "In a saucepan, combine wine and sugar and simmer over medium heat for 10 to 15 minutes to cook off some of the alcohol.\n",
      "In a large mixing bowl combine gelatin with 3 tablespoons of water to bloom the gelatin. Let stand for 5 minutes and stir. Pour hot red wine mixture into the bowl to combine with gelatin and whisk. Add the chopped shallot, peppercorns, mint leaves, and lemon juice.\n",
      "Allow to steep for 15 to 20 minutes. Strain out solids and pour into an oiled mold. Allow to set up overnight in the refrigerator. To serve, unmold onto a plate and drizzle with extra-virgin olive oil, salt and freshly ground black pepper. Garnish with some chopped fresh mint.\n",
      "\n"
     ]
    }
   ],
   "source": [
    "# Test \n",
    "query = ['jelly','wine']\n",
    "Search_Recipes(query, query_ranked=False, recipe_range=(0,3))"
   ]
  },
  {
   "cell_type": "code",
   "execution_count": null,
   "id": "316fc602",
   "metadata": {
    "scrolled": true
   },
   "outputs": [
    {
     "name": "stdout",
     "output_type": "stream",
     "text": [
      "Search Query: ['milk', 'egg', 'garlic']\n",
      "\n",
      "Recipe Rank: 1\t Coconut Milk Shrimp Soup \n",
      "\n",
      "Ingredients:\n",
      "3 tablespoons vegetable oil; 1 clove garlic, crushed; 1 green onions, chopped; 5 fresh mushrooms, chopped; 3 tomatoes - blanched, peeled, and chopped; 1/2 teaspoon salt; 1/2 tablespoon fresh lime juice; 3 large carrots, chopped; 3 tablespoons vegetable oil; 1 clove garlic, crushed; 1 teaspoon ground cumin; 1 teaspoon coriander seed; 1 teaspoon ground turmeric; 1 fresh jalapeno pepper, sliced; 2 green onions, chopped; 1/2 teaspoon salt; 1 1/2 tablespoons fresh lime juice; 1 (13.5 ounce) can coconut milk; 1/2 (8 ounce) can peas, drained; 2 cups cooked, peeled, and deveined shrimp; 1 (5 ounce) package vermicelli pasta; 1 sprig fresh cilantro, chopped\n",
      " \n",
      "Instructions:\n",
      "Heat 3 tablespoon vegetable oil in a skillet over medium heat. Fry 1 clove garlic and 1 chopped green onion in the hot oil 30 to 60 seconds. Add the mushrooms, tomatoes, salt, and 1/2 tablespoon lime juice and cook until the tomatoes are soft, 3 to 5 minutes; set aside.\n",
      "Bring a pot of water to a boil; add the carrots and cook until fork tender, 5 to 7 minutes; drain and set aside.\n",
      "Heat another 3 tablespoons of vegetable oil in a large saucepan, cook the other clove of garlic in the hot oil 30 to 60 seconds. Add the cumin, coriander seed, and turmeric; cook another 1 to 2 minutes, allowing the spices to slightly burn on the bottom of the pan. Stir in the jalapeno pepper, 2 chopped green onions, 1/2 teaspoon salt, 1 1/2 tablespoon lime juice and the tomato mixture in with the spice mixture, scraping the bottom of the pan with a spatula to loosen the spices. Whisk in the coconut milk; simmer 6 minutes.\n",
      "Add the cooked shrimp, carrots, and peas to the soup and stir; simmer until hot, 3 to 5 minutes. Submerge the vermicelli pasta in the soup and allow to cook until the pasta is softened, 5 to 7 minutes more. Garnish with chopped cilantro.\n",
      "\n",
      "\n",
      "Recipe Rank: 2\t Cilantro Egg Salad \n",
      "\n",
      "Ingredients:\n",
      "5 hard-cooked eggs, finely chopped; 3/4 cup mayonnaise; 3/4 cup chopped fresh cilantro; 1 tablespoon Dijon mustard; 1 teaspoon lemon juice; 1 teaspoon lime juice; 1 stalk celery rib, finely diced; 4 fresh mushrooms, finely diced; salt and pepper to taste\n",
      " \n",
      "Instructions:\n",
      "In a medium bowl, stir together the eggs, mayonnaise, cilantro, mustard, lemon juice, lime juice, celery, and mushrooms. Season with salt and pepper to taste. Serve on bread or toast.\n",
      "\n",
      "\n",
      "Recipe Rank: 3\t Egg Casserole \n",
      "\n",
      "Ingredients:\n",
      "12 eggs, beaten; 1 1/2 pounds ground breakfast sausage; 16 ounces shredded Cheddar cheese, divided; 7 slices white bread, torn into pieces\n",
      " \n",
      "Instructions:\n",
      "Preheat oven to 350 degrees F (175 degrees C).\n",
      "Brown sausage in a large skillet over medium-high heat. Drain off grease, and set aside to cool. Pour the eggs into a lightly greased 9x13 inch baking dish.\n",
      "In a separate large bowl, combine the sausage, bread and 12 ounces of the cheese. Mix well and pour this into the egg mixture. Top with the remaining 4 ounces of cheese and cover with foil.\n",
      "Bake at 350 degrees F (175 degrees C) for 15 minutes, uncover, and bake until casserole is golden brown and bubbly.\n",
      "\n",
      "\n"
     ]
    }
   ],
   "source": [
    "# Test \n",
    "query = ['milk','egg','garlic']\n",
    "Search_Recipes(query, query_ranked=False, recipe_range=(0,3))"
   ]
  },
  {
   "cell_type": "code",
   "execution_count": null,
   "id": "16989335",
   "metadata": {},
   "outputs": [
    {
     "data": {
      "text/plain": [
       "'xinch basting brandy paste refrigerator period flakes anchovy banana soups olives skin sides lemons piece slices Place Preheat ends butter blend Stir place tongs onionbacon'"
      ]
     },
     "execution_count": 77,
     "metadata": {},
     "output_type": "execute_result"
    }
   ],
   "source": [
    "recipes['tags'][15855]"
   ]
  },
  {
   "cell_type": "code",
   "execution_count": null,
   "id": "ec61ee38",
   "metadata": {},
   "outputs": [
    {
     "name": "stdout",
     "output_type": "stream",
     "text": [
      "Search Query: []\n",
      "\n",
      "Recipe Rank: 1\t Slow Cooker Chicken and Dumplings \n",
      "\n",
      "Ingredients:\n",
      "4 skinless, boneless chicken breast halves; 2 tablespoons butter; 2 (10.75 ounce) cans condensed cream of chicken soup; 1 onion, finely diced; 2 (10 ounce) packages refrigerated biscuit dough, torn into pieces\n",
      " \n",
      "Instructions:\n",
      "Place the chicken, butter, soup, and onion in a slow cooker, and fill with enough water to cover.\n",
      "Cover, and cook for 5 to 6 hours on High. About 30 minutes before serving, place the torn biscuit dough in the slow cooker. Cook until the dough is no longer raw in the center.\n",
      "\n",
      "\n",
      "Recipe Rank: 2\t Roasted Pineapple with Lemongrass Chiboost \n",
      "\n",
      "Ingredients:\n",
      "1 1/2 ounces butter; 1 vanilla bean, seeded; 1-ounce sugar granulated; 1 ounces light brown sugar; 1medium pineapple, diced; 2 cups milk; 2 1/2 stalks lemongrass; 1 vanilla bean, seeded; 1-ounce sugar; 1 1/2 ounces pastry flour; 6 egg yolks; 7 ounces sugar; 6 egg whites; 1 Recipe Lemongrass Pastry Cream\n",
      " \n",
      "Instructions:\n",
      "Roasted Pineapple:\n",
      "Melt the butter in a large saucepan and add the seeded vanilla bean. Add the granulated and the light brown sugar, stirring continuously. Add the diced pineapple. Cook the mixture until the pineapple is translucent, about 10 to 20 minutes.\n",
      "Lemongrass Pastry Cream:\n",
      "Pour the milk in a large pot on high heat. Clean and slice the lemongrass and add to the milk and bring to a boil. Turn off heat. Let steep for 1 hour. Add seeded vanilla bean. Bring to a boil again. Take out the vanilla bean and strain the mixture through a sieve into a mixing bowl. Combine sugar, pastry flour and yolks and temper by adding in the hot liquid slowly. This mixture will form a stiff pastry cream. Whisk rapidly over low flame for 1 minute. Put mixture in a blender. Blend out lumps.\n",
      "Italian Meringue:\n",
      "Heat the sugar (123 degrees C) to soft-ball stage. Whip egg whites until stiff peaks form and then pour in the hot sugar. Continue whipping the mixture together until stiff peaks form. Fold the Italian Meringue into the lemongrass pastry cream. Pipe the mixture into round flexible molds. Freeze the molds overnight. Take the molds out of the freezer 3 hours before serving. Once the cream begins to thaw, turn the mold upside down and remove the formed cream onto the center of a plate.\n",
      "Garnish the plate with the roasted pineapple mixture. For added presentation, sprinkle sugar on top and torch.\n",
      "\n",
      "Recipe Rank: 3\t Dipping Sauces \n",
      "\n",
      "Ingredients:\n",
      "2 cups unsweetened vanilla chips; 2 tablespoons vegetable oil; 2 cups unsweetened carob chips; 3 tablespoons vegetable oil\n",
      " \n",
      "Instructions:\n",
      "In a double boiler melt vanilla chips and oil together and stir until smooth.\n",
      "In a double boiler melt carob chips and oil together, stir until smooth\n",
      "\n"
     ]
    }
   ],
   "source": [
    "### Empty Query\n",
    "query = []\n",
    "Search_Recipes(query, query_ranked=False, recipe_range=(0,3))"
   ]
  },
  {
   "cell_type": "code",
   "execution_count": null,
   "id": "d3581655",
   "metadata": {},
   "outputs": [
    {
     "name": "stdout",
     "output_type": "stream",
     "text": [
      "Search Query: ['apple', 'blueberry']\n",
      "\n",
      "Recipe Rank: 1\t Blueberry Apple Crisp \n",
      "\n",
      "Ingredients:\n",
      "Crust:; 2 cups whole wheat flour; 1 1/2 cups rolled oats; 1 cup cold butter, cubed; 1/2 cup brown sugar; 1/2 cup white sugar; 1 teaspoon ground cinnamon; 1/4 teaspoon kosher salt; Filling:; 4 apples - peeled, cored, and sliced; 5 cups fresh blueberries; 1/4 cup brown sugar; 1/4 cup white sugar; 2 tablespoons whole wheat flour; 1 lemon, juiced and zested; 1 teaspoon ground cinnamon; 1/2 teaspoon ground nutmeg\n",
      " \n",
      "Instructions:\n",
      "Preheat oven to 375 degrees F (190 degrees C). Grease a 9x13-inch baking dish with butter.\n",
      "Beat 2 cups whole wheat flour, rolled oats, butter, 1/2 cup brown sugar, 1/2 cup white sugar, 1 teaspoon cinnamon, and 1/4 teaspoon kosher salt in a bowl with an electric mixer on medium speed until the mixture is pea-size and crumbly, 3 to 5 minutes. Refrigerate until ready to use.\n",
      "Combine apples, blueberries, 1/4 cup brown sugar, 1/4 cup white sugar, 2 tablespoons whole wheat flour, lemon juice and zest, 1 teaspoon cinnamon, and nutmeg in a large bowl; transfer to prepared baking dish. Sprinkle crumble mixture over fruit mixture.\n",
      "Bake in preheated oven until topping is browned and fruit is bubbly, 35 to 45 minutes.\n",
      "\n",
      "\n",
      "Recipe Rank: 2\t Creamy Apple Blueberry Pie \n",
      "\n",
      "Ingredients:\n",
      "3 cups sliced apples; 1 cup blueberries; 1 (9 inch) unbaked deep dish pie crust; 1/4 cup all-purpose flour; 1/2 cup white sugar; 1/4 teaspoon salt; 1/4 teaspoon ground nutmeg; 1/4 teaspoon ground cinnamon, or more to taste; 1 cup plain yogurt; 1 egg; 1 teaspoon vanilla extract; 1/2 cup all-purpose flour; 1/2 cup chopped pecans; 1/2 cup rolled oats; 1/4 cup brown sugar; 1/2 cup butter\n",
      " \n",
      "Instructions:\n",
      "Preheat oven to 400 degrees F (200 degrees C). Toss apples and blueberries in the unbaked pie crust.\n",
      "Mix 1/4 cup flour, white sugar, salt, nutmeg, and cinnamon in a bowl. Stir in yogurt, egg, and vanilla extract; pour batter over apples and blueberries.\n",
      "Combine 1/2 cup flour, pecans, oats, and brown sugar in a mixing bowl. Cut in butter with a knife or pastry blender until the mixture resembles coarse crumbs; set aside.\n",
      "Bake in preheated oven for 15 minutes; reduce heat to 350 degrees F (175 degrees C) and continue baking pie crust is lightly browned, about 30 minutes. Sprinkle crumb mixture over pie and bake until golden brown, about 15 minutes more. Cool before serving.\n",
      "\n",
      "\n",
      "Recipe Rank: 3\t Simple Blueberry Apple Pie \n",
      "\n",
      "Ingredients:\n",
      "1 1/4 cups flour, plus extra for dusting; Pinch of salt; 1 stick butter, cut into small cubes and frozen; 1/4 cup ice water; 16 ounces fresh blueberries; 2 Golden Delicious apples, cored, peeled and cut into 1/2-inch dice; 1/2 cup sugar; 1/4 cup cornstarch; 1/2 teaspoon ground cinnamon; 2 teaspoons fresh lemon juice; Pinch of salt; 2 tablespoons butter, cut into small cubes; 1 egg; 2 tablespoons turbinado sugar; Special equipment: 9-inch pie pan\n",
      " \n",
      "Instructions:\n",
      "Preheat the oven to 400 degrees F.\n",
      "For the crust: In a food processor, add the flour and a nice pinch of salt. Pulse very lightly just to blend. Add the butter evenly around the flour and quickly pulse until the flour resembles small crumbles. Slowly pour the water through the spout until the dough begins to come together. Remove and quickly form into a disc. Tightly cover with plastic wrap. Refrigerate for 20 minutes.\n",
      "Meanwhile, for the filling: In a large bowl, add the blueberries, apples, sugar, cornstarch, cinnamon, lemon juice and a pinch of salt. Stir to combine and set aside.\n",
      "Remove the dough from the refrigerator and place on a lightly floured surface. Gently roll the disc into a circle big enough to fit into the pie pan and leave a 3-inch overhang. The dough should be about 1/8-inch thick. Using a pizza cutter, trim the edges of the dough. Place the dough into the pie pan and press gently against the bottom and sides to fit the dough into the pan. Pour in the fruit filling, and then scatter the butter evenly around the top of the pie. Fold the extra dough that's hanging off the edge over the top to create the top of the pie crust. Leave a hole in the center for ventilation.\n",
      "Whisk the egg with 1 teaspoon water and brush the top with egg wash and then sprinkle with the sugar.\n",
      "Place in the oven and bake until the crust is golden brown, about 35 minutes. Let the pie rest at least an hour before serving to let the filling set.\n",
      "\n"
     ]
    }
   ],
   "source": [
    "### Only Category Weight\n",
    "query = ['apple','blueberry']\n",
    "Search_Recipes(query, query_ranked=False, recipe_range=(0,3))"
   ]
  },
  {
   "cell_type": "code",
   "execution_count": null,
   "id": "30d4d61a",
   "metadata": {},
   "outputs": [
    {
     "name": "stdout",
     "output_type": "stream",
     "text": [
      "Search Query: ['japanese']\n",
      "\n",
      "Recipe Rank: 1\t Japanese Cheesecake \n",
      "\n",
      "Ingredients:\n",
      "1 (3 ounce) package cream cheese; 1/4 cup milk; 2 egg yolks; 1/4 cup white sugar, divided; 2 egg whites; 1/3 teaspoon cream of tartar; 3 tablespoons all-purpose flour; 1 1/2 tablespoons cornstarch\n",
      " \n",
      "Instructions:\n",
      "Preheat the oven to 350 degrees F (175 degrees C). Line the bottom of a 9 inch round cake pan cake pan with parchment paper.\n",
      "Warm the cream cheese and milk in a small saucepan over medium-low heat. Cook, stirring occasionally, until cream cheese is melted. Remove from the heat and set aside.\n",
      "In a medium bowl, beat egg yolks and half of the sugar until light and fluffy using an electric mixer. Fold the cream cheese mixture into the yolks. Sift in the flour and cornstarch, and stir until blended.\n",
      "In a separate bowl, using clean beaters, whip egg whites with cream of tartar until they can hold a soft peak. Gradually sprinkle in the remaining sugar and continue whipping to stiff peaks. Fold egg whites into the cream cheese mixture. Pour into the prepared cake pan. Place the pan on a baking sheet with sides.\n",
      "Place the baking sheet with the cheesecake into the oven, and pour water into the baking sheet until it is half way full. Bake for 20 minutes in the preheated oven, then reduce the heat to 300 degrees F (150 degrees C). Continue to bake for 15 more minutes. Let the cake cool before removing from the pan.\n",
      "Run a knife around the outer edge of the cake pan, and invert onto a plate to remove the cake. Peel off the parchment paper and invert onto a serving plate so the top of the cake is on top again.\n",
      "\n",
      "\n",
      "Recipe Rank: 2\t Japanese Shrimp Sauce \n",
      "\n",
      "Ingredients:\n",
      "2 cups mayonnaise; 1/2 cup water; 1 teaspoon white sugar; 1 teaspoon paprika; 1 teaspoon garlic juice; 1 tablespoon ketchup; 1 teaspoon ground ginger; 1 teaspoon hot pepper sauce; 1 teaspoon ground mustard; 1/4 teaspoon salt; 3/4 teaspoon ground white pepper\n",
      " \n",
      "Instructions:\n",
      "Whisk mayonnaise, water, sugar, paprika, garlic juice, ketchup, ground ginger, hot pepper sauce, ground mustard, salt, and white pepper together in a bowl.\n",
      "\n",
      "\n",
      "Recipe Rank: 3\t Japanese Shrimp Sauce I \n",
      "\n",
      "Ingredients:\n",
      "1 cup mayonnaise; 3 tablespoons white sugar; 3 tablespoons rice vinegar; 2 tablespoons melted butter; 3/4 teaspoon paprika; 3/8 teaspoon garlic powder\n",
      " \n",
      "Instructions:\n",
      "In a small bowl, combine mayonnaise, white sugar, rice vinegar, melted butter, paprika and garlic powder. Mix well, cover and refrigerate.\n",
      "\n",
      "\n"
     ]
    }
   ],
   "source": [
    "### Only Category Weight\n",
    "query = ['japanese']\n",
    "Search_Recipes(query, query_ranked=False, recipe_range=(0,3))"
   ]
  },
  {
   "cell_type": "code",
   "execution_count": null,
   "id": "53652f0c",
   "metadata": {},
   "outputs": [],
   "source": []
  }
 ],
 "metadata": {
  "kernelspec": {
   "display_name": "Python 3 (ipykernel)",
   "language": "python",
   "name": "python3"
  },
  "language_info": {
   "codemirror_mode": {
    "name": "ipython",
    "version": 3
   },
   "file_extension": ".py",
   "mimetype": "text/x-python",
   "name": "python",
   "nbconvert_exporter": "python",
   "pygments_lexer": "ipython3",
   "version": "3.11.1"
  }
 },
 "nbformat": 4,
 "nbformat_minor": 5
}
